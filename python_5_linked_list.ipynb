{
 "cells": [
  {
   "cell_type": "markdown",
   "metadata": {},
   "source": [
    "# Linked List"
   ]
  },
  {
   "cell_type": "markdown",
   "metadata": {},
   "source": [
    "**Linked List:** is a collection of elements called **Nodes**, where each node consists of two parts:\n",
    "\n",
    "1. `data`\n",
    "2. `reference of the next Node in Linked List`\n",
    "\n",
    "A linked list is a linear data structure where **each element is a separate object**. Each element (that is, node) of a list consists of two items - **the data** and **a reference** to the next node. The last node has a reference to None/null.\n",
    "\n",
    "<img src=\"https://media.geeksforgeeks.org/wp-content/uploads/20220712172013/Singlelinkedlist.png\"/>\n",
    "\n",
    "Here are the important properties of a linked list:\n",
    "\n",
    "1. **Dynamic Data Structure**: Linked list is a dynamic data structure so it can grow and shrink at runtime by allocating and deallocating memeory.\n",
    "\n",
    "2. **Head and Tail**: In a linked list, the first node is called the head and the last node is called the tail.\n",
    "\n",
    "3. **LinkedList Node**: Each node in the linked list consists of two items. The first item is the data and the second item is a reference to the next node.\n",
    "\n",
    "4. **No Index**: Unlike arrays, the linked list does not have indexes. Each node is linked to the next node.\n",
    "\n",
    "5. **Singly Linked List and Doubly Linked List**: In a singly linked list, each node has a reference to the next node. In a doubly linked list, each node has a reference to both the next and previous nodes.\n",
    "\n",
    "In Python, linked lists are not built-in like lists or arrays, but we can create them using Python’s built-in classes. Here's a simple implementation of a singly linked list:"
   ]
  },
  {
   "cell_type": "code",
   "execution_count": 20,
   "metadata": {},
   "outputs": [
    {
     "name": "stdout",
     "output_type": "stream",
     "text": [
      "Memory Address:  4511201296\n",
      "Memory Address:  4511202064\n",
      "<__main__.Node object at 0x10ce37810>\n"
     ]
    }
   ],
   "source": [
    "class Node:\n",
    "    def __init__(self, data) -> None:\n",
    "        self.data = data\n",
    "        self.next = None\n",
    "        print(\"Memory Address: \",id(self))\n",
    "\n",
    "a = Node(data=5)\n",
    "b = Node(data=8)\n",
    "a.next = b\n",
    "print(a)"
   ]
  },
  {
   "cell_type": "code",
   "execution_count": 19,
   "metadata": {},
   "outputs": [
    {
     "name": "stdout",
     "output_type": "stream",
     "text": [
      "5\n",
      "<__main__.Node object at 0x10ce15410>\n",
      "8\n"
     ]
    }
   ],
   "source": [
    "print(a.data)\n",
    "print(a.next)\n",
    "print(a.next.data)"
   ]
  },
  {
   "cell_type": "markdown",
   "metadata": {},
   "source": [
    "**1. Create a Linked List for list and print them.**"
   ]
  },
  {
   "cell_type": "code",
   "execution_count": 59,
   "metadata": {},
   "outputs": [],
   "source": [
    "class Node:\n",
    "    def __init__(self, data) -> None:\n",
    "        self.data = data\n",
    "        self.next = None"
   ]
  },
  {
   "cell_type": "code",
   "execution_count": 98,
   "metadata": {},
   "outputs": [
    {
     "name": "stdout",
     "output_type": "stream",
     "text": [
      "<__main__.Node object at 0x10f506750>\n"
     ]
    }
   ],
   "source": [
    "L = [1,2,3,4]\n",
    "\n",
    "def linked_list(L) -> 'Node':\n",
    "    head = None\n",
    "    for i in L:\n",
    "        new_node = Node(data=i)\n",
    "        if head is None:\n",
    "            head = new_node\n",
    "        else:\n",
    "            curr = head\n",
    "            # While the last element (Node) is present\n",
    "            while curr.next:\n",
    "                curr = curr.next\n",
    "            curr.next = new_node\n",
    "    return head\n",
    "\n",
    "result = linked_list(L=L)\n",
    "print(result)"
   ]
  },
  {
   "cell_type": "code",
   "execution_count": 99,
   "metadata": {},
   "outputs": [],
   "source": [
    "def print_linked_list(head:'Node'):\n",
    "    curr = head\n",
    "    while curr:\n",
    "        print(curr.data, \"-->\", end=\"\")\n",
    "        curr = curr.next\n",
    "    print(None) "
   ]
  },
  {
   "cell_type": "code",
   "execution_count": 100,
   "metadata": {},
   "outputs": [
    {
     "name": "stdout",
     "output_type": "stream",
     "text": [
      "1 -->2 -->3 -->4 -->5 -->None\n"
     ]
    }
   ],
   "source": [
    "result = linked_list(L=[1,2,3,4,5])\n",
    "print_linked_list(head=result)"
   ]
  },
  {
   "cell_type": "markdown",
   "metadata": {},
   "source": [
    "**2. Print the Last Node Data of a Linked List.**"
   ]
  },
  {
   "cell_type": "code",
   "execution_count": 92,
   "metadata": {},
   "outputs": [
    {
     "data": {
      "text/plain": [
       "5"
      ]
     },
     "execution_count": 92,
     "metadata": {},
     "output_type": "execute_result"
    }
   ],
   "source": [
    "result = linked_list(L=[1,2,3,4,5])\n",
    "\n",
    "def print_last_node(head:'Node'):\n",
    "    if head is None:\n",
    "        return None\n",
    "    \n",
    "    curr = head\n",
    "    # While the last element (Node) is present\n",
    "    while curr.next:\n",
    "        curr = curr.next\n",
    "    return curr.data\n",
    "\n",
    "print_last_node(head=result)"
   ]
  },
  {
   "cell_type": "markdown",
   "metadata": {},
   "source": [
    "**3. Print the Second Last Node Data of a Linked List.**"
   ]
  },
  {
   "cell_type": "code",
   "execution_count": 91,
   "metadata": {},
   "outputs": [
    {
     "data": {
      "text/plain": [
       "4"
      ]
     },
     "execution_count": 91,
     "metadata": {},
     "output_type": "execute_result"
    }
   ],
   "source": [
    "result = linked_list(L=[1,2,3,4,5])\n",
    "\n",
    "def print_second_last_node(head:'Node'):\n",
    "    if head is None or head.next is None:\n",
    "        return None\n",
    "    \n",
    "    curr = head\n",
    "    # While the second last element (Node) is present\n",
    "    while curr.next.next:\n",
    "        # Move to the next element (Node)\n",
    "        curr = curr.next\n",
    "    return curr.data\n",
    "\n",
    "print_second_last_node(head=result)"
   ]
  },
  {
   "cell_type": "markdown",
   "metadata": {},
   "source": [
    "**4. Find the Length of a Linked List.**"
   ]
  },
  {
   "cell_type": "code",
   "execution_count": 81,
   "metadata": {},
   "outputs": [
    {
     "data": {
      "text/plain": [
       "5"
      ]
     },
     "execution_count": 81,
     "metadata": {},
     "output_type": "execute_result"
    }
   ],
   "source": [
    "result = linked_list(L=[1,2,3,4,5])\n",
    "\n",
    "def length_of_linked_list(head:'Node'):\n",
    "    if head is None:\n",
    "        return 0\n",
    "    \n",
    "    curr = head\n",
    "    count = 0\n",
    "    # Traversing the Linked List\n",
    "    while curr:\n",
    "        count += 1\n",
    "        # Move to the next element (Node)\n",
    "        curr = curr.next \n",
    "    return count\n",
    "\n",
    "length_of_linked_list(head=result)"
   ]
  },
  {
   "cell_type": "markdown",
   "metadata": {},
   "source": [
    "**5. Search an Element in a Linked List.**"
   ]
  },
  {
   "cell_type": "code",
   "execution_count": 89,
   "metadata": {},
   "outputs": [
    {
     "data": {
      "text/plain": [
       "True"
      ]
     },
     "execution_count": 89,
     "metadata": {},
     "output_type": "execute_result"
    }
   ],
   "source": [
    "result = linked_list(L=[1,2,3,4,5])\n",
    "\n",
    "def search_linked_list(element, head:'Node'):\n",
    "    if head is None:\n",
    "        return None\n",
    "    curr = head\n",
    "    while curr:\n",
    "        if element == curr.data:\n",
    "            return True\n",
    "        # Move to the next element (Node)\n",
    "        curr = curr.next\n",
    "    return False # if the execution comes in this line means the element is not present\n",
    "\n",
    "search_linked_list(element=3, head=result)"
   ]
  },
  {
   "cell_type": "markdown",
   "metadata": {},
   "source": [
    "**6. Reverse a Linked List.**"
   ]
  },
  {
   "cell_type": "code",
   "execution_count": 110,
   "metadata": {},
   "outputs": [
    {
     "name": "stdout",
     "output_type": "stream",
     "text": [
      "11 -->12 -->13 -->14 -->15 -->None\n",
      "15 -->14 -->13 -->12 -->11 -->None\n"
     ]
    }
   ],
   "source": [
    "result = linked_list(L=[11, 12, 13, 14, 15])\n",
    "print_linked_list(head=result)\n",
    "\n",
    "def reverse_a_linked_list(head):\n",
    "    if head is None or head.next is None:\n",
    "        return head\n",
    "\n",
    "    curr:'Node' = head\n",
    "    prev = None\n",
    "    while curr:\n",
    "        next_node = curr.next\n",
    "        curr.next = prev\n",
    "        prev = curr\n",
    "        curr = next_node\n",
    "    head = prev\n",
    "    return head\n",
    "\n",
    "reversed_ll = reverse_a_linked_list(head=result)\n",
    "print_linked_list(head=reversed_ll)"
   ]
  },
  {
   "cell_type": "markdown",
   "metadata": {},
   "source": [
    "**6. Insert an element at the Begining of Linked List.**"
   ]
  },
  {
   "cell_type": "code",
   "execution_count": 115,
   "metadata": {},
   "outputs": [
    {
     "name": "stdout",
     "output_type": "stream",
     "text": [
      "11 -->12 -->13 -->14 -->15 -->None\n",
      "10 -->11 -->12 -->13 -->14 -->15 -->None\n"
     ]
    }
   ],
   "source": [
    "result = linked_list(L=[11, 12, 13, 14, 15])\n",
    "print_linked_list(head=result)\n",
    "\n",
    "def insert_element_at_begining_of_ll(head, x):\n",
    "    new_node = Node(data=x)\n",
    "    new_node.next = head\n",
    "    head = new_node\n",
    "    return head\n",
    "\n",
    "new_result = insert_element_at_begining_of_ll(head=result, x=10)\n",
    "print_linked_list(head=new_result)"
   ]
  },
  {
   "cell_type": "markdown",
   "metadata": {},
   "source": [
    "**7. Insert an element at the End of Linked List.**"
   ]
  },
  {
   "cell_type": "code",
   "execution_count": 114,
   "metadata": {},
   "outputs": [
    {
     "name": "stdout",
     "output_type": "stream",
     "text": [
      "11 -->12 -->13 -->14 -->15 -->None\n",
      "11 -->12 -->13 -->14 -->15 -->10 -->None\n"
     ]
    }
   ],
   "source": [
    "result = linked_list(L=[11, 12, 13, 14, 15])\n",
    "print_linked_list(head=result)\n",
    "\n",
    "def insert_element_at_end_of_ll(head, x):\n",
    "    new_node = Node(data=x)\n",
    "    if head is None:\n",
    "        head = new_node\n",
    "        return head\n",
    "    \n",
    "    curr = head\n",
    "    while curr.next:\n",
    "        curr = curr.next\n",
    "    curr.next = new_node\n",
    "    return head\n",
    "\n",
    "new_result = insert_element_at_end_of_ll(head=result, x=10)\n",
    "print_linked_list(head=new_result)"
   ]
  },
  {
   "cell_type": "code",
   "execution_count": null,
   "metadata": {},
   "outputs": [],
   "source": []
  },
  {
   "cell_type": "code",
   "execution_count": null,
   "metadata": {},
   "outputs": [],
   "source": []
  }
 ],
 "metadata": {
  "kernelspec": {
   "display_name": "Python 3",
   "language": "python",
   "name": "python3"
  },
  "language_info": {
   "codemirror_mode": {
    "name": "ipython",
    "version": 3
   },
   "file_extension": ".py",
   "mimetype": "text/x-python",
   "name": "python",
   "nbconvert_exporter": "python",
   "pygments_lexer": "ipython3",
   "version": "3.11.7"
  }
 },
 "nbformat": 4,
 "nbformat_minor": 2
}
