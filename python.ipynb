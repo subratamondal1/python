{
 "cells": [
  {
   "cell_type": "markdown",
   "metadata": {},
   "source": [
    "# Introduction "
   ]
  },
  {
   "cell_type": "markdown",
   "metadata": {},
   "source": [
    "## Overview\n",
    "**`Python`** is a **high-level**, **general-purpose** programming language. Its design philosophy emphasizes **code readability** with the use of significant indentation.\n",
    "\n",
    "Python is **dynamically typed** and **garbage-collected**. It supports **multiple programming paradigms**, including structured (particularly **procedural**), **object-oriented** and **functional programming**. It is often described as a `\"batteries included\"` language due to its comprehensive standard library.\n",
    "\n",
    "**Guido van Rossum** began working on Python in the **late 1980s** as a successor to the **ABC programming language** and first released it in **`1991 as Python 0.9.0`**. Python 2.0 was released in 2000. Python 3.0, released in 2008, was a major revision not completely backward-compatible with earlier versions. Python 2.7.18, released in 2020, was the last release of Python 2.\n",
    "\n",
    "Python consistently ranks as one of the most popular programming languages, and has gained widespread use in the machine learning community.\n",
    "\n",
    "Python is inspired from various languages for its features such as:\n",
    "\n",
    "- **Syntax:** C & ABC\n",
    "- **Functional programming:** C\n",
    "- **Object-oriented programming (OOP):** C++\n",
    "- **Scripting:** Perl & shell script\n",
    "- **Modular programming:** Modulo-3"
   ]
  },
  {
   "cell_type": "markdown",
   "metadata": {},
   "source": [
    "> - In Python, everything is an **object**, and each object is an instance of a class. This means that even basic data types like integers, strings, and lists are objects, and they have attributes and methods associated with them. For example, a string object has methods like `upper()` and `split()`, which allow you to manipulate the string.\n",
    "\n",
    "> - An **identifier**, or **variable**, in Python refers to a memory address where the value is stored. When you create a variable and assign a value to it, Python creates an object of the appropriate type and stores the value in the memory. The variable then points to this memory location, allowing you to access the value stored there. You can see the memory address using `id()`.\n"
   ]
  },
  {
   "cell_type": "code",
   "execution_count": 13,
   "metadata": {},
   "outputs": [
    {
     "name": "stdout",
     "output_type": "stream",
     "text": [
      "Memory address of the identifier 'name':\n",
      "4613830384\n"
     ]
    }
   ],
   "source": [
    "name = \"Subrata Mondal\"\n",
    "\n",
    "print(\"Memory address of the identifier 'name':\")\n",
    "print(id(name))"
   ]
  },
  {
   "cell_type": "markdown",
   "metadata": {},
   "source": [
    "## Features of Python\n",
    "\n",
    "1. **Interpreted Language**: Python is an interpreted language, which means it executes the code line by line, making it easier to debug and test code.\n",
    "2. **Dynamically Typed**: Python is dynamically typed, which means you don't have to declare the data types of variables explicitly. This makes coding more flexible and faster.\n",
    "3. **Object-Oriented**: Python supports object-oriented programming (OOP), allowing for code reuse, data encapsulation, and modularity.\n",
    "4. **High-Level Language**: Python is a high-level language, which means it abstracts away low-level details and focuses on the programming logic, making it easier to read and write code.\n",
    "5. **Extensive Libraries**: Python has a vast collection of built-in and third-party libraries and modules, making it easy to perform various tasks without reinventing the wheel.\n",
    "6. **Portable**: Python code can run on multiple platforms (Windows, macOS, Linux) with minimal or no changes, thanks to its cross-platform compatibility."
   ]
  },
  {
   "cell_type": "markdown",
   "metadata": {},
   "source": [
    "## Applications of Python:\n",
    "\n",
    "1. **Web Development**: Python is widely used for building web applications and frameworks like Django, Flask, Fastapi and Pyramid.\n",
    "2. **Data Analysis and Scientific Computing**: Python is extensively used in data analysis, machine learning, and scientific computing with libraries like NumPy, Pandas, Matplotlib, and SciPy.\n",
    "3. **Artificial Intelligence and Machine Learning**: Python has become a popular choice for AI and ML projects due to its simplicity and powerful libraries like TensorFlow, Keras, and Scikit-learn.\n",
    "4. **Automation and Scripting**: Python's simplicity and readability make it an excellent choice for automating tasks and writing scripts for system administration, web scraping, and more.\n",
    "5. **Game Development**: Python is used for developing games with libraries like Pygame, PyOpenGL, and Panda3D.\n",
    "6. **Desktop Applications**: Python can be used to create desktop applications with libraries like Tkinter, PyQt, and wxPython."
   ]
  },
  {
   "cell_type": "markdown",
   "metadata": {},
   "source": [
    "## Limitations of Python:\n",
    "\n",
    "1. **Speed**: Python is an interpreted language, which makes it slower than compiled languages like C or C++ for certain tasks, especially those involving heavy computation or low-level operations.\n",
    "2. **Mobile Development**: While Python can be used for mobile development, it is not as widely adopted as languages like Java (Android) or Swift/Objective-C (iOS) in the mobile development ecosystem.\n",
    "3. **Threading Issues**: Python's Global Interpreter Lock (GIL) can introduce performance issues when dealing with multi-threaded applications that involve CPU-bound tasks.\n",
    "4. **Memory Consumption**: Python's dynamic memory allocation and garbage collection can lead to higher memory consumption compared to languages like C or C++, especially for large applications or systems with limited memory resources.\n",
    "5. **Database Access**: While Python provides libraries for database access (e.g., SQLAlchemy), some developers find the Object-Relational Mapping (ORM) layer to be more complex compared to direct SQL access in other languages."
   ]
  },
  {
   "cell_type": "markdown",
   "metadata": {},
   "source": [
    "## Identifiers\n",
    "\n",
    "In Python, **identifiers are names** used to identify variables, functions, classes, modules, and other entities. Identifiers are an essential part of writing code as they help in organizing and referencing different elements within a program. Python has specific rules and conventions for naming identifiers, which are as follows:\n",
    "\n",
    "1. **Valid Characters**: Identifiers in Python can consist of letters (uppercase and lowercase), digits, and underscores (`_`). However, they **must start with a letter or an underscore**, and cannot begin with a digit.\n",
    "\n",
    "2. **Case Sensitivity**: Python identifiers are case-sensitive, meaning that `myVariable` and `MyVariable` are treated as different identifiers.\n",
    "\n",
    "3. **Naming Conventions**:\n",
    "   - Variable names should be descriptive and use lowercase with words separated by underscores (e.g., `my_variable`).\n",
    "   - Function and method names should be lowercase with words separated by underscores (e.g., `my_function`).\n",
    "   - Class names should follow the CapWords convention, where each word starts with a capital letter (e.g., `MyClass`).\n",
    "   - Constants (variables whose values do not change) are typically named with all uppercase letters and words separated by underscores (e.g., `CONSTANT_VALUE`).\n",
    "\n",
    "4. **Reserved Words**: Python has a set of reserved words or keywords that cannot be used as identifiers. These keywords have special meanings in the language and are used for specific purposes. Some examples of reserved words in Python are `and`, `if`, `else`, `for`, `while`, `import`, `class`, `def`, and `return`.\n",
    "\n",
    "5. **Length**: There is no specific limit on the length of an identifier in Python, but it is recommended to keep them reasonably short and descriptive for better code readability and maintenance.\n",
    "\n",
    "6. **Special Identifiers**:\n",
    "   - Identifiers starting and ending with two underscores (e.g., `__my_variable__`) are reserved for special purposes in Python, such as name mangling in classes.\n",
    "   - A single underscore at the beginning of an identifier (e.g., `_my_variable`) is often used to indicate that the variable or function is intended for internal use and should be treated as **private**.\n",
    "   - A single underscore at the end of an identifier (e.g., `my_variable_`) is sometimes used to avoid naming conflicts with reserved words or built-in functions.\n",
    "\n",
    "Here are some examples of valid and invalid identifiers in Python:\n",
    "\n",
    "```python\n",
    "# Valid identifiers\n",
    "my_variable = 10\n",
    "MyClass = 'Hello'\n",
    "_internal_function = lambda x: x**2\n",
    "CONSTANT_VALUE = 3.14\n",
    "\n",
    "# Invalid identifiers\n",
    "# 1my_variable = 20  # Starts with a digit\n",
    "# my-variable = 30   # Contains an invalid character\n",
    "# for = 'keyword'    # Reserved word\n",
    "```"
   ]
  },
  {
   "cell_type": "code",
   "execution_count": 14,
   "metadata": {},
   "outputs": [],
   "source": [
    "my_variable = 10\n",
    "MyClass = 'Hello'\n",
    "_internal_function = lambda x: x**2\n",
    "CONSTANT_VALUE = 3.14"
   ]
  },
  {
   "cell_type": "markdown",
   "metadata": {},
   "source": [
    "## Fundamental DataTypes\n",
    "\n",
    "1. **Numeric Types**:\n",
    "   - `int` (integer): Represents whole numbers, such as `42`, `-7`, and `0`.\n",
    "   - `float` (floating-point number): Represents decimal numbers, such as `3.14`, `-0.5`, and `6.023e23`.\n",
    "   - `complex` (complex number): Represents complex numbers, such as `3+4j` and `-2-5j`."
   ]
  },
  {
   "cell_type": "code",
   "execution_count": 19,
   "metadata": {},
   "outputs": [
    {
     "name": "stdout",
     "output_type": "stream",
     "text": [
      "42 <class 'int'>\n",
      "42.0 <class 'float'>\n",
      "(2+5j) <class 'complex'>\n"
     ]
    }
   ],
   "source": [
    "print(42, type(42))\n",
    "print(42.0, type(42.0))\n",
    "print(2+5j, type(2+5j))"
   ]
  },
  {
   "cell_type": "markdown",
   "metadata": {},
   "source": [
    "2. **Boolean Type**:\n",
    "   - `bool`: Represents either `True` or `False` values."
   ]
  },
  {
   "cell_type": "code",
   "execution_count": 20,
   "metadata": {},
   "outputs": [
    {
     "name": "stdout",
     "output_type": "stream",
     "text": [
      "True <class 'bool'>\n"
     ]
    }
   ],
   "source": [
    "print(True, type(True))"
   ]
  },
  {
   "cell_type": "markdown",
   "metadata": {},
   "source": [
    "3. **Sequence Types**:\n",
    "   - `str` (string): Represents a sequence of characters, such as `\"Hello, World!\"` and `'Python'`.\n",
    "   - `list`: Represents an **ordered collection** of items, such as `[1, 2, 3]` and `[\"apple\", \"banana\", \"cherry\"]`.\n",
    "   - `tuple`: Represents an **ordered, immutable collection** of items, such as `(1, 2, 3)` and `(\"red\", \"green\", \"blue\")`.\n",
    "   - `range`: Represents an **immutable** sequence of numbers, often used in loops."
   ]
  },
  {
   "cell_type": "code",
   "execution_count": 24,
   "metadata": {},
   "outputs": [
    {
     "name": "stdout",
     "output_type": "stream",
     "text": [
      "Hello World <class 'str'>\n",
      "[1, 2, 3] <class 'list'>\n",
      "(1, 2, 3) <class 'tuple'>\n",
      "range(1, 4) <class 'range'>\n"
     ]
    }
   ],
   "source": [
    "print(\"Hello World\", type(\"Hello World\"))\n",
    "print([1,2,3], type([1,2,3]))\n",
    "print((1,2,3), type((1,2,3)))\n",
    "print(range(1,4), type(range(1,4)))"
   ]
  },
  {
   "cell_type": "markdown",
   "metadata": {},
   "source": [
    "4. **Mapping Type**:\n",
    "   - `dict` (dictionary): Represents an **unordered collection** of key-value pairs, such as `{\"name\": \"Alice\", \"age\": 25}`."
   ]
  },
  {
   "cell_type": "code",
   "execution_count": 25,
   "metadata": {},
   "outputs": [
    {
     "name": "stdout",
     "output_type": "stream",
     "text": [
      "{'A': 12, 'B': 32} <class 'dict'>\n"
     ]
    }
   ],
   "source": [
    "print({\"A\":12, \"B\":32}, type({\"A\":12, \"B\":32}))"
   ]
  },
  {
   "cell_type": "markdown",
   "metadata": {},
   "source": [
    "5. **Set Types**:\n",
    "   - `set`: Represents an **unordered collection** of **unique** elements, such as `{1, 2, 3}` and `{\"apple\", \"banana\", \"cherry\"}`.\n",
    "   - `frozenset`: Represents an immutable set."
   ]
  },
  {
   "cell_type": "code",
   "execution_count": 26,
   "metadata": {},
   "outputs": [
    {
     "name": "stdout",
     "output_type": "stream",
     "text": [
      "{1, 2, 3} <class 'set'>\n"
     ]
    }
   ],
   "source": [
    "print({1, 2, 3}, type({1, 2, 3}))"
   ]
  },
  {
   "cell_type": "markdown",
   "metadata": {},
   "source": [
    "6. **Binary Types**:\n",
    "   - `bytes`: Represents an **immutable sequence** of bytes, often used for handling binary data.\n",
    "   - `bytearray`: Represents a **mutable sequence** of bytes.\n",
    "   - `memoryview`: Represents a **memory view** of bytes-like objects, providing a flexible way to access and manipulate binary data."
   ]
  },
  {
   "cell_type": "code",
   "execution_count": 29,
   "metadata": {},
   "outputs": [
    {
     "name": "stdout",
     "output_type": "stream",
     "text": [
      "b'Hello, World!'\n",
      "b'Hello, World!'\n"
     ]
    }
   ],
   "source": [
    "# Creating bytes from a string\n",
    "data = b\"Hello, World!\"\n",
    "print(data)  # Output: b'Hello, World!'\n",
    "\n",
    "# Creating bytes from an iterable of integers\n",
    "data = bytes([72, 101, 108, 108, 111, 44, 32, 87, 111, 114, 108, 100, 33])\n",
    "print(data)  # Output: b'Hello, World!'"
   ]
  },
  {
   "cell_type": "code",
   "execution_count": 30,
   "metadata": {},
   "outputs": [
    {
     "name": "stdout",
     "output_type": "stream",
     "text": [
      "bytearray(b'Hello, World!')\n",
      "bytearray(b'Jello, World!')\n",
      "bytearray(b'Jello, World!!!')\n"
     ]
    }
   ],
   "source": [
    "# Creating a bytearray from a string\n",
    "data = bytearray(b\"Hello, World!\")\n",
    "print(data)  # Output: bytearray(b'Hello, World!')\n",
    "\n",
    "# Modifying byte values\n",
    "data[0] = 74  # Replace 'H' with 'J'\n",
    "print(data)  # Output: bytearray(b'Jello, World!')\n",
    "\n",
    "# Appending bytes\n",
    "data.extend(b\"!!\")\n",
    "print(data)  # Output: bytearray(b'Jello, World!!!')"
   ]
  },
  {
   "cell_type": "code",
   "execution_count": 32,
   "metadata": {},
   "outputs": [
    {
     "name": "stdout",
     "output_type": "stream",
     "text": [
      "<memory at 0x110efca00>\n",
      "72\n",
      "bytearray(b'Jython')\n"
     ]
    }
   ],
   "source": [
    "# Creating a memoryview from a bytes object\n",
    "data = b\"Hello, World!\"\n",
    "view = memoryview(data)\n",
    "print(view)  # Output: <memory at 0x7f4c1c0b8b48>\n",
    "\n",
    "# Accessing byte values\n",
    "print(view[0])  # Output: 72\n",
    "\n",
    "# Modifying byte values (only for mutable byte-like objects)\n",
    "another_data = bytearray(b\"Python\")\n",
    "view = memoryview(another_data)\n",
    "view[0] = 74  # Replace 'P' with 'J'\n",
    "print(another_data)  # Output: bytearray(b'Jython')"
   ]
  },
  {
   "cell_type": "markdown",
   "metadata": {},
   "source": [
    "7. **None Type**:\n",
    "   - `None`: Represents a null value or the absence of a value."
   ]
  },
  {
   "cell_type": "code",
   "execution_count": 27,
   "metadata": {},
   "outputs": [
    {
     "name": "stdout",
     "output_type": "stream",
     "text": [
      "None <class 'NoneType'>\n"
     ]
    }
   ],
   "source": [
    "print(None, type(None))"
   ]
  },
  {
   "cell_type": "markdown",
   "metadata": {},
   "source": [
    "## Number Systems\n",
    "\n",
    "Python provides several built-in functions and syntax to work with different number systems, such as **decimal, binary, octal**, and **hexadecimal**.\n",
    "\n",
    "1. **Decimal (Base 10)**:\n",
    "This is the default number system used in Python. Integer and float literals are represented in decimal form."
   ]
  },
  {
   "cell_type": "code",
   "execution_count": 34,
   "metadata": {},
   "outputs": [],
   "source": [
    "a = 42  # Decimal integer\n",
    "b = 3.14  # Decimal float"
   ]
  },
  {
   "cell_type": "markdown",
   "metadata": {},
   "source": [
    "2. **Binary (Base 2)**:\n",
    "To represent binary numbers in Python, you can use the `0b` or `0B` prefix followed by the binary digits (0 and 1).\n",
    "\n",
    "```python\n",
    "a = 0b101010  # Binary integer: 42\n",
    "b = 0B11  # Binary integer: 3\n",
    "```"
   ]
  },
  {
   "cell_type": "code",
   "execution_count": 36,
   "metadata": {},
   "outputs": [
    {
     "name": "stdout",
     "output_type": "stream",
     "text": [
      "42\n",
      "3\n"
     ]
    }
   ],
   "source": [
    "print(0b101010)  # Binary integer: 42\n",
    "print(0B11)  # Binary integer: 3"
   ]
  },
  {
   "cell_type": "markdown",
   "metadata": {},
   "source": [
    "You can convert an integer to its binary string representation using the `bin()` function.\n"
   ]
  },
  {
   "cell_type": "code",
   "execution_count": 40,
   "metadata": {},
   "outputs": [
    {
     "name": "stdout",
     "output_type": "stream",
     "text": [
      "0b101010\n",
      "0b11\n"
     ]
    }
   ],
   "source": [
    "print(bin(42)) # Returns '0b101010'\n",
    "print(bin(3))  # Returns '0b11'"
   ]
  },
  {
   "cell_type": "markdown",
   "metadata": {},
   "source": [
    "3. **Octal (Base 8)**:\n",
    "To represent octal numbers in Python, you can use the `0o` or `0O` prefix followed by the octal digits (0 to 7)."
   ]
  },
  {
   "cell_type": "code",
   "execution_count": 41,
   "metadata": {},
   "outputs": [
    {
     "name": "stdout",
     "output_type": "stream",
     "text": [
      "42\n",
      "3\n"
     ]
    }
   ],
   "source": [
    "print(0o52)  # Octal integer: 42\n",
    "print(0O3)  # Octal integer: 3"
   ]
  },
  {
   "cell_type": "markdown",
   "metadata": {},
   "source": [
    "You can convert an integer to its octal string representation using the `oct()` function."
   ]
  },
  {
   "cell_type": "code",
   "execution_count": 42,
   "metadata": {},
   "outputs": [
    {
     "name": "stdout",
     "output_type": "stream",
     "text": [
      "0o52\n",
      "0o3\n"
     ]
    }
   ],
   "source": [
    "print(oct(42)) # Returns '0o52'\n",
    "print(oct(3))  # Returns '0o3'"
   ]
  },
  {
   "cell_type": "markdown",
   "metadata": {},
   "source": [
    "4. **Hexadecimal (Base 16)**:\n",
    "To represent hexadecimal numbers in Python, you can use the `0x` or `0X` prefix followed by the hexadecimal digits (0 to 9, A to F, or a to f)."
   ]
  },
  {
   "cell_type": "code",
   "execution_count": 43,
   "metadata": {},
   "outputs": [
    {
     "name": "stdout",
     "output_type": "stream",
     "text": [
      "42\n",
      "3\n"
     ]
    }
   ],
   "source": [
    "print(0x2A)  # Hexadecimal integer: 42\n",
    "print(0X3)  # Hexadecimal integer: 3"
   ]
  },
  {
   "cell_type": "markdown",
   "metadata": {},
   "source": [
    "You can convert an integer to its hexadecimal string representation using the `hex()` function."
   ]
  },
  {
   "cell_type": "code",
   "execution_count": 44,
   "metadata": {},
   "outputs": [
    {
     "name": "stdout",
     "output_type": "stream",
     "text": [
      "0x2a\n",
      "0x3\n"
     ]
    }
   ],
   "source": [
    "print(hex(42)) # Returns '0x2a'\n",
    "print(hex(3)) # Returns '0x3'"
   ]
  },
  {
   "cell_type": "markdown",
   "metadata": {},
   "source": [
    "5. **Bitwise Operations**:\n",
    "Python provides bitwise operators to perform operations on binary representations of integers. These operators include `&` (bitwise AND), `|` (bitwise OR), `^` (bitwise XOR), `~` (bitwise NOT), `<<` (left shift), and `>>` (right shift)."
   ]
  },
  {
   "cell_type": "code",
   "execution_count": 46,
   "metadata": {},
   "outputs": [
    {
     "name": "stdout",
     "output_type": "stream",
     "text": [
      "8\n",
      "14\n",
      "6\n",
      "-11\n",
      "40\n",
      "6\n"
     ]
    }
   ],
   "source": [
    "a = 0b1010  # Binary: 10\n",
    "b = 0b1100  # Binary: 12\n",
    "\n",
    "print(a & b)  # Bitwise AND: 0b1000 (8)\n",
    "print(a | b)  # Bitwise OR: 0b1110 (14)\n",
    "print(a ^ b)  # Bitwise XOR: 0b0110 (6)\n",
    "print(~a)  # Bitwise NOT: -0b1011 (-11)\n",
    "print(a << 2)  # Left shift: 0b10100 (20)\n",
    "print(b >> 1)  # Right shift: 0b0110 (6)"
   ]
  },
  {
   "cell_type": "code",
   "execution_count": null,
   "metadata": {},
   "outputs": [],
   "source": []
  }
 ],
 "metadata": {
  "kernelspec": {
   "display_name": "Python 3",
   "language": "python",
   "name": "python3"
  },
  "language_info": {
   "codemirror_mode": {
    "name": "ipython",
    "version": 3
   },
   "file_extension": ".py",
   "mimetype": "text/x-python",
   "name": "python",
   "nbconvert_exporter": "python",
   "pygments_lexer": "ipython3",
   "version": "3.11.7"
  }
 },
 "nbformat": 4,
 "nbformat_minor": 2
}
