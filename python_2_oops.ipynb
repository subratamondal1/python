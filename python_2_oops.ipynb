{
 "cells": [
  {
   "cell_type": "markdown",
   "metadata": {},
   "source": [
    "# Classes & Objects\n",
    "A **class** is a blueprint, idea, design and planning that we use as a reference to create the actual **object**. For example: A class is like a Teacher which denotes a group, idea or blueprint and the actual teacher like Pankaj Sir would be the object that uses the Teacher Class as a blueprint.\n",
    "\n",
    "How many objects can be created from a single Class?\n",
    "- **Any number** of objects can be created.\n",
    "\n",
    "**Reference Variable:** is a variable that `refers to an object in memory`. **In Python, you don't explicitly create reference variables. Instead, when you assign an object to a variable, that variable becomes a reference to the object.**\n",
    "\n",
    "When you call the Class like this `Teacher()` then the Class only creates a reference in the Memory (it creates an instance of the class i.e., an object). However, this object is not assigned to any variable, so it's not accessible and will be eventually garbage collected by Python\n",
    "\n",
    "When you assign this object to a variable, like `pankaj_sir = Teacher()`, the variable `pankaj_sir` becomes a reference to the object in memory. Now, you can use this reference variable to access the attributes and methods of the object.\n"
   ]
  },
  {
   "cell_type": "code",
   "execution_count": 1,
   "metadata": {},
   "outputs": [],
   "source": [
    "class Teacher:\n",
    "    \"\"\"Blueprint for Teacher Class\"\"\""
   ]
  },
  {
   "cell_type": "code",
   "execution_count": 2,
   "metadata": {},
   "outputs": [
    {
     "name": "stdout",
     "output_type": "stream",
     "text": [
      "Blueprint for Teacher Class\n"
     ]
    }
   ],
   "source": [
    "print(Teacher.__doc__) # Class Docstring"
   ]
  },
  {
   "cell_type": "code",
   "execution_count": 3,
   "metadata": {},
   "outputs": [
    {
     "name": "stdout",
     "output_type": "stream",
     "text": [
      "Memory address:  4615026384\n"
     ]
    }
   ],
   "source": [
    "print(\"Memory address: \", id(Teacher()))"
   ]
  },
  {
   "cell_type": "markdown",
   "metadata": {},
   "source": [
    "# Python Constructor\n",
    "The `__init__()` method is the constructor in Python. The `__init__()` method is called when an object is created from a class and it allows the class to initialize the attributes of the class.\n",
    "\n",
    "When we call the Class like this `Teacher()` it creates a reference or instance or object in the memory but along with it whatever we put inside the constructor is also get automatically executed."
   ]
  },
  {
   "cell_type": "code",
   "execution_count": 4,
   "metadata": {},
   "outputs": [],
   "source": [
    "class Teacher:\n",
    "    \"\"\"Blueprint for Teacher Class with a Constructor\"\"\"\n",
    "\n",
    "    def __init__(self) -> None:\n",
    "        print(\"Constructor got executed automatically on calling the Class like this 'Teacher()'\")"
   ]
  },
  {
   "cell_type": "code",
   "execution_count": 5,
   "metadata": {},
   "outputs": [
    {
     "name": "stdout",
     "output_type": "stream",
     "text": [
      "Constructor got executed automatically on calling the Class like this 'Teacher()'\n"
     ]
    },
    {
     "data": {
      "text/plain": [
       "<__main__.Teacher at 0x11315e6d0>"
      ]
     },
     "execution_count": 5,
     "metadata": {},
     "output_type": "execute_result"
    }
   ],
   "source": [
    "Teacher()"
   ]
  },
  {
   "cell_type": "code",
   "execution_count": 6,
   "metadata": {},
   "outputs": [
    {
     "name": "stdout",
     "output_type": "stream",
     "text": [
      "Blueprint for Teacher Class with a Constructor\n"
     ]
    }
   ],
   "source": [
    "print(Teacher.__doc__)"
   ]
  },
  {
   "cell_type": "markdown",
   "metadata": {},
   "source": [
    "# Attributes & Methods\n",
    "\n",
    "**Attributes** are the `variables/state` that we use inside the class to store data.\n",
    "\n",
    "**Methods** are the `functions/action` that we use inside the class to modify the data or to perform some action."
   ]
  },
  {
   "cell_type": "code",
   "execution_count": 7,
   "metadata": {},
   "outputs": [],
   "source": [
    "class Teacher:\n",
    "    \"\"\"Blueprint for Teacher Class with attributes, methods and constructor\"\"\"\n",
    "    def __init__(self) -> None:\n",
    "        self.name = \"Pankaj\"\n",
    "        self.subject = \"Python\"\n",
    "        print(\"Hi I am the Constructor again and got executed automatically :)\")\n",
    "    \n",
    "    def speak(self) -> None:\n",
    "        print(f\"Hi, I am Mr. {self.name} and I teach {self.subject}\")"
   ]
  },
  {
   "cell_type": "code",
   "execution_count": 8,
   "metadata": {},
   "outputs": [
    {
     "name": "stdout",
     "output_type": "stream",
     "text": [
      "Hi I am the Constructor again and got executed automatically :)\n"
     ]
    },
    {
     "data": {
      "text/plain": [
       "<__main__.Teacher at 0x113175c10>"
      ]
     },
     "execution_count": 8,
     "metadata": {},
     "output_type": "execute_result"
    }
   ],
   "source": [
    "Teacher()"
   ]
  },
  {
   "cell_type": "code",
   "execution_count": 9,
   "metadata": {},
   "outputs": [
    {
     "name": "stdout",
     "output_type": "stream",
     "text": [
      "Hi I am the Constructor again and got executed automatically :)\n"
     ]
    }
   ],
   "source": [
    "pankaj_sir = Teacher()"
   ]
  },
  {
   "cell_type": "markdown",
   "metadata": {},
   "source": [
    "* Accessing the **Attributes**"
   ]
  },
  {
   "cell_type": "code",
   "execution_count": 10,
   "metadata": {},
   "outputs": [
    {
     "name": "stdout",
     "output_type": "stream",
     "text": [
      "Pankaj\n",
      "Python\n"
     ]
    }
   ],
   "source": [
    "# access the attributes\n",
    "print(pankaj_sir.name)\n",
    "print(pankaj_sir.subject)"
   ]
  },
  {
   "cell_type": "code",
   "execution_count": 22,
   "metadata": {},
   "outputs": [
    {
     "data": {
      "text/plain": [
       "{'name': 'Pankaj', 'subject': 'Python'}"
      ]
     },
     "execution_count": 22,
     "metadata": {},
     "output_type": "execute_result"
    }
   ],
   "source": [
    "pankaj_sir.__dict__"
   ]
  },
  {
   "cell_type": "markdown",
   "metadata": {},
   "source": [
    "* Calling the **methods**."
   ]
  },
  {
   "cell_type": "code",
   "execution_count": 11,
   "metadata": {},
   "outputs": [
    {
     "name": "stdout",
     "output_type": "stream",
     "text": [
      "Hi, I am Mr. Pankaj and I teach Python\n"
     ]
    }
   ],
   "source": [
    "pankaj_sir.speak()"
   ]
  },
  {
   "cell_type": "markdown",
   "metadata": {},
   "source": [
    "# Class vs Object\n",
    "- A class is a blueprint, while an object is a real-world instance created from that blueprint.\n",
    "- A class defines the structure and behaviors, while objects hold the actual data and can perform the defined behaviors.\n",
    "- You can have multiple objects of the same class, each with different attribute values.\n",
    "- Objects are unique and independent of each other, even if they are instances of the same class.\n",
    "\n",
    "## Need for OOP and User-Defined Data Types\n",
    "- OOP allows you to model real-world entities and their behaviors in your code, making it more organized, reusable, and maintainable.\n",
    "- User-defined data types (classes) provide a way to bundle data and functionality together, making it easier to manage and work with complex data structures.\n",
    "- OOP promotes code reusability, modularity, and abstraction, which are essential principles for building scalable and maintainable software systems.\n",
    "\n",
    "## Security and Access Modifiers\n",
    "Python does not have strict access modifiers like private, protected, and public. Instead, it follows the principle of \"name mangling\" to emulate access control. Here's how it works:\n",
    "\n",
    "- <font color=\"green\">**Public attributes and methods:**</font> These can be accessed from anywhere in the code, both inside and outside the class.\n",
    "- <font color=\"green\">**Private attributes and methods:**</font> These are intended to be accessed only from within the class itself. In Python, they are prefixed with two underscores (`__`), e.g., `__private_attribute`.\n",
    "- <font color=\"green\">**Protected attributes and methods:**</font> These are intended to be accessed from within the class and its subclasses. In Python, they are prefixed with a single underscore (`_`), e.g., `_protected_attribute`.\n"
   ]
  },
  {
   "cell_type": "code",
   "execution_count": 12,
   "metadata": {},
   "outputs": [],
   "source": [
    "class BankAccount:\n",
    "    def __init__(self, balance:float)-> None:\n",
    "        self.balance:float = balance  # Public attribute\n",
    "        self.__account_number:str = self._generate_account_number()  # Private attribute\n",
    "\n",
    "    def _generate_account_number(self) -> str:  # Protected method\n",
    "        # Logic to generate account number\n",
    "        return \"123456789\"\n",
    "\n",
    "    def deposit(self, amount) -> None:\n",
    "        self.balance += amount\n",
    "\n",
    "    def withdraw(self, amount) -> None:\n",
    "        if amount > self.balance:\n",
    "            print(\"Insufficient funds\")\n",
    "        else:\n",
    "            self.balance -= amount\n",
    "            self.__log_transaction(amount, \"Withdrawal\")  # Accessing private method\n",
    "\n",
    "    def __log_transaction(self, amount, transaction_type) -> None:  # Private method\n",
    "        # Log the transaction details\n",
    "        print(f\"{transaction_type}: {amount}\")"
   ]
  },
  {
   "cell_type": "markdown",
   "metadata": {},
   "source": [
    "# Types of Variables in Python\n",
    "\n",
    "In Python, there are three main types of variables: **local variables**, **instance variables**, and **class variables**.\n",
    "\n",
    "1. **Local Variables**:\n",
    "   - Local variables are defined within a function or a code block (such as a loop or a conditional statement).\n",
    "   - They are only accessible within the scope (function or code block) in which they are defined.\n",
    "   - ⭐️ Local variables are created when the function is called or the code block is executed, and they are destroyed when the function returns or the code block completes.\n",
    "   - `Use cases:` Local variables are typically used to store temporary data or intermediate results within a function or code block.\n",
    "\n",
    "2. **Instance Variables**:\n",
    "   - Instance variables are defined within a class and belong to a specific instance (object) of that class.\n",
    "   - Each instance (object) of the class has its own copy of the instance variables.\n",
    "   - ⭐️ Instance variables are accessed and modified through the instance (object) of the class.\n",
    "   - `Use cases:` Instance variables are used to store data that is unique to each instance (object) of a class. They are commonly used to represent the state or attributes of an object.\n",
    "\n",
    "3. **Class Variables**:\n",
    "   - Class variables are defined within a class but outside of any methods.\n",
    "   - They are shared among all instances (objects) of the class.\n",
    "   - If a class variable is modified through one instance, the change is reflected in all other instances as well.\n",
    "   - ⭐️ Class variables are accessible through both the class itself and its instances (objects).\n",
    "   - `Use cases:` Class variables are typically used to store data that is common to all instances of a class, such as constants or configuration settings. They can also be used to keep track of class-level information or statistics."
   ]
  },
  {
   "cell_type": "code",
   "execution_count": 13,
   "metadata": {},
   "outputs": [],
   "source": [
    "class Person:\n",
    "    species:str = \"Human\" # Class variable\n",
    "\n",
    "    def __init__(self, name:str, age:int) -> None:\n",
    "        self.name:str = name # Instance variable\n",
    "        self.age:int = age # Instance variable\n",
    "\n",
    "    def intro(self) -> None:\n",
    "        greeting:str = f\"Hello, my name is {self.name}\" # Local variable\n",
    "        print(greeting)"
   ]
  },
  {
   "cell_type": "code",
   "execution_count": 14,
   "metadata": {},
   "outputs": [],
   "source": [
    "# Creating instances (objects) of the Person class in the memory which then is being referred by the Reference Variable\n",
    "person1 = Person(name=\"Subrata\", age=24)\n",
    "person2 = Person(name=\"Bob\", age=30)"
   ]
  },
  {
   "cell_type": "code",
   "execution_count": 15,
   "metadata": {},
   "outputs": [
    {
     "name": "stdout",
     "output_type": "stream",
     "text": [
      "Subrata\n",
      "Not Subrata\n"
     ]
    }
   ],
   "source": [
    "# Accessing and modifying instance variables\n",
    "print(person1.name)\n",
    "person1.name = \"Not Subrata\"\n",
    "print(person1.name)"
   ]
  },
  {
   "cell_type": "code",
   "execution_count": 16,
   "metadata": {},
   "outputs": [
    {
     "name": "stdout",
     "output_type": "stream",
     "text": [
      "Human\n",
      "Human\n"
     ]
    }
   ],
   "source": [
    "\"\"\"Accessing class variable\"\"\"\n",
    "print(Person.species)  # Output: Human\n",
    "print(person1.species)  # Output: Human"
   ]
  },
  {
   "cell_type": "markdown",
   "metadata": {},
   "source": [
    "# `self` vs `cls`\n",
    "You're correct about the difference between `self` and `cls` in Python. Let me explain it in more detail:\n",
    "\n",
    "1. **`self`**:\n",
    "   - `self` is a conventional name used for the first argument in instance methods.\n",
    "   - It represents the instance (object) itself when an instance method is called on an object.\n",
    "   - When you create an object from a class, a unique instance of that class is allocated in memory, and `self` refers to that specific instance.\n",
    "   - If you create 100 objects from the same class, each object will have its own separate memory location, and `self` will refer to the respective object when an instance method is called on that object.\n",
    "\n",
    "2. **`cls`**:\n",
    "   - `cls` is a conventional name used for the first argument in class methods.\n",
    "   - It represents the class itself, not an instance of the class.\n",
    "   - Unlike `self`, `cls` is not bound to any specific instance; it refers to the class definition itself.\n",
    "   - When you call a class method, the class itself is passed as the first argument (`cls`), not an instance of the class.\n",
    "   - ⭐️ There is only one class object in memory, regardless of how many instances are created from that class."
   ]
  },
  {
   "cell_type": "markdown",
   "metadata": {},
   "source": [
    "# Methods in Python\n",
    "In Python, there are several types of methods that can be defined within a class such as **instance methods**, **class methods**, **static methods** and **magic methods**.\n",
    "\n",
    "1. **Instance Methods**:\n",
    "   - Instance methods are the most common type of methods and are defined within a class.\n",
    "   - They are associated with instances (objects) of the class and can access and modify the instance variables.\n",
    "   - The first argument of an instance method is conventionally named `self`, which represents the instance itself.\n",
    "   - Use cases: Instance methods are used to define the behavior and operations that an object can perform on its own data (instance variables)."
   ]
  },
  {
   "cell_type": "code",
   "execution_count": 17,
   "metadata": {},
   "outputs": [
    {
     "name": "stdout",
     "output_type": "stream",
     "text": [
      "78.5\n"
     ]
    }
   ],
   "source": [
    "class Circle:\n",
    "    def __init__(self, radius:float) -> None:\n",
    "        self.radius: float = radius\n",
    "\n",
    "    # instance method\n",
    "    def area(self) -> float:\n",
    "        return 3.14 * self.radius ** 2\n",
    "\n",
    "circle1 = Circle(radius=5.0)\n",
    "print(circle1.area())  # Output: 78.5"
   ]
  },
  {
   "cell_type": "markdown",
   "metadata": {},
   "source": [
    "2. **Class Methods**:\n",
    "   - Class methods are defined within a class and are associated with the class itself, rather than instances of the class.\n",
    "   - They are prefixed with the `@classmethod` decorator and take the class (`cls`) as the first argument, instead of the instance (`self`).\n",
    "   - ⭐️ Class methods can access and modify class variables but not instance variables.\n",
    "   - **Use cases:** Class methods are typically used for creating alternative constructors or factory methods, as well as for operations that depend on the class itself rather than any specific instance."
   ]
  },
  {
   "cell_type": "code",
   "execution_count": 18,
   "metadata": {},
   "outputs": [
    {
     "name": "stdout",
     "output_type": "stream",
     "text": [
      "5.0\n"
     ]
    }
   ],
   "source": [
    "class Circle:\n",
    "    pi = 3.14\n",
    "\n",
    "    def __init__(self, radius:float) -> None:\n",
    "        self.radius:float = radius\n",
    "\n",
    "    @classmethod\n",
    "    def from_diameter(cls, diameter:float):\n",
    "        radius:float = diameter / 2\n",
    "        return cls(radius)\n",
    "\n",
    "circle1 = Circle.from_diameter(diameter=10)\n",
    "print(circle1.radius)"
   ]
  },
  {
   "cell_type": "markdown",
   "metadata": {},
   "source": [
    "3. **Static Methods**:\n",
    "   - Static methods are similar to regular functions, but they are defined within a class.\n",
    "   - Static methods can be accessed by both the Class and Object (instance) created.\n",
    "   - They are prefixed with the `@staticmethod` decorator and do not take the instance (`self`) or the class (`cls`) as the first argument.\n",
    "   - ⭐️ Static methods cannot directly access or modify instance or class variables, but they can operate on data passed as arguments.\n",
    "   - **Use cases:** Static methods are typically used for utility functions or operations that are related to the class but do not require access to instance or class variables.\n"
   ]
  },
  {
   "cell_type": "code",
   "execution_count": 19,
   "metadata": {},
   "outputs": [
    {
     "name": "stdout",
     "output_type": "stream",
     "text": [
      "31.400000000000002\n",
      "31.400000000000002\n"
     ]
    }
   ],
   "source": [
    "class Circle:\n",
    "    pi = 3.14\n",
    "\n",
    "    def __init__(self, radius:float) -> None:\n",
    "        self.radius:float = radius\n",
    "\n",
    "    @staticmethod\n",
    "    def circumference(radius:float) -> float:\n",
    "        return 2 * Circle.pi * radius\n",
    "\n",
    "circle1 = Circle(radius=5)\n",
    "\n",
    "print(Circle.circumference(radius=5.0)) # accessed directly by the Class itself\n",
    "print(circle1.circumference(radius=5.0)) # accessed by the Object/Instance"
   ]
  },
  {
   "cell_type": "markdown",
   "metadata": {},
   "source": [
    "4. **Magic Methods (Dunder Methods)**:\n",
    "   - Magic methods (also known as dunder methods) are special methods in Python that have double leading and trailing underscores in their names (e.g., `__init__`, `__str__`, `__add__`).\n",
    "   - They are not strictly a type of method but rather a way to define specific behaviors for operators, function calls, and other special operations.\n",
    "   - **Use cases:** Magic methods are used to customize the behavior of classes for various operations, such as object initialization, string representation, operator overloading, and more."
   ]
  },
  {
   "cell_type": "code",
   "execution_count": 20,
   "metadata": {},
   "outputs": [
    {
     "name": "stdout",
     "output_type": "stream",
     "text": [
      "Point(2, 3)\n",
      "Point(7, 10)\n"
     ]
    }
   ],
   "source": [
    "class Point:\n",
    "    def __init__(self, x:float, y:float) -> None:\n",
    "        self.x:float = x\n",
    "        self.y:float = y\n",
    "\n",
    "    def __str__(self) -> str:\n",
    "        return f\"Point({self.x}, {self.y})\"\n",
    "\n",
    "    def __add__(self, other:'Point') -> 'Point':\n",
    "        x:float = self.x + other.x\n",
    "        y:float = self.y + other.y\n",
    "        return Point(x=x, y=y)\n",
    "\n",
    "p1 = Point(x=2, y=3)\n",
    "p2 = Point(x=5, y=7)\n",
    "print(p1)\n",
    "print(p1 + p2)"
   ]
  },
  {
   "cell_type": "markdown",
   "metadata": {},
   "source": [
    "# Using String Literals (e.g., 'ClassName') for Type Hints\n",
    "\n",
    "**1. Using Class Names (e.g., ClassName) for Type Hints:**\n",
    "\n",
    "- When using a class name directly in a type hint, Python expects the class to be already defined and available in the current scope.\n",
    "- If the referenced class is not defined or imported before the type hint, Python will raise a `NameError` because it cannot find the referenced name.\n",
    "- This approach can be used when the referenced class is defined or imported before the type hint, and there are no circular dependencies.\n",
    "```python\n",
    "class Point:\n",
    "    def __init__(self, x:float, y:float) -> None:\n",
    "        self.x:float = x\n",
    "        self.y:float = y\n",
    "\n",
    "    def __add__(self, other:Point) -> Point:\n",
    "        x:float = self.x + other.x\n",
    "        y:float = self.y + other.y\n",
    "        return Point(x=x, y=y)\n",
    "```\n",
    "\n",
    "> ⭐️ <font color=\"red\">**NameError:** name Point is not defined, if we use directly the classname</font>"
   ]
  },
  {
   "cell_type": "markdown",
   "metadata": {},
   "source": [
    "**2. Using String Literals (e.g., 'ClassName') for Type Hints:**\n",
    "- String literals in type hints are treated as forward references to a class that may be defined later in the code.\n",
    "- This approach is useful when dealing with circular dependencies or when the referenced class is defined after the type hint.\n",
    "- Python will postpone the resolution of the class until runtime, allowing the code to run without raising a `NameError`.\n",
    "- Using string literals is generally considered a good practice for type hints involving class names, as it avoids potential issues with name resolution.\n",
    "\n",
    "> ✅ <font color=\"green\">**Works smoothly when using the classname as String Literal**</font>"
   ]
  },
  {
   "cell_type": "code",
   "execution_count": 21,
   "metadata": {},
   "outputs": [],
   "source": [
    "class Point:\n",
    "    def __init__(self, x:float, y:float) -> None:\n",
    "        self.x:float = x\n",
    "        self.y:float = y\n",
    "\n",
    "    def __add__(self, other:'Point') -> 'Point':\n",
    "        x:float = self.x + other.x\n",
    "        y:float = self.y + other.y\n",
    "        return Point(x=x, y=y)"
   ]
  },
  {
   "cell_type": "markdown",
   "metadata": {},
   "source": [
    "# Abstraction"
   ]
  },
  {
   "cell_type": "markdown",
   "metadata": {},
   "source": [
    "In Python, the `abc` (Abstract Base Classes) module provides a way to define abstract base classes, which are a fundamental concept in achieving abstraction. Abstraction is one of the four pillars of Object-Oriented Programming (OOP) and involves hiding complex implementation details and exposing only the essential features or interfaces to the user.\n",
    "\n",
    "The `abc` module allows you to define abstract base classes and enforce a common interface for a set of related classes. By defining an abstract base class, you can specify the methods and properties that must be implemented by any concrete subclasses.\n",
    "\n",
    "1. **Abstract Base Classes (ABCs)**: An abstract base class is a class that cannot be instantiated directly. Instead, it serves as a blueprint for other classes to inherit from and implement its abstract methods and properties.\n",
    "\n",
    "2. **Defining ABCs**: To define an abstract base class in Python, you need to import the `ABC` class from the `abc` module and use it as the base class for your abstract class.\n",
    "\n",
    "   ```python\n",
    "   from abc import ABC, abstractmethod\n",
    "\n",
    "   class AbstractClass(ABC):\n",
    "       @abstractmethod\n",
    "       def abstract_method(self):\n",
    "           pass\n",
    "   ```\n",
    "\n",
    "   In the example above, `AbstractClass` is an abstract base class that defines an abstract method `abstract_method`.\n",
    "\n",
    "3. **Abstract Methods**: Abstract methods are declared using the `@abstractmethod` decorator from the `abc` module. They have no implementation in the abstract base class, and any concrete subclass must provide an implementation for them.\n",
    "\n",
    "4. **Concrete Subclasses**: Concrete subclasses are classes that inherit from an abstract base class and provide implementations for all the abstract methods defined in the base class.\n",
    "\n",
    "   ```python\n",
    "   class ConcreteClass(AbstractClass):\n",
    "       def abstract_method(self):\n",
    "           # Concrete implementation\n",
    "           print(\"Concrete implementation of abstract_method\")\n",
    "   ```\n",
    "\n",
    "   In this example, `ConcreteClass` inherits from `AbstractClass` and provides an implementation for the `abstract_method`.\n",
    "\n",
    "5. **Enforcing Abstraction**: The `abc` module enforces abstraction by raising a `TypeError` if you try to instantiate an abstract base class or if a concrete subclass fails to implement all the required abstract methods.\n",
    "\n",
    "6. **Properties and Methods**: In addition to abstract methods, abstract base classes can also define concrete methods and properties. These can be used by the concrete subclasses without requiring reimplementation.\n",
    "\n",
    "7. **Multiple Inheritance**: Python supports multiple inheritance, which means a concrete class can inherit from multiple abstract base classes, combining their interfaces and implementing all the required abstract methods."
   ]
  },
  {
   "cell_type": "code",
   "execution_count": 28,
   "metadata": {},
   "outputs": [
    {
     "name": "stdout",
     "output_type": "stream",
     "text": [
      "15\n",
      "16\n",
      "50.24\n",
      "25.12\n"
     ]
    }
   ],
   "source": [
    "from abc import ABC, abstractmethod\n",
    "\n",
    "class Shape(ABC):\n",
    "    @abstractmethod\n",
    "    def area(self) -> None:\n",
    "        pass\n",
    "\n",
    "    @abstractmethod\n",
    "    def perimeter(self) -> None:\n",
    "        pass\n",
    "\n",
    "class Rectangle(Shape):\n",
    "    def __init__(self, length:float, width:float):\n",
    "        self.length:float = length\n",
    "        self.width:float = width\n",
    "\n",
    "    def area(self) -> float:\n",
    "        return self.length * self.width\n",
    "\n",
    "    def perimeter(self) -> float:\n",
    "        return 2 * (self.length + self.width)\n",
    "\n",
    "class Circle(Shape):\n",
    "    def __init__(self, radius) -> None:\n",
    "        self.radius:float = radius\n",
    "\n",
    "    def area(self) -> float:\n",
    "        return 3.14 * self.radius ** 2\n",
    "\n",
    "    def perimeter(self) -> float:\n",
    "        return 2 * 3.14 * self.radius\n",
    "\n",
    "# Creating instances of concrete subclasses\n",
    "rect = Rectangle(length=5,width= 3)\n",
    "circle = Circle(radius=4)\n",
    "\n",
    "print(rect.area())  \n",
    "print(rect.perimeter())  \n",
    "print(circle.area())  \n",
    "print(circle.perimeter()) "
   ]
  },
  {
   "cell_type": "markdown",
   "metadata": {},
   "source": [
    "# 1. Method Overriding\n",
    "Method overriding is a concept in Object-Oriented Programming (OOP) where a subclass provides its own implementation of a method that is already defined in its superclass. This allows the subclass to give a specific behavior to a method inherited from the superclass.\n",
    "\n",
    "Example:\n",
    "```python\n",
    "class Animal:\n",
    "    def make_sound(self):\n",
    "        print(\"The animal makes a sound.\")\n",
    "\n",
    "class Dog(Animal):\n",
    "    def make_sound(self):\n",
    "        print(\"The dog barks.\")\n",
    "\n",
    "dog = Dog()\n",
    "dog.make_sound()  # Output: The dog barks.\n",
    "```\n",
    "\n",
    "In this example, the `Dog` class overrides the `make_sound` method inherited from the `Animal` class. When `make_sound` is called on the `dog` object, the overridden method in the `Dog` class is executed.\n",
    "\n",
    "Use Case: Method overriding is commonly used to provide class-specific implementations of methods inherited from a superclass, allowing for polymorphic behavior.\n",
    "\n",
    "2. **Method Overloading**:\n",
    "Method overloading is a concept where a class can have multiple methods with the same name but different parameters (either different number of parameters or different types of parameters). The correct method is called based on the arguments passed during the method call.\n",
    "\n",
    "**Note**: Python does not support true method overloading out of the box. However, it can be simulated using default arguments, variable-length arguments (`*args` and `**kwargs`), or by using single dispatch decorators from the `functools` module.\n",
    "\n",
    "Example (using default arguments):\n",
    "```python\n",
    "class Calculator:\n",
    "    def add(self, a, b=0):\n",
    "        return a + b\n",
    "\n",
    "calc = Calculator()\n",
    "print(calc.add(2, 3))  # Output: 5\n",
    "print(calc.add(5))     # Output: 5 (b defaults to 0)\n",
    "```\n",
    "\n",
    "In this example, the `add` method is \"overloaded\" with different parameter combinations. The correct method is called based on the number of arguments passed.\n",
    "\n",
    "Use Case: Method overloading is useful when you want to provide multiple ways to call the same method with different sets of parameters, promoting code readability and flexibility.\n",
    "\n",
    "3. **Operator Overloading (or Overriding)**:\n",
    "Operator overloading (or overriding) is a feature in Python that allows you to define the behavior of operators (`+, -, *, /`, etc.) for custom classes. This is done by defining special methods in the class, which are automatically called when the corresponding operator is used on objects of that class.\n",
    "\n",
    "Example:\n",
    "```python\n",
    "class Vector:\n",
    "    def __init__(self, x, y):\n",
    "        self.x = x\n",
    "        self.y = y\n",
    "\n",
    "    def __add__(self, other:'Vector'):\n",
    "        return Vector(self.x + other.x, self.y + other.y)\n",
    "\n",
    "    def __str__(self):\n",
    "        return f\"({self.x}, {self.y})\"\n",
    "\n",
    "v1 = Vector(2, 3)\n",
    "v2 = Vector(4, 5)\n",
    "v3 = v1 + v2\n",
    "print(v3)  # Output: (6, 8)\n",
    "```\n",
    "\n",
    "In this example, the `__add__` method is overridden to define the behavior of the `+` operator for `Vector` objects. When `v1 + v2` is executed, Python automatically calls the `__add__` method, allowing you to define how vectors should be added.\n",
    "\n",
    "Use Case: Operator overloading is used to provide a more intuitive and natural way of working with custom objects by giving meaning to operators in the context of those objects. It makes the code more readable and easier to understand."
   ]
  },
  {
   "cell_type": "markdown",
   "metadata": {},
   "source": [
    "# Inheritance\n",
    "Inheritance is a mechanism in OOP that allows a new class (derived or child class) to be based on an existing class (base or parent class). The derived class inherits attributes and methods from the base class, enabling code reuse and the creation of hierarchical relationships between classes.\n",
    "\n",
    "## Properties\n",
    "\n",
    "- **Code Reuse:** Inherited classes can reuse the code from the base class, reducing code duplication and promoting code maintainability.\n",
    "- **Hierarchical Classification:** Inheritance allows for the creation of a hierarchical structure of classes, where more specific classes inherit from more general ones.\n",
    "- **Specialization:** Derived classes can specialize or extend the functionality of the base class by adding new attributes and methods or overriding existing ones."
   ]
  },
  {
   "cell_type": "code",
   "execution_count": 30,
   "metadata": {},
   "outputs": [
    {
     "name": "stdout",
     "output_type": "stream",
     "text": [
      "The dog barks.\n"
     ]
    },
    {
     "data": {
      "text/plain": [
       "('Buddy', 'Golden Retriever', 'White')"
      ]
     },
     "execution_count": 30,
     "metadata": {},
     "output_type": "execute_result"
    }
   ],
   "source": [
    "class Animal:\n",
    "    def __init__(self, name, color):\n",
    "        self.name:str = name\n",
    "        self.color:str = color\n",
    "\n",
    "    def speak(self):\n",
    "        print(\"The animal makes a sound.\")\n",
    "\n",
    "class Dog(Animal):\n",
    "    def __init__(self, name, breed, color):\n",
    "        super().__init__(name=name, color=color)\n",
    "        self.breed:str = breed\n",
    "\n",
    "    def speak(self):\n",
    "        print(\"The dog barks.\")\n",
    "\n",
    "dog = Dog(name=\"Buddy\", breed=\"Golden Retriever\", color=\"White\")\n",
    "dog.speak()\n",
    "dog.name, dog.breed, dog.color"
   ]
  },
  {
   "cell_type": "markdown",
   "metadata": {},
   "source": [
    "# Polymorphism (Multiple Forms)\n",
    "Polymorphism is the ability of objects of different classes to be treated as objects of a common superclass. It allows objects to take on many forms or behaviors based on their actual data type or class. Polymorphism is achieved through method overriding and method overloading.\n",
    "\n",
    "The `print()` function in Python is an excellent example of polymorphism. It exhibits polymorphic behavior because it can take different forms or representations based on the type of argument(s) passed to it.\n",
    "\n",
    "The `print()` function can handle various data types, including strings, integers, floats, lists, tuples, dictionaries, and even custom objects. Depending on the type of argument passed, the `print()` function automatically selects the appropriate behavior to represent the object in a suitable string representation."
   ]
  },
  {
   "cell_type": "code",
   "execution_count": 32,
   "metadata": {},
   "outputs": [
    {
     "name": "stdout",
     "output_type": "stream",
     "text": [
      "Hello, Polymorphism\n",
      "abcabc\n",
      "11\n"
     ]
    }
   ],
   "source": [
    "# Same object and multiple forms.\n",
    "print(\"Hello, Polymorphism\")\n",
    "print(\"abc\" + \"abc\")\n",
    "print(5+6)"
   ]
  },
  {
   "cell_type": "markdown",
   "metadata": {},
   "source": [
    "# Encapsulation\n",
    "Encapsulation is one of the fundamental principles of Object-Oriented Programming (OOP). It is the mechanism of binding data (attributes) and functions (methods) together within a single unit (class) and restricting direct access to the data from outside the class. Encapsulation provides data abstraction and data hiding, ensuring code integrity and preventing unintended modifications to the internal state of an object.\n",
    "\n",
    "Example: Python classes as they bind the attributes(data) and methods that can modify the attributes together."
   ]
  },
  {
   "cell_type": "code",
   "execution_count": null,
   "metadata": {},
   "outputs": [],
   "source": []
  },
  {
   "cell_type": "markdown",
   "metadata": {},
   "source": [
    "**1. Create 'Complex' Datatype.**"
   ]
  },
  {
   "cell_type": "code",
   "execution_count": 26,
   "metadata": {},
   "outputs": [
    {
     "name": "stdout",
     "output_type": "stream",
     "text": [
      "2 + 4j\n",
      "5 + 8j\n",
      "c1 + c2 =  7 + 12j\n"
     ]
    }
   ],
   "source": [
    "class Complex:\n",
    "    \"\"\"Complex Datatype\"\"\"\n",
    "    def __init__(self, real:float, imag:float) -> None:\n",
    "        self.real:float = real\n",
    "        self.imag:float = imag\n",
    "\n",
    "    def __str__(self) -> str:\n",
    "        return f\"{self.real} + {self.imag}j\"\n",
    "    \n",
    "    def __add__(self, other:'Complex') -> 'Complex':\n",
    "        new_real:float = self.real + other.real\n",
    "        new_imag:float = self.imag + other.imag\n",
    "        return Complex(real=new_real, imag=new_imag)\n",
    "    \n",
    "c1 = Complex(real=2, imag=4)\n",
    "c2 = Complex(real=5, imag=8)\n",
    "print(c1)\n",
    "print(c2)\n",
    "print(\"c1 + c2 = \", c1.__add__(other=c2))"
   ]
  }
 ],
 "metadata": {
  "kernelspec": {
   "display_name": "Python 3",
   "language": "python",
   "name": "python3"
  },
  "language_info": {
   "codemirror_mode": {
    "name": "ipython",
    "version": 3
   },
   "file_extension": ".py",
   "mimetype": "text/x-python",
   "name": "python",
   "nbconvert_exporter": "python",
   "pygments_lexer": "ipython3",
   "version": "3.11.7"
  }
 },
 "nbformat": 4,
 "nbformat_minor": 2
}
