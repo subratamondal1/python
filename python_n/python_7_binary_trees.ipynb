{
 "cells": [
  {
   "cell_type": "markdown",
   "metadata": {},
   "source": [
    "# Binary Trees\n",
    "A binary tree is a hierarchical data structure where each node can have a maximum of two child nodes: a left child and a right child. Nodes can contain data of any type. Binary trees are useful for efficient searching, sorting, and traversal operations."
   ]
  },
  {
   "cell_type": "markdown",
   "metadata": {},
   "source": [
    "## Properties\n",
    "\n",
    "- **Maximum Two Children:** Each node can have at most two children (left and right).\n",
    "- **Hierarchical Structure:** Nodes form a parent-child relationship, creating a hierarchy.\n",
    "- **Ordered (Optional):** Binary Search Trees (BSTs) enforce an order where left child's data is less than the parent's, and the right child's data is greater.\n"
   ]
  },
  {
   "cell_type": "markdown",
   "metadata": {},
   "source": [
    "## Methods\n",
    "\n",
    "- **`insert(data)`:** Inserts a new node with the given data into the appropriate position in the tree. The specific insertion logic depends on whether it's a BST or a general binary tree.\n",
    "- **`search(data)`:** Searches for a node with the given data and returns it if found.\n",
    "- **`delete(data)`:** Deletes a node with the given data from the tree, maintaining the tree's structure.\n",
    "- **`traversal()`:** Visits each node in the tree using a specific order (e.g., inorder, preorder, postorder).\n",
    "- **`is_empty()`:** Checks if the tree is empty (has no nodes)."
   ]
  },
  {
   "cell_type": "markdown",
   "metadata": {},
   "source": [
    "## Time and Space Complexity\n",
    "\n",
    "- **Insertion, Search, Deletion:** O(h) in the average case, where h is the height of the tree. In the worst case (highly unbalanced tree), these operations can be O(n), where n is the number of nodes.\n",
    "- **Traversal:** O(n) in most cases, as it visits all nodes in the tree."
   ]
  },
  {
   "cell_type": "markdown",
   "metadata": {},
   "source": [
    "## Use Cases\n",
    "\n",
    "Binary trees have diverse applications:\n",
    "\n",
    "- **Searching:** Binary Search Trees (BSTs) enable efficient searching by leveraging the ordering property.\n",
    "- **Sorting:** In-order traversal of a BST results in a sorted list.\n",
    "- **Priority Queues:** Priority queues can be implemented using binary trees, with the priority determining the node's position.\n",
    "- **File Systems:** File systems often use binary trees to represent directory structures.\n",
    "- **Game Trees:** Binary trees can be used to model game states and explore possible moves in games like chess or tic-tac-toe.\n",
    "- **Syntax Trees:** Compilers use binary trees to represent the structure of programs during parsing.\n",
    "\n",
    "**Additional Considerations**\n",
    "\n",
    "- There are different types of binary trees, such as BSTs, AVL trees, and red-black trees, which offer specific properties and balance guarantees that affect their performance.\n",
    "- Binary trees can be memory-intensive for large datasets compared to linear data structures like arrays.\n",
    "- Choosing the appropriate binary tree type and considering potential memory usage are important factors in specific use cases."
   ]
  },
  {
   "cell_type": "code",
   "execution_count": 3,
   "metadata": {},
   "outputs": [],
   "source": [
    "class BinaryTreeNode:\n",
    "    def __init__(self, data) -> None:\n",
    "        self.data = data\n",
    "        self.left = None\n",
    "        self.right = None\n",
    "\n",
    "N1 = BinaryTreeNode(data=10)\n",
    "N2 = BinaryTreeNode(data=20)\n",
    "N3 = BinaryTreeNode(data=30)\n",
    "N4 = BinaryTreeNode(data=40)\n",
    "N5 = BinaryTreeNode(data=50)\n",
    "N6 = BinaryTreeNode(data=60)\n",
    "N7 = BinaryTreeNode(data=70)\n",
    "\n",
    "N1.left = N2\n",
    "N2.left = N4\n",
    "N2.right = N5\n",
    "\n",
    "N1.right = N3\n",
    "N3.left = N6\n",
    "N3.right = N7"
   ]
  },
  {
   "cell_type": "code",
   "execution_count": 4,
   "metadata": {},
   "outputs": [
    {
     "name": "stdout",
     "output_type": "stream",
     "text": [
      "10\n",
      "20\n",
      "40\n",
      "50\n",
      "30\n",
      "60\n",
      "70\n"
     ]
    }
   ],
   "source": [
    "def preorder_traversal(root):\n",
    "    if root is None:\n",
    "        return\n",
    "    print(root.data)\n",
    "    preorder_traversal(root=root.left)\n",
    "    preorder_traversal(root=root.right)\n",
    "    \n",
    "preorder_traversal(root=N1)"
   ]
  },
  {
   "cell_type": "code",
   "execution_count": 6,
   "metadata": {},
   "outputs": [
    {
     "name": "stdout",
     "output_type": "stream",
     "text": [
      "40\n",
      "20\n",
      "50\n",
      "10\n",
      "60\n",
      "30\n",
      "70\n"
     ]
    }
   ],
   "source": [
    "def inorder_traversal(root):\n",
    "    if root is None:\n",
    "        return\n",
    "    inorder_traversal(root=root.left)\n",
    "    print(root.data)\n",
    "    inorder_traversal(root=root.right)\n",
    "    \n",
    "inorder_traversal(root=N1)"
   ]
  },
  {
   "cell_type": "code",
   "execution_count": 7,
   "metadata": {},
   "outputs": [
    {
     "name": "stdout",
     "output_type": "stream",
     "text": [
      "40\n",
      "50\n",
      "20\n",
      "60\n",
      "70\n",
      "30\n",
      "10\n"
     ]
    }
   ],
   "source": [
    "def postorder_traversal(root):\n",
    "    if root is None:\n",
    "        return\n",
    "    postorder_traversal(root=root.left)\n",
    "    postorder_traversal(root=root.right)\n",
    "    print(root.data)\n",
    "    \n",
    "postorder_traversal(root=N1)"
   ]
  },
  {
   "cell_type": "code",
   "execution_count": null,
   "metadata": {},
   "outputs": [],
   "source": []
  }
 ],
 "metadata": {
  "kernelspec": {
   "display_name": "Python 3",
   "language": "python",
   "name": "python3"
  },
  "language_info": {
   "codemirror_mode": {
    "name": "ipython",
    "version": 3
   },
   "file_extension": ".py",
   "mimetype": "text/x-python",
   "name": "python",
   "nbconvert_exporter": "python",
   "pygments_lexer": "ipython3",
   "version": "3.11.7"
  }
 },
 "nbformat": 4,
 "nbformat_minor": 2
}
