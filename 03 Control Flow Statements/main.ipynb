{
 "cells": [
  {
   "cell_type": "markdown",
   "metadata": {},
   "source": [
    "# Factorial"
   ]
  },
  {
   "cell_type": "code",
   "execution_count": 9,
   "metadata": {},
   "outputs": [
    {
     "name": "stdout",
     "output_type": "stream",
     "text": [
      "120\n"
     ]
    }
   ],
   "source": [
    "product = 1\n",
    "for i in range(1,5+1):\n",
    "    product *= i\n",
    "print(product)"
   ]
  },
  {
   "cell_type": "code",
   "execution_count": 10,
   "metadata": {},
   "outputs": [
    {
     "name": "stdout",
     "output_type": "stream",
     "text": [
      "120\n"
     ]
    }
   ],
   "source": [
    "n:int = int(input(\"Factorial of what? \"))\n",
    "\n",
    "product = 1\n",
    "for i in range(1, n+1):\n",
    "    product*=i\n",
    "\n",
    "print(product)\n"
   ]
  },
  {
   "cell_type": "markdown",
   "metadata": {},
   "source": [
    "# a^b"
   ]
  },
  {
   "cell_type": "code",
   "execution_count": 14,
   "metadata": {},
   "outputs": [
    {
     "name": "stdout",
     "output_type": "stream",
     "text": [
      "390625\n"
     ]
    }
   ],
   "source": [
    "product = 1\n",
    "for i in range(1,8+1):\n",
    "    product *= 5\n",
    "print(product)"
   ]
  },
  {
   "cell_type": "code",
   "execution_count": 15,
   "metadata": {},
   "outputs": [
    {
     "name": "stdout",
     "output_type": "stream",
     "text": [
      "390625\n"
     ]
    }
   ],
   "source": [
    "a = 5\n",
    "b = 8\n",
    "product = 1\n",
    "for i in range(1,b+1):\n",
    "    product *= a\n",
    "print(product)"
   ]
  },
  {
   "cell_type": "markdown",
   "metadata": {},
   "source": [
    "# Access the Last Digit"
   ]
  },
  {
   "cell_type": "code",
   "execution_count": 16,
   "metadata": {},
   "outputs": [
    {
     "data": {
      "text/plain": [
       "4"
      ]
     },
     "execution_count": 16,
     "metadata": {},
     "output_type": "execute_result"
    }
   ],
   "source": [
    "1534 % 10"
   ]
  },
  {
   "cell_type": "markdown",
   "metadata": {},
   "source": [
    "# Remove the last digit"
   ]
  },
  {
   "cell_type": "code",
   "execution_count": 21,
   "metadata": {},
   "outputs": [
    {
     "data": {
      "text/plain": [
       "153"
      ]
     },
     "execution_count": 21,
     "metadata": {},
     "output_type": "execute_result"
    }
   ],
   "source": [
    "1534 // 10"
   ]
  },
  {
   "cell_type": "code",
   "execution_count": 35,
   "metadata": {},
   "outputs": [
    {
     "name": "stdout",
     "output_type": "stream",
     "text": [
      "Value of 'n' at the start of the loop: 1534\n",
      "last_digit = 4\n",
      "last_digit = 3\n",
      "last_digit = 5\n",
      "last_digit = 1\n",
      "Value of 'n' at the end of the loop: 0\n"
     ]
    }
   ],
   "source": [
    "n = 1534\n",
    "print(f\"Value of 'n' at the start of the loop: {n}\")\n",
    "while n!=0:\n",
    "    # access last digit\n",
    "    last_digit:int = n%10\n",
    "    print(f\"last_digit = {last_digit}\")\n",
    "    # remove last digit\n",
    "    n:int = n // 10\n",
    "print(f\"Value of 'n' at the end of the loop: {n}\")"
   ]
  },
  {
   "cell_type": "markdown",
   "metadata": {},
   "source": [
    "# Armstrong Number\n",
    "\n",
    "Armstrong Number is a number that is the sum of its own digits raised to the power of the number of digits.\n",
    "\n",
    "```python\n",
    "d1d2d3 = d1**3 + d2**3 + d3**3\n",
    "\n",
    "435 = 4**3 + 3**3 + 5**3\n",
    "4357 = 4**4 + 3**4 + 5**4 + 7**4\n",
    "```\n",
    "\n",
    "* 0 is 0**1 == 0, therefore 0 is Armstrong Number\n",
    "* 1 is 1**1 == 1, therefore 1 is Armstrong Number\n",
    "* 2 is 2**1 == 2, therefore 0 is Armstrong Number"
   ]
  },
  {
   "cell_type": "code",
   "execution_count": 54,
   "metadata": {},
   "outputs": [
    {
     "name": "stdout",
     "output_type": "stream",
     "text": [
      "n = 0\n",
      "153 is Armstrong Number\n"
     ]
    }
   ],
   "source": [
    "n = int(input(\"Enter your number: \"))\n",
    "\n",
    "temp:int = n # Store the original number in a temporary variable\n",
    "count = 0\n",
    "while n!= 0:\n",
    "    count +=1\n",
    "    n = n//10\n",
    "print(f\"n = {n}\")\n",
    "\n",
    "temp:int = n # Reset temp to the original number as while loop made it = 0\n",
    "sum:int = 0\n",
    "while a!= 0:\n",
    "    last_digit = a%10\n",
    "    sum = sum + (last_digit**count)\n",
    "    a = a // 10\n",
    "if sum == b:\n",
    "    print(f\"{b} is Armstrong Number\")\n",
    "else:\n",
    "    print(f\"{b} is Not Armstrong Number\")"
   ]
  },
  {
   "cell_type": "code",
   "execution_count": null,
   "metadata": {},
   "outputs": [],
   "source": [
    "n = int(input(\"Enter your number: \"))\n",
    "temp = n  # Store the original number in a temporary variable\n",
    "count = 0\n",
    "while temp != 0:\n",
    "    count += 1\n",
    "    temp = temp // 10\n",
    "\n",
    "# Reset temp to the original number\n",
    "temp = n\n",
    "\n",
    "sum = 0\n",
    "while temp != 0:\n",
    "    last_digit = temp % 10\n",
    "    sum += last_digit ** count\n",
    "    temp = temp // 10\n",
    "\n",
    "print(f\"Sum of digits raised to the power {count}: {sum}\")\n",
    "\n",
    "if sum == n:\n",
    "    print(f\"{n} is an Armstrong Number\")\n",
    "else:\n",
    "    print(f\"{n} is not an Armstrong Number\")"
   ]
  }
 ],
 "metadata": {
  "kernelspec": {
   "display_name": "Python 3",
   "language": "python",
   "name": "python3"
  },
  "language_info": {
   "codemirror_mode": {
    "name": "ipython",
    "version": 3
   },
   "file_extension": ".py",
   "mimetype": "text/x-python",
   "name": "python",
   "nbconvert_exporter": "python",
   "pygments_lexer": "ipython3",
   "version": "3.11.7"
  }
 },
 "nbformat": 4,
 "nbformat_minor": 2
}
