{
 "cells": [
  {
   "cell_type": "markdown",
   "metadata": {},
   "source": [
    "# Python Fundamentals"
   ]
  },
  {
   "cell_type": "markdown",
   "metadata": {},
   "source": [
    "## Introduction"
   ]
  },
  {
   "cell_type": "markdown",
   "metadata": {},
   "source": [
    "- In Python, everything is an **object**, and each object is an instance of a class. This means that even basic data types like integers, strings, and lists are objects, and they have attributes and methods associated with them. For example, a string object has methods like `upper()` and `split()`, which allow you to manipulate the string."
   ]
  },
  {
   "cell_type": "code",
   "execution_count": 23,
   "metadata": {},
   "outputs": [
    {
     "name": "stdout",
     "output_type": "stream",
     "text": [
      "<class 'str'>\n"
     ]
    }
   ],
   "source": [
    "name = \"subrata mondal\"\n",
    "print(type(name))"
   ]
  },
  {
   "cell_type": "code",
   "execution_count": 26,
   "metadata": {},
   "outputs": [
    {
     "name": "stdout",
     "output_type": "stream",
     "text": [
      "Subrata mondal\n",
      "SUBRATA MONDAL\n",
      "['subrata', 'mondal']\n"
     ]
    }
   ],
   "source": [
    "print(name.capitalize())\n",
    "print(name.upper())\n",
    "print(name.split())"
   ]
  },
  {
   "cell_type": "markdown",
   "metadata": {},
   "source": [
    "- **Identifier/Variable** ➾ **Memory Address** where the **Value** is stored.\n",
    "\n",
    "- When you create a variable and assign a value to it, Python creates an object of the appropriate type and stores the value in the Memory. The variable then points to that Memory Address, allowing you to access the value stored in there. \n",
    "\n",
    "    ```python\n",
    "    name = \"subrata mondal\"\n",
    "    # behind the scenes\n",
    "    name = str(object=\"subrata mondal\")\n",
    "    ```\n",
    "\n",
    "- **Memory Address** ➾ `id()`"
   ]
  },
  {
   "cell_type": "code",
   "execution_count": 34,
   "metadata": {},
   "outputs": [
    {
     "name": "stdout",
     "output_type": "stream",
     "text": [
      "Memory Address of the identifier - 'name': 4553886832\n"
     ]
    }
   ],
   "source": [
    "name = \"subrata mondal\"\n",
    "print(f\"Memory Address of the identifier - 'name': {id(name)}\")"
   ]
  },
  {
   "cell_type": "markdown",
   "metadata": {},
   "source": [
    "### Immutable Datatypes"
   ]
  },
  {
   "cell_type": "markdown",
   "metadata": {},
   "source": [
    "Immutable datatypes are those datatypes whose values cannot be changed after they are created. Still if you try to modify an immutable object, Python creates a new object in the memory and store the new value in it then a new variable with the same name refers to the newly created memory address instead of the original one."
   ]
  },
  {
   "cell_type": "code",
   "execution_count": 45,
   "metadata": {},
   "outputs": [
    {
     "name": "stdout",
     "output_type": "stream",
     "text": [
      "<== Immutable Datatype | Different Memory Address ==>\n",
      "\n",
      "Value: subrata\n",
      "Memory Address: 4554131248\n",
      "\n",
      "Value: mondal\n",
      "Memory Address: 4552215152\n"
     ]
    }
   ],
   "source": [
    "print(\"<== Immutable Datatype | Different Memory Address ==>\\n\")\n",
    "\n",
    "name = \"subrata\"\n",
    "print(\"Value:\", name)\n",
    "print(\"Memory Address:\",id(name))\n",
    "\n",
    "name = \"mondal\"\n",
    "print(\"\\nValue:\", name)\n",
    "print(\"Memory Address:\",id(name))"
   ]
  },
  {
   "cell_type": "markdown",
   "metadata": {},
   "source": [
    "### Mutable Datatypes"
   ]
  },
  {
   "cell_type": "markdown",
   "metadata": {},
   "source": [
    "Mutable datatypes are those datatypes whose values can be changed after they are created. Therefore, if you try to modify a mutable object, Python modifies the value at the same memory address only."
   ]
  },
  {
   "cell_type": "code",
   "execution_count": 46,
   "metadata": {},
   "outputs": [
    {
     "name": "stdout",
     "output_type": "stream",
     "text": [
      "<== Mutable Datatype | Same Memory Address ==>\n",
      "\n",
      "Value: ['subrata']\n",
      "Memory Address: 4554652992\n",
      "\n",
      "Value: ['subrata', 'mondal']\n",
      "Memory Address: 4554652992\n"
     ]
    }
   ],
   "source": [
    "print(\"<== Mutable Datatype | Same Memory Address ==>\\n\")\n",
    "\n",
    "name:list[str] = [\"subrata\"]\n",
    "print(\"Value:\", name)\n",
    "print(\"Memory Address:\",id(name))\n",
    "\n",
    "name.append(\"mondal\")\n",
    "print(\"\\nValue:\", name)\n",
    "print(\"Memory Address:\",id(name))"
   ]
  },
  {
   "cell_type": "markdown",
   "metadata": {},
   "source": [
    "### is vs == operators\n",
    "The `is` operator in Python is used to test if two variables refer to the same object in memory, it checks for the **object identity** and not just the equality of values.\n",
    "\n",
    "1. **For Immutable Objects**: If you assign an immutable object (like a number, string, or tuple) to two different variables, and the values are the same, then Python will create only one object and both variables will refer to that same object in memory."
   ]
  },
  {
   "cell_type": "code",
   "execution_count": 47,
   "metadata": {},
   "outputs": [
    {
     "name": "stdout",
     "output_type": "stream",
     "text": [
      "'a' and 'b' refers to the same object in memory: True 4517039816 4517039816\n",
      "'a' and 'b' refers to the same object in memory: True 4545130224 4545130224\n"
     ]
    }
   ],
   "source": [
    "a = 10\n",
    "b = 10\n",
    "print(\"'a' and 'b' refers to the same object in memory:\",a is b, id(a), id(b))\n",
    "\n",
    "c = \"hello\"\n",
    "d = \"hello\"\n",
    "print(\"'a' and 'b' refers to the same object in memory:\",c is d, id(c), id(d))"
   ]
  },
  {
   "cell_type": "markdown",
   "metadata": {},
   "source": [
    "2. **For Mutable Objects**: When you assign a mutable object (like a list or dictionary) to a variable, Python creates a new object in memory every time, even if the values are the same."
   ]
  },
  {
   "cell_type": "code",
   "execution_count": 49,
   "metadata": {},
   "outputs": [
    {
     "name": "stdout",
     "output_type": "stream",
     "text": [
      "'a' and 'b' refers to the same object in memory: False 4553898752 4554378240\n",
      "'a' and 'b' refers to the same object in memory: False 4553667328 4551785536\n"
     ]
    }
   ],
   "source": [
    "from typing import Any\n",
    "\n",
    "a:list[int] = [1, 2, 3]\n",
    "b:list[int] = [1, 2, 3]\n",
    "print(\"'a' and 'b' refers to the same object in memory:\",a is b, id(a), id(b))\n",
    "\n",
    "c:dict[str, Any] = {\"name\": \"Alice\", \"age\": 25}\n",
    "d: dict[str, Any] = {\"name\": \"Alice\", \"age\": 25}\n",
    "print(\"'a' and 'b' refers to the same object in memory:\",c is d, id(c), id(d))  # Output: False"
   ]
  },
  {
   "cell_type": "markdown",
   "metadata": {},
   "source": [
    "### Short Circuit"
   ]
  },
  {
   "cell_type": "markdown",
   "metadata": {},
   "source": [
    "\n",
    "The logical operators `and` and `or` are short-circuiting operators, which means that they evaluate the operands from **left to right** and stop as soon as the result can be determined i.e  the logical operators in Python don't simply evaluate both the operands and then combine the results.\n",
    "\n",
    "\n",
    "> - **`1st operand and 2nd operand`** ⇒ returns **`1st operand`** iff 1st operand is **`False`** else return the 2nd operand"
   ]
  },
  {
   "cell_type": "code",
   "execution_count": 62,
   "metadata": {},
   "outputs": [
    {
     "name": "stdout",
     "output_type": "stream",
     "text": [
      "False\n",
      "False\n",
      "subrata\n",
      "mondal\n",
      "0\n",
      "False\n"
     ]
    }
   ],
   "source": [
    "print(False and \"subrata\") # False since False and anything is False\n",
    "print(False and \"mondal\") # False since False and anything is False\n",
    "\n",
    "print(True and \"subrata\") # subrata\n",
    "print(True and \"mondal\") # mondal\n",
    "\n",
    "print(True and 0) \n",
    "print(False and 0) "
   ]
  },
  {
   "cell_type": "markdown",
   "metadata": {},
   "source": [
    "> - **`1st operand or 2nd operand`**  ⇒ returns **`1st operand`** iff 1st operand is **`True`** else return the 2nd operand"
   ]
  },
  {
   "cell_type": "code",
   "execution_count": 61,
   "metadata": {},
   "outputs": [
    {
     "name": "stdout",
     "output_type": "stream",
     "text": [
      "subrata\n",
      "mondal\n",
      "subrata\n",
      "mondal\n",
      "True\n",
      "0\n"
     ]
    }
   ],
   "source": [
    "print(\"subrata\" or False)\n",
    "print(\"mondal\" or False)\n",
    "\n",
    "print(False or \"subrata\")\n",
    "print(False or \"mondal\")\n",
    "\n",
    "print(True or 0)\n",
    "print(False or 0)"
   ]
  },
  {
   "cell_type": "markdown",
   "metadata": {},
   "source": [
    "### Ternary operator\n",
    "\n",
    "**`first_value if (condition==true) else second_value`**"
   ]
  },
  {
   "cell_type": "code",
   "execution_count": 63,
   "metadata": {},
   "outputs": [
    {
     "name": "stdout",
     "output_type": "stream",
     "text": [
      "teen\n"
     ]
    }
   ],
   "source": [
    "age = 15\n",
    "age_group:str = \"adult\" if age > 18 else \"teen\"\n",
    "print(age_group)"
   ]
  },
  {
   "cell_type": "code",
   "execution_count": 64,
   "metadata": {},
   "outputs": [
    {
     "name": "stdout",
     "output_type": "stream",
     "text": [
      "teen\n"
     ]
    }
   ],
   "source": [
    "# chaining of ternary operator\n",
    "age_group:str = \"adult\" if age > 18 else (\"teen\" if age > 13 else \"minor\")\n",
    "print(age_group)"
   ]
  },
  {
   "cell_type": "markdown",
   "metadata": {},
   "source": [
    "# Python Data Structures"
   ]
  },
  {
   "cell_type": "markdown",
   "metadata": {},
   "source": [
    "## Strings"
   ]
  },
  {
   "cell_type": "markdown",
   "metadata": {},
   "source": [
    "***String*** is a sequence of characters enclosed in either single quotes `(' ')`, double quotes `(\" \")` or triple quotes `(\"\"\" \"\"\")`. Strings are used to represent text data and are one of the most commonly used data types in Python.\n",
    "\n",
    "- **Strings:** ***Ordered Immutable Iterable Sequence*** and since Immutable we can't mutate them and if reassign the same identifier then their `Memory adress changes`.\n",
    "- Since, Strings are `Ordered` therefore, `Indexable` and hence `Sliceable`.\n",
    "- Common **`sequence`** operations are: **concatenation, repetition,** and **membership testing**."
   ]
  },
  {
   "cell_type": "code",
   "execution_count": 65,
   "metadata": {},
   "outputs": [
    {
     "name": "stdout",
     "output_type": "stream",
     "text": [
      "4554375792\n",
      "4554382448\n"
     ]
    }
   ],
   "source": [
    "\"\"\"Immutability\"\"\"\n",
    "name = \"Subrata\"\n",
    "print(id(name))\n",
    "\n",
    "name = \"Subrata Mondal\"\n",
    "print(id(name))"
   ]
  },
  {
   "cell_type": "code",
   "execution_count": 66,
   "metadata": {},
   "outputs": [
    {
     "data": {
      "text/plain": [
       "'Subrata Mondal'"
      ]
     },
     "execution_count": 66,
     "metadata": {},
     "output_type": "execute_result"
    }
   ],
   "source": [
    "\"\"\"Concatenation\"\"\"\n",
    "\"Subrata\" + \" Mondal\""
   ]
  },
  {
   "cell_type": "code",
   "execution_count": 67,
   "metadata": {},
   "outputs": [
    {
     "data": {
      "text/plain": [
       "'SubrataSubrataSubrata'"
      ]
     },
     "execution_count": 67,
     "metadata": {},
     "output_type": "execute_result"
    }
   ],
   "source": [
    "\"\"\"Repetition\"\"\"\n",
    "\"Subrata\" * 3"
   ]
  },
  {
   "cell_type": "code",
   "execution_count": 68,
   "metadata": {},
   "outputs": [
    {
     "data": {
      "text/plain": [
       "True"
      ]
     },
     "execution_count": 68,
     "metadata": {},
     "output_type": "execute_result"
    }
   ],
   "source": [
    "\"\"\"Membership Testing\"\"\"\n",
    "\"b\" in \"Bombay\""
   ]
  },
  {
   "cell_type": "code",
   "execution_count": 71,
   "metadata": {},
   "outputs": [
    {
     "name": "stdout",
     "output_type": "stream",
     "text": [
      "P Y T H O N "
     ]
    }
   ],
   "source": [
    "\"\"\"Iterable\"\"\"\n",
    "for character in \"Python\":\n",
    "    print(character.upper(), end=\" \")"
   ]
  },
  {
   "cell_type": "code",
   "execution_count": 77,
   "metadata": {},
   "outputs": [
    {
     "data": {
      "text/plain": [
       "'Pyth'"
      ]
     },
     "execution_count": 77,
     "metadata": {},
     "output_type": "execute_result"
    }
   ],
   "source": [
    "\"\"\"Sliceable\"\"\"\n",
    "language:str = \"Python\"\n",
    "language[:4]"
   ]
  },
  {
   "cell_type": "markdown",
   "metadata": {},
   "source": [
    "* Strings are **Sliceable**.\n",
    "\n",
    "    `[start:end:step]`\n",
    "\n",
    "    1. Forward Direction or Left to Right\n",
    "        * Step is Positive\n",
    "        * Start <= End\n",
    "\n",
    "    2. Backward Direction or Right to Left\n",
    "        * Step is Negative\n",
    "        * Start >= End"
   ]
  },
  {
   "cell_type": "code",
   "execution_count": 85,
   "metadata": {},
   "outputs": [
    {
     "name": "stdout",
     "output_type": "stream",
     "text": [
      "McieLa\n",
      "naLe\n"
     ]
    }
   ],
   "source": [
    "domain = \"Machine Learning\"\n",
    "\n",
    "\"\"\"Positive\"\"\"\n",
    "print(domain[0:12:2])\n",
    "\n",
    "\"\"\"Negative\"\"\"\n",
    "print(domain[12:4:-2])"
   ]
  },
  {
   "cell_type": "markdown",
   "metadata": {},
   "source": [
    "### Membership Operator `in`"
   ]
  },
  {
   "cell_type": "code",
   "execution_count": 86,
   "metadata": {},
   "outputs": [
    {
     "name": "stdout",
     "output_type": "stream",
     "text": [
      "True\n",
      "False\n"
     ]
    }
   ],
   "source": [
    "print(\"S\" in \"Subrata\")\n",
    "print(\"s\" in \"Subrata\")"
   ]
  },
  {
   "cell_type": "code",
   "execution_count": 87,
   "metadata": {},
   "outputs": [
    {
     "name": "stdout",
     "output_type": "stream",
     "text": [
      "True\n",
      "False\n"
     ]
    }
   ],
   "source": [
    "print(\"Sub\" in \"Subrata\")\n",
    "print(\"sub\" in \"Subrata\")"
   ]
  },
  {
   "cell_type": "markdown",
   "metadata": {},
   "source": [
    "### Substring"
   ]
  },
  {
   "cell_type": "code",
   "execution_count": 89,
   "metadata": {},
   "outputs": [
    {
     "name": "stdout",
     "output_type": "stream",
     "text": [
      "Yes! A Substring\n"
     ]
    }
   ],
   "source": [
    "string = \"Hey, I'm doing well. What about you?\"\n",
    "substring = \"you\"\n",
    "\n",
    "if substring in string:\n",
    "    print(\"Yes! A Substring\")\n",
    "else:\n",
    "    print(\"No! Not a Substring\")"
   ]
  },
  {
   "cell_type": "markdown",
   "metadata": {},
   "source": [
    "### Palindrome"
   ]
  },
  {
   "cell_type": "code",
   "execution_count": 90,
   "metadata": {},
   "outputs": [
    {
     "name": "stdout",
     "output_type": "stream",
     "text": [
      "Yes! A Palindrome\n"
     ]
    }
   ],
   "source": [
    "user_input = \"tenet\"\n",
    "if user_input[::-1] == user_input:\n",
    "    print(\"Yes! A Palindrome\")\n",
    "else:\n",
    "    print(\"No! Not a Palindrome\")"
   ]
  },
  {
   "cell_type": "markdown",
   "metadata": {},
   "source": [
    "### Comparison"
   ]
  },
  {
   "cell_type": "code",
   "execution_count": 91,
   "metadata": {},
   "outputs": [
    {
     "name": "stdout",
     "output_type": "stream",
     "text": [
      "True\n",
      "False\n"
     ]
    }
   ],
   "source": [
    "print(\"s\" > \"S\")\n",
    "print(\"S\" > \"s\")"
   ]
  },
  {
   "cell_type": "code",
   "execution_count": 92,
   "metadata": {},
   "outputs": [
    {
     "name": "stdout",
     "output_type": "stream",
     "text": [
      "True\n",
      "False\n"
     ]
    }
   ],
   "source": [
    "print(\"subr\" > \"subR\")\n",
    "print(\"subR\" > \"subr\")"
   ]
  },
  {
   "cell_type": "markdown",
   "metadata": {},
   "source": [
    "### Rstrip\n",
    "Remove spaces from the Right"
   ]
  },
  {
   "cell_type": "code",
   "execution_count": 93,
   "metadata": {},
   "outputs": [
    {
     "data": {
      "text/plain": [
       "'    Subrata'"
      ]
     },
     "execution_count": 93,
     "metadata": {},
     "output_type": "execute_result"
    }
   ],
   "source": [
    "\"    Subrata    \".rstrip()"
   ]
  },
  {
   "cell_type": "markdown",
   "metadata": {},
   "source": [
    "### Lstrip\n",
    "Remove spaces from the Left"
   ]
  },
  {
   "cell_type": "code",
   "execution_count": 94,
   "metadata": {},
   "outputs": [
    {
     "data": {
      "text/plain": [
       "'Subrata    '"
      ]
     },
     "execution_count": 94,
     "metadata": {},
     "output_type": "execute_result"
    }
   ],
   "source": [
    "\"    Subrata    \".lstrip()"
   ]
  },
  {
   "cell_type": "markdown",
   "metadata": {},
   "source": [
    "### Strip\n",
    "Remove spaces from both the sides of the string."
   ]
  },
  {
   "cell_type": "code",
   "execution_count": 96,
   "metadata": {},
   "outputs": [
    {
     "data": {
      "text/plain": [
       "'Subrata'"
      ]
     },
     "execution_count": 96,
     "metadata": {},
     "output_type": "execute_result"
    }
   ],
   "source": [
    "\"    Subrata    \".strip()"
   ]
  },
  {
   "cell_type": "markdown",
   "metadata": {},
   "source": [
    "### Split\n",
    "Splits the string based on the separator and returns a `list`."
   ]
  },
  {
   "cell_type": "code",
   "execution_count": 98,
   "metadata": {},
   "outputs": [
    {
     "data": {
      "text/plain": [
       "['Subrata']"
      ]
     },
     "execution_count": 98,
     "metadata": {},
     "output_type": "execute_result"
    }
   ],
   "source": [
    "\"Subrata\".split()"
   ]
  },
  {
   "cell_type": "code",
   "execution_count": 100,
   "metadata": {},
   "outputs": [
    {
     "data": {
      "text/plain": [
       "['13', '05', '2024']"
      ]
     },
     "execution_count": 100,
     "metadata": {},
     "output_type": "execute_result"
    }
   ],
   "source": [
    "\"13/05/2024\".split(sep=\"/\")"
   ]
  },
  {
   "cell_type": "markdown",
   "metadata": {},
   "source": [
    "### Join\n",
    "Joins a list of string to a String."
   ]
  },
  {
   "cell_type": "code",
   "execution_count": 101,
   "metadata": {},
   "outputs": [
    {
     "data": {
      "text/plain": [
       "'Subrata'"
      ]
     },
     "execution_count": 101,
     "metadata": {},
     "output_type": "execute_result"
    }
   ],
   "source": [
    "\"\".join([\"S\", \"u\", \"b\", \"r\", \"a\", \"t\", \"a\"])"
   ]
  },
  {
   "cell_type": "markdown",
   "metadata": {},
   "source": [
    "### Find\n",
    "Returns the `index` of the substring if found in the string else it returns `-1`."
   ]
  },
  {
   "cell_type": "code",
   "execution_count": 102,
   "metadata": {},
   "outputs": [
    {
     "data": {
      "text/plain": [
       "4"
      ]
     },
     "execution_count": 102,
     "metadata": {},
     "output_type": "execute_result"
    }
   ],
   "source": [
    "\"Subrata\".find(\"a\")"
   ]
  },
  {
   "cell_type": "markdown",
   "metadata": {},
   "source": [
    "### Index\n",
    "Returns the `index` of the substring if found in the string else it throws an `Error`."
   ]
  },
  {
   "cell_type": "code",
   "execution_count": 103,
   "metadata": {},
   "outputs": [
    {
     "data": {
      "text/plain": [
       "4"
      ]
     },
     "execution_count": 103,
     "metadata": {},
     "output_type": "execute_result"
    }
   ],
   "source": [
    "\"Subrata\".index(\"a\")"
   ]
  },
  {
   "cell_type": "markdown",
   "metadata": {},
   "source": [
    "### Count\n",
    "Returns the `frequency` of a substring in a string if present else returns `0`"
   ]
  },
  {
   "cell_type": "code",
   "execution_count": 104,
   "metadata": {},
   "outputs": [
    {
     "data": {
      "text/plain": [
       "2"
      ]
     },
     "execution_count": 104,
     "metadata": {},
     "output_type": "execute_result"
    }
   ],
   "source": [
    "\"Subrata\".count(\"a\")"
   ]
  },
  {
   "cell_type": "markdown",
   "metadata": {},
   "source": [
    "### Replace\n",
    "Replaces old string with new string."
   ]
  },
  {
   "cell_type": "code",
   "execution_count": 107,
   "metadata": {},
   "outputs": [
    {
     "data": {
      "text/plain": [
       "'Subrata Ⓜ️ondal'"
      ]
     },
     "execution_count": 107,
     "metadata": {},
     "output_type": "execute_result"
    }
   ],
   "source": [
    "\"Subrata mondal\".replace(\"m\", \"Ⓜ️\")"
   ]
  },
  {
   "cell_type": "markdown",
   "metadata": {},
   "source": [
    "### isalpha\n",
    "Do the string contains all `Alphabets`"
   ]
  },
  {
   "cell_type": "code",
   "execution_count": 108,
   "metadata": {},
   "outputs": [
    {
     "name": "stdout",
     "output_type": "stream",
     "text": [
      "True\n",
      "False\n"
     ]
    }
   ],
   "source": [
    "print(\"Subrata\".isalpha())\n",
    "\n",
    "print(\"Subrata123\".isalpha())"
   ]
  },
  {
   "cell_type": "markdown",
   "metadata": {},
   "source": [
    "### isalnum\n",
    "Do the string contains both `Alphabet or Numeric` or not."
   ]
  },
  {
   "cell_type": "code",
   "execution_count": 109,
   "metadata": {},
   "outputs": [
    {
     "name": "stdout",
     "output_type": "stream",
     "text": [
      "True\n",
      "True\n",
      "True\n",
      "False\n"
     ]
    }
   ],
   "source": [
    "print(\"Subrata\".isalnum())\n",
    "\n",
    "print(\"1234\".isalnum())\n",
    "\n",
    "print(\"Subrata123\".isalnum())\n",
    "\n",
    "print(\"@#$\".isalnum())"
   ]
  },
  {
   "cell_type": "markdown",
   "metadata": {},
   "source": [
    "### isdigit\n",
    "Do the string contains digits only."
   ]
  },
  {
   "cell_type": "code",
   "execution_count": 111,
   "metadata": {},
   "outputs": [
    {
     "name": "stdout",
     "output_type": "stream",
     "text": [
      "True\n",
      "False\n"
     ]
    }
   ],
   "source": [
    "print(\"1234\".isdigit())\n",
    "\n",
    "print(\"Subrata123\".isdigit())"
   ]
  },
  {
   "cell_type": "markdown",
   "metadata": {},
   "source": [
    "### islower\n",
    "Do the string has all small letters."
   ]
  },
  {
   "cell_type": "code",
   "execution_count": 117,
   "metadata": {},
   "outputs": [
    {
     "name": "stdout",
     "output_type": "stream",
     "text": [
      "False\n",
      "True\n"
     ]
    }
   ],
   "source": [
    "print(\"Subrata\".islower())\n",
    "\n",
    "print(\"subrata\".islower())"
   ]
  },
  {
   "cell_type": "markdown",
   "metadata": {},
   "source": [
    "### isupper\n",
    "Do the string has all uppercase letters."
   ]
  },
  {
   "cell_type": "code",
   "execution_count": 113,
   "metadata": {},
   "outputs": [
    {
     "name": "stdout",
     "output_type": "stream",
     "text": [
      "False\n",
      "True\n"
     ]
    }
   ],
   "source": [
    "print(\"Subrata\".isupper())\n",
    "\n",
    "print(\"SUBRATA\".isupper())"
   ]
  },
  {
   "cell_type": "markdown",
   "metadata": {},
   "source": [
    "## List/Array"
   ]
  },
  {
   "cell_type": "markdown",
   "metadata": {},
   "source": [
    "**Lists**: **Ordered Mutable Iterable Sequence** of elements enclosed in square brackets `[ ]`.\n",
    "\n",
    "- Lists are mutable since on mutating the list the `memory address` remains the same.\n",
    "- Allows **Duplicate** and **Heterogenous** Elements.\n",
    "- Since, Strings are `Ordered` therefore, `Indexable` and hence `Sliceable`.\n",
    "- Common **`sequence`** operations are: **concatenation, repetition,** and **membership testing**."
   ]
  },
  {
   "cell_type": "code",
   "execution_count": 116,
   "metadata": {},
   "outputs": [
    {
     "name": "stdout",
     "output_type": "stream",
     "text": [
      "['Subrata'] 4555494592\n",
      "['Subrata', 'Mondal'] 4555494592\n"
     ]
    }
   ],
   "source": [
    "\"\"\"Mmutability\"\"\"\n",
    "name = [\"Subrata\"]\n",
    "print(name, id(name))\n",
    "\n",
    "name.append(\"Mondal\")\n",
    "print(name,id( name))"
   ]
  },
  {
   "cell_type": "code",
   "execution_count": 118,
   "metadata": {},
   "outputs": [
    {
     "name": "stdout",
     "output_type": "stream",
     "text": [
      "[3, 4, 4, 5, 3, 4, 4, 5]\n"
     ]
    }
   ],
   "source": [
    "\"\"\"Concatenation\"\"\"\n",
    "\n",
    "counter = [3,4,4,5]\n",
    "print(counter+counter)"
   ]
  },
  {
   "cell_type": "code",
   "execution_count": 120,
   "metadata": {},
   "outputs": [
    {
     "name": "stdout",
     "output_type": "stream",
     "text": [
      "[3, 4, 4, 5, 3, 4, 4, 5, 3, 4, 4, 5]\n"
     ]
    }
   ],
   "source": [
    "\"\"\"Repetition\"\"\"\n",
    "\n",
    "counter = [3,4,4,5]\n",
    "print(counter*3)"
   ]
  },
  {
   "cell_type": "code",
   "execution_count": 121,
   "metadata": {},
   "outputs": [
    {
     "name": "stdout",
     "output_type": "stream",
     "text": [
      "True\n",
      "False\n"
     ]
    }
   ],
   "source": [
    "\"\"\"Membership Testing\"\"\"\n",
    "\n",
    "counter = [3,4,4,5]\n",
    "print(5 in counter)\n",
    "print(555 in counter)"
   ]
  },
  {
   "cell_type": "markdown",
   "metadata": {},
   "source": [
    "### Append\n",
    "Insert element at the last index of the list."
   ]
  },
  {
   "cell_type": "code",
   "execution_count": 124,
   "metadata": {},
   "outputs": [
    {
     "data": {
      "text/plain": [
       "[1, 2, 3, 4, 5, 'B', 10]"
      ]
     },
     "execution_count": 124,
     "metadata": {},
     "output_type": "execute_result"
    }
   ],
   "source": [
    "l = [1,2,3,4,5,\"B\"]\n",
    "l.append(10)\n",
    "l"
   ]
  },
  {
   "cell_type": "code",
   "execution_count": 125,
   "metadata": {},
   "outputs": [
    {
     "data": {
      "text/plain": [
       "[1, 2, 3, 4, 5, 'B', 10, 'A']"
      ]
     },
     "execution_count": 125,
     "metadata": {},
     "output_type": "execute_result"
    }
   ],
   "source": [
    "l.append(\"A\")\n",
    "l"
   ]
  },
  {
   "cell_type": "markdown",
   "metadata": {},
   "source": [
    "### Insert\n",
    "Insert element in the index at the given position/index."
   ]
  },
  {
   "cell_type": "code",
   "execution_count": 126,
   "metadata": {},
   "outputs": [
    {
     "data": {
      "text/plain": [
       "[1, 2, 'Subrata', 3, 4, 5, 'A']"
      ]
     },
     "execution_count": 126,
     "metadata": {},
     "output_type": "execute_result"
    }
   ],
   "source": [
    "l = [1,2,3,4,5,\"A\"]\n",
    "l.insert(2, \"Subrata\")\n",
    "l"
   ]
  },
  {
   "cell_type": "markdown",
   "metadata": {},
   "source": [
    "### Remove\n",
    "Remove the element from the list, if multiple duplicate elements then removes the first occurence."
   ]
  },
  {
   "cell_type": "code",
   "execution_count": 128,
   "metadata": {},
   "outputs": [
    {
     "data": {
      "text/plain": [
       "[1, 2, 4, 5, 3, 4, 6]"
      ]
     },
     "execution_count": 128,
     "metadata": {},
     "output_type": "execute_result"
    }
   ],
   "source": [
    "l = [1,2,3,4,5,3,4,6]\n",
    "l.remove(3)\n",
    "l"
   ]
  },
  {
   "cell_type": "markdown",
   "metadata": {},
   "source": [
    "### Pop\n",
    "Remove and return the last element from a list."
   ]
  },
  {
   "cell_type": "code",
   "execution_count": 127,
   "metadata": {},
   "outputs": [
    {
     "data": {
      "text/plain": [
       "5"
      ]
     },
     "execution_count": 127,
     "metadata": {},
     "output_type": "execute_result"
    }
   ],
   "source": [
    "l = [1,2,3,4,5]\n",
    "l.pop()"
   ]
  },
  {
   "cell_type": "markdown",
   "metadata": {},
   "source": [
    "### Index\n",
    "Returns the index of an element if present else throws an `Error`"
   ]
  },
  {
   "cell_type": "code",
   "execution_count": 129,
   "metadata": {},
   "outputs": [
    {
     "ename": "ValueError",
     "evalue": "999 is not in list",
     "output_type": "error",
     "traceback": [
      "\u001b[0;31m---------------------------------------------------------------------------\u001b[0m",
      "\u001b[0;31mValueError\u001b[0m                                Traceback (most recent call last)",
      "Cell \u001b[0;32mIn[129], line 1\u001b[0m\n\u001b[0;32m----> 1\u001b[0m \u001b[43ml\u001b[49m\u001b[38;5;241;43m.\u001b[39;49m\u001b[43mindex\u001b[49m\u001b[43m(\u001b[49m\u001b[38;5;241;43m999\u001b[39;49m\u001b[43m)\u001b[49m\n",
      "\u001b[0;31mValueError\u001b[0m: 999 is not in list"
     ]
    }
   ],
   "source": [
    "l.index(999)"
   ]
  },
  {
   "cell_type": "markdown",
   "metadata": {},
   "source": [
    "### Membership `in`"
   ]
  },
  {
   "cell_type": "code",
   "execution_count": 130,
   "metadata": {},
   "outputs": [
    {
     "data": {
      "text/plain": [
       "True"
      ]
     },
     "execution_count": 130,
     "metadata": {},
     "output_type": "execute_result"
    }
   ],
   "source": [
    "5 in [1,2,3,4,3,5]"
   ]
  },
  {
   "cell_type": "markdown",
   "metadata": {},
   "source": [
    "### Reverse\n",
    "Reverses the elements in the list."
   ]
  },
  {
   "cell_type": "code",
   "execution_count": 131,
   "metadata": {},
   "outputs": [
    {
     "data": {
      "text/plain": [
       "[5, 3, 4, 3, 2, 1]"
      ]
     },
     "execution_count": 131,
     "metadata": {},
     "output_type": "execute_result"
    }
   ],
   "source": [
    "l  = [1,2,3,4,3,5]\n",
    "l.reverse()\n",
    "l"
   ]
  },
  {
   "cell_type": "markdown",
   "metadata": {},
   "source": [
    "### Sort\n",
    "Sort the element in a list."
   ]
  },
  {
   "cell_type": "code",
   "execution_count": 132,
   "metadata": {},
   "outputs": [
    {
     "data": {
      "text/plain": [
       "[1, 2, 3, 4, 5]"
      ]
     },
     "execution_count": 132,
     "metadata": {},
     "output_type": "execute_result"
    }
   ],
   "source": [
    "l = [3,1,2,4,5]\n",
    "l.sort()\n",
    "l"
   ]
  },
  {
   "cell_type": "code",
   "execution_count": 133,
   "metadata": {},
   "outputs": [
    {
     "data": {
      "text/plain": [
       "[5, 4, 3, 2, 1]"
      ]
     },
     "execution_count": 133,
     "metadata": {},
     "output_type": "execute_result"
    }
   ],
   "source": [
    "l.sort(reverse=True)\n",
    "l\n"
   ]
  },
  {
   "cell_type": "markdown",
   "metadata": {},
   "source": [
    "### List Comprehension"
   ]
  },
  {
   "cell_type": "code",
   "execution_count": 134,
   "metadata": {},
   "outputs": [
    {
     "data": {
      "text/plain": [
       "[2, 4, 6, 8]"
      ]
     },
     "execution_count": 134,
     "metadata": {},
     "output_type": "execute_result"
    }
   ],
   "source": [
    "[i for i in range(1,10) if i%2 == 0]"
   ]
  },
  {
   "cell_type": "code",
   "execution_count": 135,
   "metadata": {},
   "outputs": [
    {
     "data": {
      "text/plain": [
       "[[0, 1, 2, 3, 4, 5], [0, 1, 2, 3, 4, 5]]"
      ]
     },
     "execution_count": 135,
     "metadata": {},
     "output_type": "execute_result"
    }
   ],
   "source": [
    "[[j for j in range(6)] for i in range(2)]"
   ]
  },
  {
   "cell_type": "markdown",
   "metadata": {},
   "source": [
    "### Aliasing\n",
    "Change in X causes change in Y. To avoid that we create a new object with the same content."
   ]
  },
  {
   "cell_type": "code",
   "execution_count": 136,
   "metadata": {},
   "outputs": [
    {
     "name": "stdout",
     "output_type": "stream",
     "text": [
      "4554809088\n",
      "4554809088\n"
     ]
    }
   ],
   "source": [
    "x = [10, 20, 30, 40]\n",
    "print(id(x))\n",
    "\n",
    "y = x\n",
    "print(id(y))"
   ]
  },
  {
   "cell_type": "code",
   "execution_count": 137,
   "metadata": {},
   "outputs": [
    {
     "name": "stdout",
     "output_type": "stream",
     "text": [
      "[10, 20, 30, 40, 77] 4554809088\n",
      "[10, 20, 30, 40, 77] 4554809088\n"
     ]
    }
   ],
   "source": [
    "\"\"\"Change in X causes change in Y\"\"\"\n",
    "x.append(77)\n",
    "\n",
    "print(x, id(x))\n",
    "print(y, id(y))"
   ]
  },
  {
   "cell_type": "code",
   "execution_count": 138,
   "metadata": {},
   "outputs": [
    {
     "name": "stdout",
     "output_type": "stream",
     "text": [
      "[10, 20, 30, 40, 50, 77] 4554124672\n",
      "[10, 20, 30, 40, 50] 4555267776\n"
     ]
    }
   ],
   "source": [
    "\"\"\"create a new object with the same content\"\"\"\n",
    "x = [10, 20, 30, 40, 50]\n",
    "y = x[:]\n",
    "\n",
    "x.append(77)\n",
    "\n",
    "print(x, id(x))\n",
    "print(y, id(y))"
   ]
  },
  {
   "cell_type": "markdown",
   "metadata": {},
   "source": [
    "## Tuples"
   ]
  },
  {
   "cell_type": "markdown",
   "metadata": {},
   "source": [
    "**Tuples (read-only lists)**: **Ordered Immutable Iterable Sequence** of elements enclosed in parenthesis `( )`.\n",
    "\n",
    "> Tuples are Lists but Immutable.\n",
    "\n",
    "- Tuples Immutable we can't mutate them and if reassign the same identifier then their `Memory adress changes`.\n",
    "- Since, Tuples are `Ordered` therefore, `Indexable` and hence `Sliceable`.\n",
    "- Common **`sequence`** operations are: **concatenation, repetition,** and **membership testing**.\n",
    "- Tuples allow Python functions two return more than one output.\n",
    "- Allows **Duplicate** and **Heterogenous** Elements.\n",
    "- Comprehension concept like List Comprehension doesn't work in tuples.\n"
   ]
  },
  {
   "cell_type": "code",
   "execution_count": 139,
   "metadata": {},
   "outputs": [
    {
     "ename": "TypeError",
     "evalue": "'tuple' object does not support item assignment",
     "output_type": "error",
     "traceback": [
      "\u001b[0;31m---------------------------------------------------------------------------\u001b[0m",
      "\u001b[0;31mTypeError\u001b[0m                                 Traceback (most recent call last)",
      "Cell \u001b[0;32mIn[139], line 3\u001b[0m\n\u001b[1;32m      1\u001b[0m \u001b[38;5;124;03m\"\"\"Tuples are Immutable\"\"\"\u001b[39;00m\n\u001b[1;32m      2\u001b[0m numbers \u001b[38;5;241m=\u001b[39m (\u001b[38;5;241m2\u001b[39m,\u001b[38;5;241m3\u001b[39m,\u001b[38;5;241m4\u001b[39m,\u001b[38;5;241m5\u001b[39m)\n\u001b[0;32m----> 3\u001b[0m \u001b[43mnumbers\u001b[49m\u001b[43m[\u001b[49m\u001b[38;5;241;43m0\u001b[39;49m\u001b[43m]\u001b[49m \u001b[38;5;241m=\u001b[39m \u001b[38;5;241m999\u001b[39m\n",
      "\u001b[0;31mTypeError\u001b[0m: 'tuple' object does not support item assignment"
     ]
    }
   ],
   "source": [
    "\"\"\"Tuples are Immutable\"\"\"\n",
    "numbers = (2,3,4,5)\n",
    "numbers[0] = 999"
   ]
  },
  {
   "cell_type": "code",
   "execution_count": 140,
   "metadata": {},
   "outputs": [
    {
     "name": "stdout",
     "output_type": "stream",
     "text": [
      "4557182976\n",
      "4555432528\n"
     ]
    }
   ],
   "source": [
    "\"\"\"Tuples are Immutable: Memory Address Changes on Reassigning Identifier\"\"\"\n",
    "numbers = (2,3,4,5)\n",
    "print(id(numbers))\n",
    "\n",
    "numbers = (3,4,5,6)\n",
    "print(id(numbers))"
   ]
  },
  {
   "cell_type": "markdown",
   "metadata": {},
   "source": [
    "### Packing and Unpacking"
   ]
  },
  {
   "cell_type": "code",
   "execution_count": 142,
   "metadata": {},
   "outputs": [
    {
     "name": "stdout",
     "output_type": "stream",
     "text": [
      "(10, 'A', 30, 33.8)\n",
      "<class 'tuple'>\n"
     ]
    }
   ],
   "source": [
    "\"\"\"Packing\"\"\"\n",
    "a = 10\n",
    "b = \"A\"\n",
    "c = 30\n",
    "d = 33.8\n",
    "t = a,b,c,d\n",
    "print(t)\n",
    "print(type(t))"
   ]
  },
  {
   "cell_type": "code",
   "execution_count": null,
   "metadata": {},
   "outputs": [],
   "source": []
  }
 ],
 "metadata": {
  "kernelspec": {
   "display_name": ".venv",
   "language": "python",
   "name": "python3"
  },
  "language_info": {
   "codemirror_mode": {
    "name": "ipython",
    "version": 3
   },
   "file_extension": ".py",
   "mimetype": "text/x-python",
   "name": "python",
   "nbconvert_exporter": "python",
   "pygments_lexer": "ipython3",
   "version": "3.11.5"
  }
 },
 "nbformat": 4,
 "nbformat_minor": 2
}
