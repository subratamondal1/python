{
 "cells": [
  {
   "cell_type": "markdown",
   "metadata": {},
   "source": [
    "# Linear Regression Code Preparation"
   ]
  },
  {
   "cell_type": "markdown",
   "metadata": {},
   "source": [
    "Regression is a type of supervised machine learning algorithm used for predicting a **continuous output** variable (dependent variable or target variable) based on one or more input variables (independent variables or features). The goal of regression is to find the best-fitting line or curve that can predict the output variable as accurately as possible.\n",
    "\n",
    "Mathematically, regression can be represented as a function that maps input variables (x) to an output variable (y). The function can take many forms, but the most common form is a linear function, represented as:\n",
    "\n",
    "$$\n",
    "y = w_1x_1 + w_2x_2 + ... + w_n*x_n + b\n",
    "$$\n",
    "\n",
    "where $w_1, w_2, ..., w_n$ are the weights or coefficients that determine the slope of the line, $x_1, x_2, ..., x_n$ are the input variables, and $b$ is the **bias** or **intercept** that determines where the line intersects the y-axis.\n",
    "\n",
    "The **goal of regression** is to find the values of the weights and bias that minimize the difference between the predicted output and the actual output. This difference is known as the **error** or **residual**. The most common method for finding the best-fitting line is to use a technique called **least squares regression**, which minimizes the sum of the squared errors.\n",
    "\n",
    "The **mathematical intuition** behind regression is to find the line or curve that best represents the relationship between the input variables and the output variable. This is done by adjusting the weights and bias to minimize the error between the predicted output and the actual output. The best-fitting line or curve is the one that has the smallest error or residual."
   ]
  },
  {
   "cell_type": "markdown",
   "metadata": {},
   "source": [
    "# Pipeline\n",
    "**1. Build the Model** </br>\n",
    "**2. Train the Model** </br>\n",
    "**3. Make Predictions** </br>"
   ]
  },
  {
   "cell_type": "markdown",
   "metadata": {},
   "source": [
    "## Build the Model"
   ]
  },
  {
   "cell_type": "markdown",
   "metadata": {},
   "source": [
    "```python\n",
    "# build linear regression model\n",
    "model = nn.Linear(in_features=1, out_features=1)\n",
    "\n",
    "Linear(in_features=1, out_features=1, bias=True)\n",
    "```\n"
   ]
  },
  {
   "cell_type": "markdown",
   "metadata": {},
   "source": [
    "## Train the Model"
   ]
  },
  {
   "cell_type": "markdown",
   "metadata": {},
   "source": [
    "```python\n",
    "# Loss\n",
    "criterion = nn.MSELoss()\n",
    "\n",
    "MSELoss()\n",
    "\n",
    "# optimizer\n",
    "optimizer = torch.optim.SGD(params=model.parameters(), lr=0.1)\n",
    "\n",
    "SGD (\n",
    "Parameter Group 0\n",
    "    dampening: 0\n",
    "    differentiable: False\n",
    "    foreach: None\n",
    "    lr: 0.1\n",
    "    maximize: False\n",
    "    momentum: 0\n",
    "    nesterov: False\n",
    "    weight_decay: 0\n",
    ")\n",
    "```"
   ]
  },
  {
   "cell_type": "markdown",
   "metadata": {},
   "source": [
    "### Gradient Descent Loop"
   ]
  },
  {
   "cell_type": "markdown",
   "metadata": {},
   "source": [
    "```python\n",
    "# train the model\n",
    "EPOCHS = 30\n",
    "for i in range(EPOCHS):\n",
    "    # zero the parameter gradients\n",
    "    optimizer.zero_grad()\n",
    "\n",
    "    # forward pass\n",
    "    outputs = model(inputs)\n",
    "    loss = criterion(outputs, targets)\n",
    "\n",
    "    # back-propagate loss and optimize\n",
    "    loss.backward()\n",
    "    optimizer.step()\n",
    "```"
   ]
  },
  {
   "cell_type": "markdown",
   "metadata": {},
   "source": [
    "## Make Predictions\n"
   ]
  },
  {
   "cell_type": "markdown",
   "metadata": {},
   "source": [
    "```python\n",
    "# make predictions\n",
    "predictions = model(inputs).detach().numpy()\n",
    "```"
   ]
  },
  {
   "cell_type": "markdown",
   "metadata": {},
   "source": [
    "# Linear Regression"
   ]
  },
  {
   "cell_type": "code",
   "execution_count": 15,
   "metadata": {},
   "outputs": [],
   "source": [
    "# import libraries\n",
    "import torch\n",
    "import torch.nn as nn\n",
    "import numpy as np\n",
    "import matplotlib.pyplot as plt"
   ]
  },
  {
   "cell_type": "code",
   "execution_count": 20,
   "metadata": {},
   "outputs": [
    {
     "data": {
      "image/png": "[encoded data removed]",
      "text/plain": [
       "<Figure size 640x480 with 1 Axes>"
      ]
     },
     "metadata": {},
     "output_type": "display_data"
    }
   ],
   "source": [
    "# generate 20 data points\n",
    "N = 20\n",
    "\n",
    "# random data on X-AXIS (-5, +5)\n",
    "X = np.random.random(size=N) * 10 - 5\n",
    "\n",
    "# a line plus some noise\n",
    "Y = 0.5 * X - 1 + np.random.randn(N)\n",
    "\n",
    "# plot the data\n",
    "plt.scatter(x=X, y=Y)\n",
    "plt.show()"
   ]
  },
  {
   "cell_type": "code",
   "execution_count": 27,
   "metadata": {},
   "outputs": [
    {
     "name": "stdout",
     "output_type": "stream",
     "text": [
      "<class 'torch.Tensor'>\n",
      "<class 'torch.Tensor'>\n"
     ]
    }
   ],
   "source": [
    "# BUILD MODEL\n",
    "model = nn.Linear(in_features=1, out_features=1)\n",
    "\n",
    "# LOSS & OPTIMIZER\n",
    "criterion:nn.MSELoss = nn.MSELoss()\n",
    "optimizer:torch.optim.SGD = torch.optim.SGD(params=model.parameters(), lr=0.1)\n",
    "\n",
    "X = X.reshape(N,1)\n",
    "Y = Y.reshape(N,1)\n",
    "\n",
    "# Numpy uses float64 & Torch uses float64, so convert\n",
    "inputs = torch.from_numpy(X.astype(dtype=np.float32))\n",
    "targets = torch.from_numpy(Y.astype(dtype=np.float32))\n",
    "\n",
    "print(type(inputs))\n",
    "print(type(targets))"
   ]
  },
  {
   "cell_type": "code",
   "execution_count": 34,
   "metadata": {},
   "outputs": [
    {
     "name": "stdout",
     "output_type": "stream",
     "text": [
      "Epoch: 1/10 | Loss: 0.6017476916313171\n",
      "Epoch: 2/10 | Loss: 0.6017476916313171\n",
      "Epoch: 3/10 | Loss: 0.6017476916313171\n",
      "Epoch: 4/10 | Loss: 0.6017476916313171\n",
      "Epoch: 5/10 | Loss: 0.6017476916313171\n",
      "Epoch: 6/10 | Loss: 0.6017476916313171\n",
      "Epoch: 7/10 | Loss: 0.6017476916313171\n",
      "Epoch: 8/10 | Loss: 0.6017476916313171\n",
      "Epoch: 9/10 | Loss: 0.6017476916313171\n",
      "Epoch: 10/10 | Loss: 0.6017476916313171\n"
     ]
    }
   ],
   "source": [
    "# TRAIN MODEL\n",
    "EPOCHS = 10\n",
    "LOSSES = []\n",
    "\n",
    "for i in range(EPOCHS):\n",
    "    # zero the parameter gradients\n",
    "    optimizer.zero_grad()\n",
    "\n",
    "    # forward pass\n",
    "    outputs = model(inputs)\n",
    "    loss = criterion(outputs, targets)\n",
    "\n",
    "    # store the loss\n",
    "    LOSSES.append(loss.item())\n",
    "\n",
    "    # BACKPROPAGATE LOSS\n",
    "    loss.backward()\n",
    "\n",
    "    # OPTIMIZE\n",
    "    optimizer.step()\n",
    "\n",
    "    print(f\"Epoch: {i+1}/{EPOCHS} | Loss: {loss}\")\n"
   ]
  },
  {
   "cell_type": "code",
   "execution_count": 35,
   "metadata": {},
   "outputs": [
    {
     "data": {
      "text/plain": [
       "[<matplotlib.lines.Line2D at 0x125bd5a90>]"
      ]
     },
     "execution_count": 35,
     "metadata": {},
     "output_type": "execute_result"
    },
    {
     "data": {
      "image/png": "[encoded data removed]",
      "text/plain": [
       "<Figure size 640x480 with 1 Axes>"
      ]
     },
     "metadata": {},
     "output_type": "display_data"
    }
   ],
   "source": [
    "# plot the loss\n",
    "plt.plot(LOSSES)"
   ]
  },
  {
   "cell_type": "code",
   "execution_count": 39,
   "metadata": {},
   "outputs": [
    {
     "data": {
      "image/png": "[encoded data removed]",
      "text/plain": [
       "<Figure size 640x480 with 1 Axes>"
      ]
     },
     "metadata": {},
     "output_type": "display_data"
    }
   ],
   "source": [
    "# plot the graph\n",
    "predicted = model(inputs).detach().numpy()\n",
    "plt.scatter(x=X, y=Y, label=\"Original Data\")\n",
    "plt.plot(X, predicted, label=\"Fitted Line\")\n",
    "plt.legend()\n",
    "plt.show()"
   ]
  },
  {
   "cell_type": "code",
   "execution_count": null,
   "metadata": {},
   "outputs": [],
   "source": []
  }
 ],
 "metadata": {
  "kernelspec": {
   "display_name": "Python 3",
   "language": "python",
   "name": "python3"
  },
  "language_info": {
   "codemirror_mode": {
    "name": "ipython",
    "version": 3
   },
   "file_extension": ".py",
   "mimetype": "text/x-python",
   "name": "python",
   "nbconvert_exporter": "python",
   "pygments_lexer": "ipython3",
   "version": "3.11.7"
  }
 },
 "nbformat": 4,
 "nbformat_minor": 2
}
