{
 "cells": [
  {
   "cell_type": "markdown",
   "metadata": {},
   "source": [
    "# Stacks\n",
    "\n",
    "A stack is a **linear** data structure that follows the** Last-In-First-Out (LIFO)** principle. Elements are added and removed from the same end, called the \"top\" of the stack. This is analogous to a pile of plates, where you add a new plate on top and remove the top plate first."
   ]
  },
  {
   "cell_type": "markdown",
   "metadata": {},
   "source": [
    "## Properties\n",
    "\n",
    "- **LIFO (Last-In-First-Out):** The most recently added element is the first to be removed.\n",
    "- **Dynamic Size:** Lists can grow or shrink as needed, making stacks suitable for various data sizes."
   ]
  },
  {
   "cell_type": "markdown",
   "metadata": {},
   "source": [
    "## Methods\n",
    "\n",
    "1. `is_empty()`: Checks if the stack is empty (returns `True/False`).\n",
    "2. `push(item)`: Adds an element (`item`) to the top of the stack.\n",
    "3. `pop()`: Removes and returns the top element from the stack. Raises an exception if the stack is empty.\n",
    "4. `peek() / top()`: Returns the top element without removing it. Raises an exception if the stack is empty.\n",
    "5. `size()`: Returns the current number of elements in the stack."
   ]
  },
  {
   "cell_type": "markdown",
   "metadata": {},
   "source": [
    "## Time and Space Complexity\n",
    "\n",
    "- **Push and Pop:** O(1) - Constant time, as these operations only involve manipulating the end of the list (top of the stack).\n",
    "- **Peek and Size:** O(1) - Constant time, as they access the list's end or length directly."
   ]
  },
  {
   "cell_type": "markdown",
   "metadata": {},
   "source": [
    "## Use Cases\n",
    "\n",
    "Stacks have various applications in programming:\n",
    "\n",
    "- **Function Calls:** When a function is called, its arguments and local variables are pushed onto a stack. When the function returns, its information is popped off the stack.\n",
    "- **Expression Evaluation:** Stacks are used to evaluate expressions in reverse Polish notation (postfix notation).\n",
    "- **Backtracking Algorithms:** Backtracking algorithms often use stacks to keep track of explored paths and backtrack when necessary.\n",
    "- **Undo/Redo Functionality:** Stacks can be used to implement undo/redo functionality in applications, allowing users to revert actions.\n",
    "- **Browser History:** Web browsers use stacks to maintain the history of visited pages, enabling navigation back and forth.\n",
    "- **Syntax Analysis:** Stacks play a role in parsing expressions and checking for balanced brackets in compilers.\n",
    "\n",
    "**Additional Considerations**\n",
    "\n",
    "- While lists offer a simple implementation, consider using the `collections.deque` class for efficiency in some cases, as it's optimized for fast insertions and removals at both ends.\n",
    "- For fixed-size stacks, you might explore using an array-based implementation, but keep in mind the trade-offs in terms of memory allocation and flexibility."
   ]
  },
  {
   "cell_type": "code",
   "execution_count": 10,
   "metadata": {},
   "outputs": [],
   "source": [
    "class Stack:\n",
    "    def __init__(self) -> None:\n",
    "        self.__array = []\n",
    "        print(\"...Stack is Initialized...\")\n",
    "    \n",
    "    def push(self, element):\n",
    "        self.__array.append(element)\n",
    "\n",
    "    def pop(self):\n",
    "        if self.isEmpty():\n",
    "            return \"Empty Stack\"\n",
    "        return self.__array.pop()\n",
    "\n",
    "    def top(self):\n",
    "        if self.isEmpty():\n",
    "            return \"Empty Stack\"\n",
    "        return self.__array[-1]\n",
    "\n",
    "    def size(self):\n",
    "        return len(self.__array)\n",
    "\n",
    "    def isEmpty(self):\n",
    "        return self.size() == 0"
   ]
  },
  {
   "cell_type": "code",
   "execution_count": 11,
   "metadata": {},
   "outputs": [
    {
     "name": "stdout",
     "output_type": "stream",
     "text": [
      "...Stack is Initialized...\n"
     ]
    }
   ],
   "source": [
    "stack1 = Stack()"
   ]
  },
  {
   "cell_type": "code",
   "execution_count": 12,
   "metadata": {},
   "outputs": [],
   "source": [
    "stack1.push(element=10)\n",
    "stack1.push(element=20)\n",
    "stack1.push(element=30)"
   ]
  },
  {
   "cell_type": "code",
   "execution_count": 13,
   "metadata": {},
   "outputs": [
    {
     "name": "stdout",
     "output_type": "stream",
     "text": [
      "30\n",
      "20\n",
      "10\n"
     ]
    }
   ],
   "source": [
    "print(stack1.pop())\n",
    "print(stack1.pop())\n",
    "print(stack1.pop())"
   ]
  },
  {
   "cell_type": "code",
   "execution_count": 14,
   "metadata": {},
   "outputs": [
    {
     "name": "stdout",
     "output_type": "stream",
     "text": [
      "Empty Stack\n"
     ]
    }
   ],
   "source": [
    "print(stack1.pop())"
   ]
  },
  {
   "cell_type": "markdown",
   "metadata": {},
   "source": [
    "# Infix, Prefix, Postfix"
   ]
  },
  {
   "cell_type": "markdown",
   "metadata": {},
   "source": [
    "**Infix Notation (Most Common)**\n",
    "\n",
    "- Infix notation is the most common way we write expressions in everyday math.\n",
    "- The operator is placed **between** the operands.\n",
    "- Example: `2 + 3 * 4` (read as \"two plus three times four\")\n",
    "\n",
    "**Prefix Notation (Polish Notation)**\n",
    "\n",
    "- Prefix notation, also known as Polish notation, places the operator **before** its operands.\n",
    "- This eliminates the need for parentheses to define the order of operations.\n",
    "- Example: `+ 2 * 3 4` (read as \"add two to the product of three and four\")\n",
    "\n",
    "**Postfix Notation (Reverse Polish Notation)**\n",
    "\n",
    "- Postfix notation, also known as Reverse Polish Notation (RPN), places the operator **after** its operands.\n",
    "- Similar to prefix notation, it doesn't require parentheses for order of operations.\n",
    "- Example: `2 3 4 * +` (read as \"add two to the product of three and four\")\n",
    "\n",
    "| Notation | Operator Position | Example |\n",
    "|---|---|---|\n",
    "| Infix | Between operands | 2 + 3 * 4 |\n",
    "| Prefix | Before operands | + 2 * 3 4 |\n",
    "| Postfix | After operands | 2 3 4 * + |\n",
    "\n",
    "**Why Use Prefix and Postfix?**\n",
    "\n",
    "- While infix notation is intuitive for humans, prefix and postfix notations are more efficient for computers to evaluate.\n",
    "- They don't require parsing complex rules for operator precedence (e.g., multiplication before addition) or using parentheses.\n",
    "- This makes them valuable for applications like:\n",
    "    - Compilers: Translating code into machine instructions.\n",
    "    - Calculators: Especially those using RPN mode.\n",
    "    - Evaluating expressions in computer programs."
   ]
  },
  {
   "cell_type": "markdown",
   "metadata": {},
   "source": [
    "# Problem Solving"
   ]
  },
  {
   "cell_type": "markdown",
   "metadata": {},
   "source": [
    "## Balanced Parenthesis"
   ]
  },
  {
   "cell_type": "code",
   "execution_count": 25,
   "metadata": {},
   "outputs": [],
   "source": [
    "def balanced_parenthesis(user_input:str) -> bool:\n",
    "    stack =  Stack()\n",
    "    for element in user_input:\n",
    "        if element in \"({[\":\n",
    "            stack.push(element=element)\n",
    "        elif element == \")\":\n",
    "            if stack.isEmpty() or stack.top() != \"(\":\n",
    "                return False\n",
    "            stack.pop()\n",
    "        elif element == \"}\":\n",
    "            if stack.isEmpty() or stack.top() != \"{\":\n",
    "                return False\n",
    "            stack.pop()\n",
    "        elif element == \"]\":\n",
    "            if stack.isEmpty() or stack.top() != \"[\":\n",
    "                return False\n",
    "            stack.pop()\n",
    "    if stack.isEmpty():\n",
    "        return True\n",
    "    else:\n",
    "        return False"
   ]
  },
  {
   "cell_type": "code",
   "execution_count": 28,
   "metadata": {},
   "outputs": [
    {
     "name": "stdout",
     "output_type": "stream",
     "text": [
      "...Stack is Initialized...\n"
     ]
    },
    {
     "data": {
      "text/plain": [
       "True"
      ]
     },
     "execution_count": 28,
     "metadata": {},
     "output_type": "execute_result"
    }
   ],
   "source": [
    "balanced_parenthesis(user_input=\"([{}])\")"
   ]
  },
  {
   "cell_type": "markdown",
   "metadata": {},
   "source": [
    "## Tower of Hanoi"
   ]
  },
  {
   "cell_type": "code",
   "execution_count": 30,
   "metadata": {},
   "outputs": [],
   "source": [
    "def tower_of_hanoi(n, source, auxilary, destination): # n is the number of disks\n",
    "    if n == 1:\n",
    "        print(source, \"-->\", destination)\n",
    "    else :\n",
    "        tower_of_hanoi(n=n-1, source=source, auxilary=destination, destination=auxilary)\n",
    "        print(source, \"-->\", destination)\n",
    "        tower_of_hanoi(n=n-1, source=auxilary, auxilary=source, destination=destination)"
   ]
  },
  {
   "cell_type": "code",
   "execution_count": 31,
   "metadata": {},
   "outputs": [
    {
     "name": "stdout",
     "output_type": "stream",
     "text": [
      "A --> C\n",
      "A --> B\n",
      "C --> B\n",
      "A --> C\n",
      "B --> A\n",
      "B --> C\n",
      "A --> C\n"
     ]
    }
   ],
   "source": [
    "tower_of_hanoi(n=3, source=\"A\", auxilary=\"B\", destination=\"C\")"
   ]
  },
  {
   "cell_type": "markdown",
   "metadata": {},
   "source": [
    "# Queue"
   ]
  },
  {
   "cell_type": "markdown",
   "metadata": {},
   "source": [
    "## Queue Data Structure in Python\n",
    "\n",
    "A queue is a **linear** data structure that follows the **First-In-First-Out (FIFO)** principle. Elements are added to the **back** (also called `rear`) of the queue and removed from the **front**. Imagine a line of people waiting for service; the first person in line is served first."
   ]
  },
  {
   "cell_type": "markdown",
   "metadata": {},
   "source": [
    "## Properties\n",
    "\n",
    "- **FIFO (First-In-First-Out):** The element added first is the first to be removed.\n",
    "- **Dynamic Size:** Lists can grow or shrink as needed, making queues suitable for various data sizes."
   ]
  },
  {
   "cell_type": "markdown",
   "metadata": {},
   "source": [
    "## Methods\n",
    "\n",
    "- `is_empty()`: Checks if the queue is empty (returns True/False).\n",
    "- `enqueue(item)`: Adds an element (`item`) to the back of the queue.\n",
    "- `dequeue()`: Removes and returns the front element from the queue. Raises an exception if the queue is empty.\n",
    "- `peek()`: Returns the front element without removing it. Raises an exception if the queue is empty.\n",
    "- `size()`: Returns the current number of elements in the queue."
   ]
  },
  {
   "cell_type": "markdown",
   "metadata": {},
   "source": [
    "## Time and Space Complexity\n",
    "\n",
    "- **Enqueue:** O(1) - Constant time, as it involves appending to the end of the list.\n",
    "- **Dequeue:** O(n) in the worst case - This can be slow for large queues, as elements need to be shifted if using a list. In some cases, it might be better to use `collections.deque` from the standard library, which provides optimized O(1) dequeue operations.\n",
    "- **Peek and Size:** O(1) - Constant time, as they access the list's beginning or length directly.\n"
   ]
  },
  {
   "cell_type": "markdown",
   "metadata": {},
   "source": [
    "## Use Cases\n",
    "\n",
    "Queues have various applications in programming:\n",
    "\n",
    "- **Task Scheduling:** Queues are used to schedule tasks in a specific order, ensuring the first tasks submitted are processed first.\n",
    "- **Processing Requests:** Queues can be used to manage incoming requests to a server or service, handling them in the order they arrive.\n",
    "- **Breadth-First Search (BFS):** BFS algorithms in graphs and trees often use queues to explore nodes level by level.\n",
    "- **Level Order Tree Traversal:** Queues are used to print or process tree nodes level by level during a level-order traversal.\n",
    "- **Simulating Real-World Queues:** Queues can be used to model real-world scenarios like lines for customer service, printing jobs waiting in a printer queue, or music tracks waiting to be played.\n",
    "\n",
    "**Additional Considerations**\n",
    "\n",
    "- While lists offer a simple implementation, consider using the `collections.deque` class for efficiency in some cases. It's optimized for fast insertions and removals at both ends.\n",
    "- For fixed-size queues, you might explore using an array-based implementation, but keep in mind the trade-offs in terms of memory allocation and flexibility."
   ]
  },
  {
   "cell_type": "code",
   "execution_count": 33,
   "metadata": {},
   "outputs": [],
   "source": [
    "class Queue:\n",
    "    def __init__(self) -> None:\n",
    "        self.__array = []\n",
    "        self.__count = 0\n",
    "        self.__front = 0\n",
    "\n",
    "    def enqueue(self, element):\n",
    "        self.__array.append(element)\n",
    "        self.__count += 1\n",
    "\n",
    "    def dequeue(self):\n",
    "        if self.__count == 0:\n",
    "            return \"Empty Queue\"\n",
    "        element = self.__array[self.__front]\n",
    "        self.__front += 1\n",
    "        self.__count -= 1\n",
    "        return element\n",
    "    \n",
    "    def front(self):\n",
    "        if self.__count == 0:\n",
    "            return \"Empty Queue\"\n",
    "        return self.__array[self.__front]\n",
    "    \n",
    "    def size(self):\n",
    "        return self.__count\n",
    "    \n",
    "    def is_empty(self):\n",
    "        return self.size() == 0"
   ]
  },
  {
   "cell_type": "code",
   "execution_count": 34,
   "metadata": {},
   "outputs": [],
   "source": [
    "q = Queue()"
   ]
  },
  {
   "cell_type": "code",
   "execution_count": 36,
   "metadata": {},
   "outputs": [],
   "source": [
    "q.enqueue(element=10)\n",
    "q.enqueue(element=20)\n",
    "q.enqueue(element=30)"
   ]
  },
  {
   "cell_type": "code",
   "execution_count": 37,
   "metadata": {},
   "outputs": [
    {
     "name": "stdout",
     "output_type": "stream",
     "text": [
      "10\n",
      "20\n",
      "30\n",
      "Empty Queue\n"
     ]
    }
   ],
   "source": [
    "print(q.dequeue())\n",
    "print(q.dequeue())\n",
    "print(q.dequeue())\n",
    "print(q.dequeue())"
   ]
  },
  {
   "cell_type": "code",
   "execution_count": 38,
   "metadata": {},
   "outputs": [
    {
     "name": "stdout",
     "output_type": "stream",
     "text": [
      "10\n",
      "20\n",
      "30\n"
     ]
    }
   ],
   "source": [
    "q = Queue()\n",
    "q.enqueue(element=10)\n",
    "q.enqueue(element=20)\n",
    "q.enqueue(element=30)\n",
    "\n",
    "while q.is_empty() is False:\n",
    "    print(q.dequeue())"
   ]
  },
  {
   "cell_type": "markdown",
   "metadata": {},
   "source": [
    "## queue module"
   ]
  },
  {
   "cell_type": "code",
   "execution_count": 39,
   "metadata": {},
   "outputs": [],
   "source": [
    "import queue"
   ]
  },
  {
   "cell_type": "code",
   "execution_count": 40,
   "metadata": {},
   "outputs": [
    {
     "name": "stdout",
     "output_type": "stream",
     "text": [
      "10\n",
      "20\n",
      "30\n",
      "40\n",
      "50\n"
     ]
    }
   ],
   "source": [
    "q = queue.Queue()\n",
    "q.put(item=10)\n",
    "q.put(item=20)\n",
    "q.put(item=30)\n",
    "q.put(item=40)\n",
    "q.put(item=50)\n",
    "\n",
    "\n",
    "while q.empty() is False:\n",
    "    print(q.get())"
   ]
  },
  {
   "cell_type": "code",
   "execution_count": null,
   "metadata": {},
   "outputs": [],
   "source": []
  }
 ],
 "metadata": {
  "kernelspec": {
   "display_name": "Python 3",
   "language": "python",
   "name": "python3"
  },
  "language_info": {
   "codemirror_mode": {
    "name": "ipython",
    "version": 3
   },
   "file_extension": ".py",
   "mimetype": "text/x-python",
   "name": "python",
   "nbconvert_exporter": "python",
   "pygments_lexer": "ipython3",
   "version": "3.11.7"
  }
 },
 "nbformat": 4,
 "nbformat_minor": 2
}
