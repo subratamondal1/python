{
 "cells": [
  {
   "cell_type": "markdown",
   "metadata": {},
   "source": [
    "# Introduction "
   ]
  },
  {
   "cell_type": "markdown",
   "metadata": {},
   "source": [
    "## Overview\n",
    "**`Python`** is a **high-level**, **general-purpose** programming language. Its design philosophy emphasizes **code readability** with the use of significant indentation.\n",
    "\n",
    "Python is **dynamically typed** and **garbage-collected**. It supports **multiple programming paradigms**, including structured (particularly **procedural**), **object-oriented** and **functional programming**. It is often described as a `\"batteries included\"` language due to its comprehensive standard library.\n",
    "\n",
    "**Guido van Rossum** began working on Python in the **late 1980s** as a successor to the **ABC programming language** and first released it in **`1991 as Python 0.9.0`**. Python 2.0 was released in 2000. Python 3.0, released in 2008, was a major revision not completely backward-compatible with earlier versions. Python 2.7.18, released in 2020, was the last release of Python 2.\n",
    "\n",
    "Python consistently ranks as one of the most popular programming languages, and has gained widespread use in the machine learning community.\n",
    "\n",
    "Python is inspired from various languages for its features such as:\n",
    "\n",
    "- **Syntax:** C & ABC\n",
    "- **Functional programming:** C\n",
    "- **Object-oriented programming (OOP):** C++\n",
    "- **Scripting:** Perl & shell script\n",
    "- **Modular programming:** Modulo-3"
   ]
  },
  {
   "cell_type": "markdown",
   "metadata": {},
   "source": [
    "> - In Python, everything is an **object**, and each object is an instance of a class. This means that even basic data types like integers, strings, and lists are objects, and they have attributes and methods associated with them. For example, a string object has methods like `upper()` and `split()`, which allow you to manipulate the string.\n",
    "\n",
    "> - An **identifier**, or **variable**, in Python refers to a memory address where the value is stored. When you create a variable and assign a value to it, Python creates an object of the appropriate type and stores the value in the memory. The variable then points to this memory location, allowing you to access the value stored there. You can see the memory address using `id()`.\n"
   ]
  },
  {
   "cell_type": "code",
   "execution_count": null,
   "metadata": {},
   "outputs": [],
   "source": [
    "name = \"Subrata Mondal\"\n",
    "\n",
    "print(\"Memory address of the identifier 'name':\")\n",
    "print(id(name))"
   ]
  },
  {
   "cell_type": "markdown",
   "metadata": {},
   "source": [
    "## Features of Python\n",
    "\n",
    "1. **Interpreted Language**: Python is an interpreted language, which means it executes the code line by line, making it easier to debug and test code.\n",
    "2. **Dynamically Typed**: Python is dynamically typed, which means you don't have to declare the data types of variables explicitly. This makes coding more flexible and faster.\n",
    "3. **Object-Oriented**: Python supports object-oriented programming (OOP), allowing for code reuse, data encapsulation, and modularity.\n",
    "4. **High-Level Language**: Python is a high-level language, which means it abstracts away low-level details and focuses on the programming logic, making it easier to read and write code.\n",
    "5. **Extensive Libraries**: Python has a vast collection of built-in and third-party libraries and modules, making it easy to perform various tasks without reinventing the wheel.\n",
    "6. **Portable**: Python code can run on multiple platforms (Windows, macOS, Linux) with minimal or no changes, thanks to its cross-platform compatibility."
   ]
  },
  {
   "cell_type": "markdown",
   "metadata": {},
   "source": [
    "## Applications of Python:\n",
    "\n",
    "1. **Web Development**: Python is widely used for building web applications and frameworks like Django, Flask, Fastapi and Pyramid.\n",
    "2. **Data Analysis and Scientific Computing**: Python is extensively used in data analysis, machine learning, and scientific computing with libraries like NumPy, Pandas, Matplotlib, and SciPy.\n",
    "3. **Artificial Intelligence and Machine Learning**: Python has become a popular choice for AI and ML projects due to its simplicity and powerful libraries like TensorFlow, Keras, and Scikit-learn.\n",
    "4. **Automation and Scripting**: Python's simplicity and readability make it an excellent choice for automating tasks and writing scripts for system administration, web scraping, and more.\n",
    "5. **Game Development**: Python is used for developing games with libraries like Pygame, PyOpenGL, and Panda3D.\n",
    "6. **Desktop Applications**: Python can be used to create desktop applications with libraries like Tkinter, PyQt, and wxPython."
   ]
  },
  {
   "cell_type": "markdown",
   "metadata": {},
   "source": [
    "## Limitations of Python:\n",
    "\n",
    "1. **Speed**: Python is an interpreted language, which makes it slower than compiled languages like C or C++ for certain tasks, especially those involving heavy computation or low-level operations.\n",
    "2. **Mobile Development**: While Python can be used for mobile development, it is not as widely adopted as languages like Java (Android) or Swift/Objective-C (iOS) in the mobile development ecosystem.\n",
    "3. **Threading Issues**: Python's Global Interpreter Lock (GIL) can introduce performance issues when dealing with multi-threaded applications that involve CPU-bound tasks.\n",
    "4. **Memory Consumption**: Python's dynamic memory allocation and garbage collection can lead to higher memory consumption compared to languages like C or C++, especially for large applications or systems with limited memory resources.\n",
    "5. **Database Access**: While Python provides libraries for database access (e.g., SQLAlchemy), some developers find the Object-Relational Mapping (ORM) layer to be more complex compared to direct SQL access in other languages."
   ]
  },
  {
   "cell_type": "markdown",
   "metadata": {},
   "source": [
    "## Identifiers\n",
    "\n",
    "In Python, **identifiers are names** used to identify variables, functions, classes, modules, and other entities. Identifiers are an essential part of writing code as they help in organizing and referencing different elements within a program. Python has specific rules and conventions for naming identifiers, which are as follows:\n",
    "\n",
    "1. **Valid Characters**: Identifiers in Python can consist of letters (uppercase and lowercase), digits, and underscores (`_`). However, they **must start with a letter or an underscore**, and cannot begin with a digit.\n",
    "\n",
    "2. **Case Sensitivity**: Python identifiers are case-sensitive, meaning that `myVariable` and `MyVariable` are treated as different identifiers.\n",
    "\n",
    "3. **Naming Conventions**:\n",
    "   - Variable names should be descriptive and use lowercase with words separated by underscores (e.g., `my_variable`).\n",
    "   - Function and method names should be lowercase with words separated by underscores (e.g., `my_function`).\n",
    "   - Class names should follow the CapWords convention, where each word starts with a capital letter (e.g., `MyClass`).\n",
    "   - Constants (variables whose values do not change) are typically named with all uppercase letters and words separated by underscores (e.g., `CONSTANT_VALUE`).\n",
    "\n",
    "4. **Reserved Words**: Python has a set of reserved words or keywords that cannot be used as identifiers. These keywords have special meanings in the language and are used for specific purposes. Some examples of reserved words in Python are `and`, `if`, `else`, `for`, `while`, `import`, `class`, `def`, and `return`.\n",
    "\n",
    "5. **Length**: There is no specific limit on the length of an identifier in Python, but it is recommended to keep them reasonably short and descriptive for better code readability and maintenance.\n",
    "\n",
    "6. **Special Identifiers**:\n",
    "   - Identifiers starting and ending with two underscores (e.g., `__my_variable__`) are reserved for special purposes in Python, such as name mangling in classes.\n",
    "   - A single underscore at the beginning of an identifier (e.g., `_my_variable`) is often used to indicate that the variable or function is intended for internal use and should be treated as **private**.\n",
    "   - A single underscore at the end of an identifier (e.g., `my_variable_`) is sometimes used to avoid naming conflicts with reserved words or built-in functions.\n",
    "\n",
    "Here are some examples of valid and invalid identifiers in Python:\n",
    "\n",
    "```python\n",
    "# Valid identifiers\n",
    "my_variable = 10\n",
    "MyClass = 'Hello'\n",
    "_internal_function = lambda x: x**2\n",
    "CONSTANT_VALUE = 3.14\n",
    "\n",
    "# Invalid identifiers\n",
    "# 1my_variable = 20  # Starts with a digit\n",
    "# my-variable = 30   # Contains an invalid character\n",
    "# for = 'keyword'    # Reserved word\n",
    "```"
   ]
  },
  {
   "cell_type": "code",
   "execution_count": null,
   "metadata": {},
   "outputs": [],
   "source": [
    "my_variable = 10\n",
    "MyClass = 'Hello'\n",
    "_internal_function = lambda x: x**2\n",
    "CONSTANT_VALUE = 3.14"
   ]
  },
  {
   "cell_type": "markdown",
   "metadata": {},
   "source": [
    "## Fundamental DataTypes\n",
    "\n",
    "1. **Numeric Types**:\n",
    "   - `int` (integer): Represents whole numbers, such as `42`, `-7`, and `0`.\n",
    "   - `float` (floating-point number): Represents decimal numbers, such as `3.14`, `-0.5`, and `6.023e23`.\n",
    "   - `complex` (complex number): Represents complex numbers, such as `3+4j` and `-2-5j`."
   ]
  },
  {
   "cell_type": "code",
   "execution_count": null,
   "metadata": {},
   "outputs": [],
   "source": [
    "print(42, type(42))\n",
    "print(42.0, type(42.0))\n",
    "print(2+5j, type(2+5j))"
   ]
  },
  {
   "cell_type": "markdown",
   "metadata": {},
   "source": [
    "2. **Boolean Type**:\n",
    "   - `bool`: Represents either `True` or `False` values."
   ]
  },
  {
   "cell_type": "code",
   "execution_count": null,
   "metadata": {},
   "outputs": [],
   "source": [
    "print(True, type(True))"
   ]
  },
  {
   "cell_type": "markdown",
   "metadata": {},
   "source": [
    "3. **Sequence Types**:\n",
    "   - `str` (string): Represents a sequence of characters, such as `\"Hello, World!\"` and `'Python'`.\n",
    "   - `list`: Represents an **ordered collection** of items, such as `[1, 2, 3]` and `[\"apple\", \"banana\", \"cherry\"]`.\n",
    "   - `tuple`: Represents an **ordered, immutable collection** of items, such as `(1, 2, 3)` and `(\"red\", \"green\", \"blue\")`.\n",
    "   - `range`: Represents an **immutable** sequence of numbers, often used in loops."
   ]
  },
  {
   "cell_type": "code",
   "execution_count": null,
   "metadata": {},
   "outputs": [],
   "source": [
    "print(\"Hello World\", type(\"Hello World\"))\n",
    "print([1,2,3], type([1,2,3]))\n",
    "print((1,2,3), type((1,2,3)))\n",
    "print(range(1,4), type(range(1,4)))"
   ]
  },
  {
   "cell_type": "markdown",
   "metadata": {},
   "source": [
    "4. **Mapping Type**:\n",
    "   - `dict` (dictionary): Represents an **unordered collection** of key-value pairs, such as `{\"name\": \"Alice\", \"age\": 25}`."
   ]
  },
  {
   "cell_type": "code",
   "execution_count": null,
   "metadata": {},
   "outputs": [],
   "source": [
    "print({\"A\":12, \"B\":32}, type({\"A\":12, \"B\":32}))"
   ]
  },
  {
   "cell_type": "markdown",
   "metadata": {},
   "source": [
    "5. **Set Types**:\n",
    "   - `set`: Represents an **unordered collection** of **unique** elements, such as `{1, 2, 3}` and `{\"apple\", \"banana\", \"cherry\"}`.\n",
    "   - `frozenset`: Represents an immutable set."
   ]
  },
  {
   "cell_type": "code",
   "execution_count": null,
   "metadata": {},
   "outputs": [],
   "source": [
    "print({1, 2, 3}, type({1, 2, 3}))"
   ]
  },
  {
   "cell_type": "markdown",
   "metadata": {},
   "source": [
    "6. **Binary Types**:\n",
    "   - `bytes`: Represents an **immutable sequence** of bytes, often used for handling binary data.\n",
    "   - `bytearray`: Represents a **mutable sequence** of bytes.\n",
    "   - `memoryview`: Represents a **memory view** of bytes-like objects, providing a flexible way to access and manipulate binary data."
   ]
  },
  {
   "cell_type": "code",
   "execution_count": null,
   "metadata": {},
   "outputs": [],
   "source": [
    "# Creating bytes from a string\n",
    "data = b\"Hello, World!\"\n",
    "print(data)  # Output: b'Hello, World!'\n",
    "\n",
    "# Creating bytes from an iterable of integers\n",
    "data = bytes([72, 101, 108, 108, 111, 44, 32, 87, 111, 114, 108, 100, 33])\n",
    "print(data)  # Output: b'Hello, World!'"
   ]
  },
  {
   "cell_type": "code",
   "execution_count": null,
   "metadata": {},
   "outputs": [],
   "source": [
    "# Creating a bytearray from a string\n",
    "data = bytearray(b\"Hello, World!\")\n",
    "print(data)  # Output: bytearray(b'Hello, World!')\n",
    "\n",
    "# Modifying byte values\n",
    "data[0] = 74  # Replace 'H' with 'J'\n",
    "print(data)  # Output: bytearray(b'Jello, World!')\n",
    "\n",
    "# Appending bytes\n",
    "data.extend(b\"!!\")\n",
    "print(data)  # Output: bytearray(b'Jello, World!!!')"
   ]
  },
  {
   "cell_type": "code",
   "execution_count": null,
   "metadata": {},
   "outputs": [],
   "source": [
    "# Creating a memoryview from a bytes object\n",
    "data = b\"Hello, World!\"\n",
    "view = memoryview(data)\n",
    "print(view)  # Output: <memory at 0x7f4c1c0b8b48>\n",
    "\n",
    "# Accessing byte values\n",
    "print(view[0])  # Output: 72\n",
    "\n",
    "# Modifying byte values (only for mutable byte-like objects)\n",
    "another_data = bytearray(b\"Python\")\n",
    "view = memoryview(another_data)\n",
    "view[0] = 74  # Replace 'P' with 'J'\n",
    "print(another_data)  # Output: bytearray(b'Jython')"
   ]
  },
  {
   "cell_type": "markdown",
   "metadata": {},
   "source": [
    "7. **None Type**:\n",
    "   - `None`: Represents a null value or the absence of a value."
   ]
  },
  {
   "cell_type": "code",
   "execution_count": null,
   "metadata": {},
   "outputs": [],
   "source": [
    "print(None, type(None))"
   ]
  },
  {
   "cell_type": "markdown",
   "metadata": {},
   "source": [
    "## Number Systems\n",
    "\n",
    "Python provides several built-in functions and syntax to work with different number systems, such as **decimal, binary, octal**, and **hexadecimal**.\n",
    "\n",
    "1. **Decimal (Base 10)**:\n",
    "This is the default number system used in Python. Integer and float literals are represented in decimal form."
   ]
  },
  {
   "cell_type": "code",
   "execution_count": null,
   "metadata": {},
   "outputs": [],
   "source": [
    "a = 42  # Decimal integer\n",
    "b = 3.14  # Decimal float"
   ]
  },
  {
   "cell_type": "markdown",
   "metadata": {},
   "source": [
    "2. **Binary (Base 2)**:\n",
    "To represent binary numbers in Python, you can use the `0b` or `0B` prefix followed by the binary digits (0 and 1).\n",
    "\n",
    "```python\n",
    "a = 0b101010  # Binary integer: 42\n",
    "b = 0B11  # Binary integer: 3\n",
    "```"
   ]
  },
  {
   "cell_type": "code",
   "execution_count": null,
   "metadata": {},
   "outputs": [],
   "source": [
    "print(0b101010)  # Binary integer: 42\n",
    "print(0B11)  # Binary integer: 3"
   ]
  },
  {
   "cell_type": "markdown",
   "metadata": {},
   "source": [
    "You can convert an integer to its binary string representation using the `bin()` function.\n"
   ]
  },
  {
   "cell_type": "code",
   "execution_count": null,
   "metadata": {},
   "outputs": [],
   "source": [
    "print(bin(42)) # Returns '0b101010'\n",
    "print(bin(3))  # Returns '0b11'"
   ]
  },
  {
   "cell_type": "markdown",
   "metadata": {},
   "source": [
    "3. **Octal (Base 8)**:\n",
    "To represent octal numbers in Python, you can use the `0o` or `0O` prefix followed by the octal digits (0 to 7)."
   ]
  },
  {
   "cell_type": "code",
   "execution_count": null,
   "metadata": {},
   "outputs": [],
   "source": [
    "print(0o52)  # Octal integer: 42\n",
    "print(0O3)  # Octal integer: 3"
   ]
  },
  {
   "cell_type": "markdown",
   "metadata": {},
   "source": [
    "You can convert an integer to its octal string representation using the `oct()` function."
   ]
  },
  {
   "cell_type": "code",
   "execution_count": null,
   "metadata": {},
   "outputs": [],
   "source": [
    "print(oct(42)) # Returns '0o52'\n",
    "print(oct(3))  # Returns '0o3'"
   ]
  },
  {
   "cell_type": "markdown",
   "metadata": {},
   "source": [
    "4. **Hexadecimal (Base 16)**:\n",
    "To represent hexadecimal numbers in Python, you can use the `0x` or `0X` prefix followed by the hexadecimal digits (0 to 9, A to F, or a to f)."
   ]
  },
  {
   "cell_type": "code",
   "execution_count": null,
   "metadata": {},
   "outputs": [],
   "source": [
    "print(0x2A)  # Hexadecimal integer: 42\n",
    "print(0X3)  # Hexadecimal integer: 3"
   ]
  },
  {
   "cell_type": "markdown",
   "metadata": {},
   "source": [
    "You can convert an integer to its hexadecimal string representation using the `hex()` function."
   ]
  },
  {
   "cell_type": "code",
   "execution_count": null,
   "metadata": {},
   "outputs": [],
   "source": [
    "print(hex(42)) # Returns '0x2a'\n",
    "print(hex(3)) # Returns '0x3'"
   ]
  },
  {
   "cell_type": "markdown",
   "metadata": {},
   "source": [
    "5. **Bitwise Operations**:\n",
    "Python provides bitwise operators to perform operations on binary representations of integers. These operators include `&` (bitwise AND), `|` (bitwise OR), `^` (bitwise XOR), `~` (bitwise NOT), `<<` (left shift), and `>>` (right shift)."
   ]
  },
  {
   "cell_type": "code",
   "execution_count": null,
   "metadata": {},
   "outputs": [],
   "source": [
    "a = 0b1010  # Binary: 10\n",
    "b = 0b1100  # Binary: 12\n",
    "\n",
    "print(a & b)  # Bitwise AND: 0b1000 (8)\n",
    "print(a | b)  # Bitwise OR: 0b1110 (14)\n",
    "print(a ^ b)  # Bitwise XOR: 0b0110 (6)\n",
    "print(~a)  # Bitwise NOT: -0b1011 (-11)\n",
    "print(a << 2)  # Left shift: 0b10100 (20)\n",
    "print(b >> 1)  # Right shift: 0b0110 (6)"
   ]
  },
  {
   "cell_type": "markdown",
   "metadata": {},
   "source": [
    "## Immutable Datatype vs Mutable Datatype\n",
    "### Immutable Datatype\n",
    "Immutable data types are those whose values cannot be changed after they are created. When you try to modify an immutable object, Python creates a new object with the modified value instead of modifying the original object.\n",
    "\n",
    "Means that once the immutable datatype is created it **can’t be updated in the same memory address**, instead a new object is created at different Memory Address with same name. **`In Python all the Fundamental datatypes are Immutable.`**\n",
    "\n",
    "In Python every datatype is an object. So, when an object is created, say **`name=”Subrata”`** the value **`“Subrata”`** will be first created in the memory and an address will be assigned to that memory say **`address=”1056”`**, now the identifier `“name”` points to the memory address 1056 where the value “Subrata” is stored. Now, say you want change the value to **`name = “Mondal”`** and now if the value “Mondal” is assigned to that same memory address 1056 this means that the datatype is **mutated** hence **mutable** but we know that all the fundamental datatypes are **immutable** so instead of mutating the same memory address 1056, a new memory address will be created say 1096 where the value will be stored and the identifier “name” will be updated and refer to the new memory address since we are reassigning the same identifier.\n",
    "\n",
    "In case of **mutable** object, no new object is created, instead it mutates the object at the same memory address. You can verify memory location of objects before and after mutation to verify using **`id()`**.\n",
    "\n",
    "* Numbers (int, float, complex)\n",
    "* Strings\n",
    "* Tuples\n",
    "* Frozen sets"
   ]
  },
  {
   "cell_type": "code",
   "execution_count": null,
   "metadata": {},
   "outputs": [],
   "source": [
    "print(\"<== Immutable Datatype | Different Memory Address ==>\\n\")\n",
    "name = \"subrata\"\n",
    "print(\"Value:\", name)\n",
    "print(\"Memory Address:\",id(name))\n",
    "\n",
    "name = \"mondal\"\n",
    "print(\"\\nValue:\", name)\n",
    "print(\"Memory Address:\",id(name))"
   ]
  },
  {
   "cell_type": "code",
   "execution_count": null,
   "metadata": {},
   "outputs": [],
   "source": [
    "print(\"<== Mutable Datatype | Same Memory Address ==>\\n\")\n",
    "name:list[str] = [\"subrata\"]\n",
    "print(\"Value:\", name)\n",
    "print(\"Memory Address:\",id(name))\n",
    "\n",
    "name.append(\"mondal\")\n",
    "print(\"\\nValue:\", name)\n",
    "print(\"Memory Address:\",id(name))"
   ]
  },
  {
   "cell_type": "markdown",
   "metadata": {},
   "source": [
    "## Sequences vs Collections\n",
    "### Sequences\n",
    "Sequences are **ordered** collections of elements, which means the elements have a specific **order** or **position** or **index**.\n",
    "\n",
    "> `Ordered` means `Indexable` which means `Sliceable`\n",
    "\n",
    "1. **Strings**: **Ordered Immutable** sequence of elements.\n",
    "2. **Lists**: **Ordered Mutable** sequence of elements enclosed in square brackets `[ ]`.\n",
    "3. **Tuples** (read-only list): **Ordered Immutable** sequence of elements enclosed in parentheses `( )`.\n",
    "4. **Ranges**: **Ordered Immutable** sequence of numbers `range(start, end, [step])`.\n",
    "\n",
    "Common **`sequence's`** operations are: **concatenation, repetition,** and **membership testing**.\n"
   ]
  },
  {
   "cell_type": "markdown",
   "metadata": {},
   "source": [
    "#### Concatenation\n",
    "Concatenation is the operation of combining two sequences into a new sequence. It is performed using the `+` operator for strings, lists, and tuples."
   ]
  },
  {
   "cell_type": "code",
   "execution_count": null,
   "metadata": {},
   "outputs": [],
   "source": [
    "# String concatenation\n",
    "print(\"Subrata\" + \" Mondal\")\n",
    "\n",
    "# List concatenation\n",
    "print([1, 2, 3] + [4, 5, 6]) \n",
    "\n",
    "# Tuple concatenation\n",
    "print((1, 2, 3) + (1, 2, 3))"
   ]
  },
  {
   "cell_type": "markdown",
   "metadata": {},
   "source": [
    "#### Repetition\n",
    "Repetition is the operation of repeating a sequence a specified number of times. It is performed using the `*` operator for strings, lists, and tuples."
   ]
  },
  {
   "cell_type": "code",
   "execution_count": null,
   "metadata": {},
   "outputs": [],
   "source": [
    "# String repetition\n",
    "print(\"Subrata \" * 3)\n",
    "\n",
    "# List repetition\n",
    "print([1, 2, 3] * 3) \n",
    "\n",
    "# Tuple repetition\n",
    "print((1, 2, 3) * 3)"
   ]
  },
  {
   "cell_type": "markdown",
   "metadata": {},
   "source": [
    "#### Membership Testing:\n",
    "Membership testing is the operation of checking whether an element is present in a sequence or not. It is performed using the `in` and `not in` operators for strings, lists, tuples, and other sequences."
   ]
  },
  {
   "cell_type": "code",
   "execution_count": null,
   "metadata": {},
   "outputs": [],
   "source": [
    "# String membership testing\n",
    "print(\"a\" in \" Mondal\")\n",
    "\n",
    "# List membership testing\n",
    "print(5 in [4, 5, 6]) \n",
    "\n",
    "# Tuple membership testing\n",
    "print((1, 2, 3) in (1, 2, 3))"
   ]
  },
  {
   "cell_type": "markdown",
   "metadata": {},
   "source": [
    "### Collections\n",
    "**`Collections`** refers to various data structures present in `collections` module that provide alternatives to the built-in sequence types (lists, tuples, and ranges). These collections offer additional functionality and optimizations.\n",
    "\n",
    "1. **Set**:  **Unordered Mutable** collection of **unique** elements. (Since unordered hence, not indexable or sliceable)\n",
    "2. **Dictionary**: **Unordered Mutable** collection of **key-value** pairs. (Since unordered hence, not indexable or sliceable)\n",
    "3. **namedtuple**:  way to create lightweight, **ordered**, immutable object types with named fields. (Since ordered hence, indexable and sliceable)\n",
    "4. **deque**: An **Ordered** double-ended queue, supporting efficient appends and pops from both ends. (Since ordered hence, indexable and sliceable)\n",
    "5. **Counter**: An **Unordered** subclass of `dict` for counting hashable objects.\n",
    "6. **OrderedDict**: An **Ordered** dictionary that remembers the order in which keys were inserted.\n",
    "7. **defaultdict**: A subclass of `dict` that provides a default value for missing keys.\n",
    "\n",
    "**All Sequences are Collections but all Collections are Not Sequences**. For example, **sets** and **dictionaries** are not sequences because their elements do not have a specific order or position. However, some collections like `deque` and `OrderedDict` are sequences because they maintain the order of their elements."
   ]
  },
  {
   "cell_type": "code",
   "execution_count": null,
   "metadata": {},
   "outputs": [],
   "source": [
    "from collections import deque\n",
    "\n",
    "# Create a deque\n",
    "d = deque([1, 2, 3])\n",
    "\n",
    "# Add elements to the right\n",
    "d.append(4)\n",
    "\n",
    "# Add elements to the left\n",
    "d.appendleft(0)\n",
    "\n",
    "\n",
    "# Print the deque\n",
    "print(d)  # Output: deque([0, 1, 2, 3])\n",
    "\n",
    "print(4)"
   ]
  },
  {
   "cell_type": "code",
   "execution_count": null,
   "metadata": {},
   "outputs": [],
   "source": [
    "from collections import namedtuple\n",
    "\n",
    "# Define the named tuple\n",
    "Employee = namedtuple('Employee', ['name', 'age', 'department'])\n",
    "\n",
    "# Create an instance of the named tuple\n",
    "e = Employee(name='John', age=30, department='Engineering')\n",
    "\n",
    "# Access the elements using dot notation\n",
    "print(e.name, e.age, e.department)\n",
    "print(e[0])"
   ]
  },
  {
   "cell_type": "code",
   "execution_count": null,
   "metadata": {},
   "outputs": [],
   "source": [
    "from collections import Counter\n",
    "\n",
    "# Create a Counter\n",
    "c = Counter('hello world')\n",
    "\n",
    "# Count the number of occurrences of each character\n",
    "print(c)  # Output: Counter({'l': 3, 'o': 2, 'h': 1, 'e': 1, ' ': 1, 'w': 1, 'r': 1, 'd': 1})\n",
    "\n",
    "# Find the most common element\n",
    "print(c.most_common(1))  # Output: [('l', 3)]"
   ]
  },
  {
   "cell_type": "code",
   "execution_count": null,
   "metadata": {},
   "outputs": [],
   "source": [
    "from collections import OrderedDict\n",
    "\n",
    "# Create an OrderedDict\n",
    "od = OrderedDict()\n",
    "\n",
    "# Add elements to the dictionary\n",
    "od['a'] = 1\n",
    "od['b'] = 2\n",
    "od['c'] = 3\n",
    "\n",
    "# Print the dictionary\n",
    "print(od)  # Output: OrderedDict([('a', 1), ('b', 2), ('c', 3)])\n",
    "\n",
    "# Remove an element from the dictionary\n",
    "od.pop('b')\n",
    "\n",
    "# Print the dictionary\n",
    "print(od)  # Output: OrderedDict([('a', 1), ('c', 3)])"
   ]
  },
  {
   "cell_type": "code",
   "execution_count": null,
   "metadata": {},
   "outputs": [],
   "source": [
    "from collections import defaultdict\n",
    "\n",
    "# Create a defaultdict with a default value of 0\n",
    "dd = defaultdict(int)\n",
    "\n",
    "# Add elements to the dictionary\n",
    "dd['a'] += 1\n",
    "dd['b'] += 2\n",
    "\n",
    "# Print the dictionary\n",
    "print(dd)  # Output: defaultdict(<class 'int'>, {'a': 1, 'b': 2})\n",
    "\n",
    "# Access a missing key\n",
    "print(dd['c'])  # Output: 0\n",
    "print(dd[2])"
   ]
  },
  {
   "cell_type": "markdown",
   "metadata": {},
   "source": [
    "## `is` vs `==` operators\n",
    "The `is` operator in Python is used to test if two variables refer to the same object in memory. It checks for **object identity**, not just the equality of values.\n",
    "\n",
    "1. **For Immutable Objects**: If you assign an immutable object (like a number, string, or tuple) to two different variables, and the values are the same, then Python will create only one object and both variables will refer to that same object in memory."
   ]
  },
  {
   "cell_type": "code",
   "execution_count": null,
   "metadata": {},
   "outputs": [],
   "source": [
    "a = 10\n",
    "b = 10\n",
    "print(a is b)  # Output: True\n",
    "# a and b refer to the same object in memory\n",
    "\n",
    "c = \"hello\"\n",
    "d = \"hello\"\n",
    "print(c is d)  # Output: True\n",
    "# c and d refer to the same string object in memory"
   ]
  },
  {
   "cell_type": "markdown",
   "metadata": {},
   "source": [
    "2. **For Mutable Objects**: When you assign a mutable object (like a list or dictionary) to a variable, Python creates a new object in memory every time, even if the values are the same."
   ]
  },
  {
   "cell_type": "code",
   "execution_count": null,
   "metadata": {},
   "outputs": [],
   "source": [
    "from typing import Any\n",
    "\n",
    "a:list[int] = [1, 2, 3]\n",
    "b:list[int] = [1, 2, 3]\n",
    "print(a is b)  # Output: False\n",
    "# a and b refer to different list objects in memory\n",
    "\n",
    "c:dict[str, Any] = {\"name\": \"Alice\", \"age\": 25}\n",
    "d: dict[str, Any] = {\"name\": \"Alice\", \"age\": 25}\n",
    "print(c is d)  # Output: False\n",
    "# c and d refer to different dictionary objects in memory"
   ]
  },
  {
   "cell_type": "markdown",
   "metadata": {},
   "source": [
    "The `is` operator can also be used to check if a variable is `None`:"
   ]
  },
  {
   "cell_type": "code",
   "execution_count": null,
   "metadata": {},
   "outputs": [],
   "source": [
    "x = None\n",
    "print(x is None)  # Output: True"
   ]
  },
  {
   "cell_type": "markdown",
   "metadata": {},
   "source": [
    "The opposite of the `is` operator is the `is not` operator, which checks if two variables refer to different objects in memory.\n",
    "\n",
    "It's important to note that the `is` operator should be used with caution when comparing mutable objects, as it checks for **object identity** rather than value equality. For mutable objects, it's generally better to use the `==` operator to compare values, rather than the `is` operator.\n"
   ]
  },
  {
   "cell_type": "code",
   "execution_count": null,
   "metadata": {},
   "outputs": [],
   "source": [
    "a:list[int] = [1, 2, 3]\n",
    "b:list[int] = [1, 2, 3]\n",
    "\n",
    "print(a == b, id(a), id(b))  # Output: True (values are equal)\n",
    "print(a is b)  # Output: False (different objects in memory)\n",
    "\n",
    "c = 5\n",
    "d = 5\n",
    "\n",
    "print(c == d, id(c), id(d))  # Output: True (values are equal)\n",
    "print(c is d)  # Output: True (same objects in memory)"
   ]
  },
  {
   "cell_type": "markdown",
   "metadata": {},
   "source": [
    "# Operators"
   ]
  },
  {
   "cell_type": "markdown",
   "metadata": {},
   "source": [
    "### Arithmetic Operators\n",
    "\n",
    "Arithmetic operators are used to perform **mathematical** **operations** on values.\n",
    "\n",
    "1. **Addition (+)**\n",
    "    - Used to add two values together.\n",
    "    - Example: `x = 5 + 3` # x becomes 8\n",
    "2. **Subtraction (-)**\n",
    "    - Used to subtract one value from another.\n",
    "    - Example: `x = 10 - 4` # x becomes 6\n",
    "3. **Multiplication (*)**\n",
    "    - Used to multiply two values.\n",
    "    - Example: `x = 4 * 3` # x becomes 12\n",
    "4. **Division (/)**\n",
    "    - Used to divide one value by another.\n",
    "    - **Aha moment**: In Python 3.x, the division operator `/` always returns a floating-point number, even if the operands are integers.\n",
    "    - Example: `x = 10 / 3` # x becomes 3.3333333333333335\n",
    "5. **Floor Division (//)** (integer division)\n",
    "    - Used to divide one value by another and return the integer part of the result (truncating the decimal part).\n",
    "    - Example: `x = 10 // 3` # x becomes 3\n",
    "6. **Modulus (%)**\n",
    "    - Returns the remainder after dividing the left operand by the right operand.\n",
    "    - The modulus operator when dealing with negative numbers, the result takes the sign of the first operand.\n",
    "    - Example: `x = 10 % 3` # x becomes 1\n",
    "    - Example: `x = -10 % 3` # x becomes -1\n",
    "7. **Exponentiation (****)\n",
    "    - The exponentiation operator `*` can be used to calculate squares, cubes, and other powers efficiently.\n",
    "    - Example: `x = 2 ** 3` # x becomes 8 ⇒ $2^3$\n",
    "- **Operator precedence**: Python follows the standard mathematical order of operations (**`PEMDAS`**: Parentheses, Exponents, Multiplication/Division, Addition/Subtraction). You can use parentheses to override the default precedence.\n",
    "- **Integer and float operations**: When you perform operations involving both integers and floats, Python automatically converts the integers to floats to preserve the decimal part.\n",
    "- **Division by zero**: Attempting to divide by zero will raise a `ZeroDivisionError` exception.\n",
    "\n",
    "### Relational Operators\n",
    "\n",
    "Relational operators are used to **compare values** and return a boolean result (True or False).\n",
    "\n",
    "1. **Equal to (==)**\n",
    "    - Checks if two values are equal.\n",
    "    - The equal to operator `==` checks for **value equality**, **not object identity**. This means that two objects with the same value but different memory address will be considered equal.\n",
    "    - Example: `x = 5; y = 5; print(x == y)` # Output: True\n",
    "2. **Not equal to (!=)**\n",
    "    - Checks if two values are not equal.\n",
    "    - Example: `x = 5; y = 3; print(x != y)` # Output: True\n",
    "3. **Greater than (>)**\n",
    "    - Checks if the value on the left is greater than the value on the right.\n",
    "    - **Aha moment**: When comparing strings, Python compares their dictionary order based on the **Unicode code point values**.\n",
    "    - Example: `x = 7; y = 5; print(x > y)` # Output: True\n",
    "4. **Less than (<)**\n",
    "    - Checks if the value on the left is less than the value on the right.\n",
    "    - Example: `x = 3; y = 5; print(x < y)` # Output: True\n",
    "5. **Greater than or equal to (>=)**\n",
    "    - Checks if the value on the left is greater than or equal to the value on the right.\n",
    "    - Example: `x = 7; y = 7; print(x >= y)` # Output: True\n",
    "6. **Less than or equal to (<=)**\n",
    "    - Checks if the value on the left is less than or equal to the value on the right.\n",
    "    - Example: `x = 3; y = 5; print(x <= y)` # Output: True\n",
    "- **Chaining relational operators**: You can chain relational operators together to create more complex conditions. For example, `1 < x < 10` checks if `x` is between 1 and 10 (exclusive).\n",
    "- **Comparing different types**: Python allows you to compare values of different types, but the behavior might not always be intuitive. For example, comparing an integer with a string will convert the string to a number if possible.\n",
    "- **Comparing objects**: **When comparing objects, Python compares their identities** (memory locations) by default. However, you can overload the comparison operators for custom classes to define how they should be compared.\n",
    "\n",
    "### Logical Operators\n",
    "\n",
    "Logical operators are used to **combine or modify boolean values** (True or False). They are commonly used in conditional statements and control flow to create more complex logical expressions.\n",
    "\n",
    "1. **and**\n",
    "    - The `and` operator returns True if both operands are True, otherwise it returns False.\n",
    "    - In Python, `and` is a short-circuit operator, which means that if the first operand is **False**, the second operand is not evaluated at all. This can lead to performance optimizations and avoid unnecessary computations.\n",
    "    - Example: `x = 5; y = 10; z = (x > 0) and (y > x)` # z becomes True\n",
    "2. **or**\n",
    "    - The `or` operator returns True if at least one of the operands is True, otherwise it returns False.\n",
    "    - Similar to `and`, `or` is also a short-circuit operator. If the first operand is **True**, the second operand is not evaluated, which can lead to performance optimizations.\n",
    "    - Example: `x = 5; y = 0; z = (x > 0) or (y > 10)` # z becomes True\n",
    "3. **not**\n",
    "    - The `not` operator inverts the boolean value of its operand. If the operand is True, it returns False, and if the operand is False, it returns True.\n",
    "    - The `not` operator has higher precedence than `and` and `or`, so it is evaluated first. However, you can use parentheses to change the order of evaluation if needed.\n",
    "    - Example: `x = 5; y = not (x > 10)` # y becomes True\n",
    "- **Truth values**: In Python, any non-zero number, non-empty string, non-empty list, dictionary, or set is considered True in a boolean context. Zero, empty strings, lists, dictionaries, and sets are considered False.\n",
    "- **Short-circuit evaluation**: As mentioned earlier, Python uses short-circuit evaluation for `and` and `or` operators. This means that if the result can be determined by evaluating only the first operand, the second operand is not evaluated at all. This can be useful for performance optimization and avoiding exceptions from code that should not be executed.\n",
    "- **Operator precedence**: The order of precedence for logical operators in Python is `not`, `and`, `or`. You can use parentheses to change the order of evaluation if needed.\n",
    "\n",
    "### Short Circuit\n",
    "\n",
    "The logical operators `and` and `or` are short-circuiting operators, which means that they evaluate the operands from **left to right** and stop as soon as the result can be determined i.e  the logical operators in Python don't simply evaluate both operands and then combine the results.\n",
    "\n",
    "\n",
    "> **`1st operand and 2nd operand`** ⇒ returns **`1st operand`** iff 1st operand is **`False`** else return the 2nd operand\n",
    "> **`1st operand or 2nd operand`**  ⇒ returns **`1st operand`** iff 1st operand is **`True`** else return the 2nd operand\n",
    "\n",
    "```python\n",
    "print(True and \"subrata\" and \"mondal\" and \"ok\" or \"no\") # ok\n",
    "```\n",
    "\n",
    "Logical operators in Python, such as `and` and `or`, use a mechanism called short-circuit evaluation, which can improve performance and prevent unnecessary computations.  \n",
    "\n",
    "\n",
    "1. **Short-circuit evaluation with `and`**:\n",
    "\n",
    "In the `and` operator, if the first operand is `False`, the entire expression will be `False` regardless of the second operand. So, Python doesn't evaluate the second operand and simply returns `False`. This behavior is known as short-circuiting."
   ]
  },
  {
   "cell_type": "code",
   "execution_count": null,
   "metadata": {},
   "outputs": [],
   "source": [
    "print(False and \"subrata\") # False since False and anything is False\n",
    "print(False and \"mondal\") # False since False and anything is False\n",
    "\n",
    "print(True and \"subrata\") # subrata\n",
    "print(True and \"mondal\") # mondal"
   ]
  },
  {
   "cell_type": "markdown",
   "metadata": {},
   "source": [
    "2. `Short-circuit evaluation with or:`\n",
    "\n",
    "In the or operator, if the first operand is True, the entire expression will be True regardless of the second operand. So, Python doesn't evaluate the second operand and simply returns True."
   ]
  },
  {
   "cell_type": "code",
   "execution_count": null,
   "metadata": {},
   "outputs": [],
   "source": [
    "print(\"subrata\" or False) # subrata since True or anything is True only\n",
    "print(\"mondal\" or False) # mondal since True or anything is True only\n",
    "\n",
    "print(False or \"subrata\") # subrata\n",
    "print(False or \"mondal\") # mondal"
   ]
  },
  {
   "cell_type": "markdown",
   "metadata": {},
   "source": [
    "### Ternary operator\n",
    "\n",
    "**`first_value if (condition) else second_value`**"
   ]
  },
  {
   "cell_type": "code",
   "execution_count": null,
   "metadata": {},
   "outputs": [],
   "source": [
    "# first value if (condition) else second value\n",
    "age = 15\n",
    "age_group = \"adult\" if age > 18 else \"underage\"\n",
    "print(age_group)\n",
    "\n",
    "# chaining of ternary operator\n",
    "age_group = \"adult\" if age > 18 else (\"teen\" if age > 13 else \"minor\")\n",
    "print(age_group)"
   ]
  },
  {
   "cell_type": "markdown",
   "metadata": {},
   "source": [
    "# Control Flow Statements"
   ]
  },
  {
   "cell_type": "markdown",
   "metadata": {},
   "source": [
    "Control flow statements are used to control the order of execution of code based on certain conditions. These statements allow you to create branching logic and loops, enabling you to write dynamic and flexible programs. \n",
    "\n",
    "1. **If Statement**:\n",
    "The `if` statement is used to execute a block of code if a specific condition is met. If the condition is `True`, the code block inside the `if` statement is executed; otherwise, it is skipped.\n",
    "    \n",
    "    The `if` statement can also have an `else` clause, which specifies an alternative block of code to execute if the condition is `False`.\n",
    "    \n",
    "    Example:"
   ]
  },
  {
   "cell_type": "code",
   "execution_count": null,
   "metadata": {},
   "outputs": [],
   "source": [
    "age = 18\n",
    "if age >= 18:\n",
    "    print(\"You are an adult\")\n",
    "else:\n",
    "    print(\"You are a minor\")"
   ]
  },
  {
   "cell_type": "markdown",
   "metadata": {},
   "source": [
    "2. **Elif Statement**:\n",
    "The `elif` (short for \"else if\") statement is an extension of the `if` statement and is used to check multiple conditions. If the first condition in the `if` statement is `False`, Python moves to the `elif` condition(s) and checks them one by one until a `True` condition is found.\n",
    "    \n",
    "Example:"
   ]
  },
  {
   "cell_type": "code",
   "execution_count": null,
   "metadata": {},
   "outputs": [],
   "source": [
    "grade = 85\n",
    "if grade >= 90:\n",
    "    print(\"A\")\n",
    "elif grade >= 80:\n",
    "    print(\"B\")\n",
    "elif grade >= 70:\n",
    "    print(\"C\")\n",
    "else:\n",
    "    print(\"D\")"
   ]
  },
  {
   "cell_type": "markdown",
   "metadata": {},
   "source": [
    "3. **For Loop**:\n",
    "The `for` loop is used to iterate over a **sequence** (such as a list, tuple, string, or range) and execute a block of code for each item in the sequence.\n",
    "    \n",
    "The `for` loop in Python can also be used to iterate over other **iterable** objects, such as dictionaries (iterating over keys) and files (iterating over lines).\n",
    "    \n",
    "Example:"
   ]
  },
  {
   "cell_type": "code",
   "execution_count": null,
   "metadata": {},
   "outputs": [],
   "source": [
    "fruits = [\"apple\", \"banana\", \"cherry\"]\n",
    "for fruit in fruits:\n",
    "    print(fruit)"
   ]
  },
  {
   "cell_type": "markdown",
   "metadata": {},
   "source": [
    "4. **While Loop**:\n",
    "The `while` loop is used to repeatedly execute a block of code as long as a given condition is `True`. The loop continues until the condition becomes `False`.\n",
    "    \n",
    "    The `while` loop is particularly useful when you don't know in advance how many iterations are needed, and the loop should continue until a certain condition is met.\n",
    "    \n",
    "    Example:"
   ]
  },
  {
   "cell_type": "code",
   "execution_count": null,
   "metadata": {},
   "outputs": [],
   "source": [
    "count = 0\n",
    "while count < 5:\n",
    "    print(count)\n",
    "    count += 1"
   ]
  },
  {
   "cell_type": "markdown",
   "metadata": {},
   "source": [
    "5. **Break Statement**:\n",
    "The `break` statement is used to exit a loop prematurely when a certain condition is met. It terminates the current loop and transfers control to the next statement outside the loop.\n",
    "    \n",
    "    The `break` statement can be used in both `for` and `while` loops, allowing you to exit the loop early based on a specific condition.\n",
    "    \n",
    "    Example:"
   ]
  },
  {
   "cell_type": "code",
   "execution_count": null,
   "metadata": {},
   "outputs": [],
   "source": [
    "numbers = [1, 2, 3, 4, 5]\n",
    "for num in numbers:\n",
    "    if num == 3:\n",
    "        break\n",
    "    print(num)"
   ]
  },
  {
   "cell_type": "markdown",
   "metadata": {},
   "source": [
    "6. **Continue Statement**:\n",
    "The `continue` statement is used to skip the current iteration of a loop and move to the next iteration. It is often used to skip certain conditions or values within a loop.\n",
    "    \n",
    "    The `continue` statement can be used in both `for` and `while` loops, allowing you to skip specific iterations based on a condition.\n",
    "    \n",
    "    Example:"
   ]
  },
  {
   "cell_type": "code",
   "execution_count": null,
   "metadata": {},
   "outputs": [],
   "source": [
    "for i in range(10):\n",
    "    if i % 2 == 0:\n",
    "        continue\n",
    "    print(i)"
   ]
  },
  {
   "cell_type": "markdown",
   "metadata": {},
   "source": [
    "## Factorial"
   ]
  },
  {
   "cell_type": "code",
   "execution_count": null,
   "metadata": {},
   "outputs": [],
   "source": [
    "product = 1\n",
    "for i in range(1,5+1):\n",
    "    product *= i\n",
    "print(product)"
   ]
  },
  {
   "cell_type": "markdown",
   "metadata": {},
   "source": [
    "## a ^ b"
   ]
  },
  {
   "cell_type": "code",
   "execution_count": null,
   "metadata": {},
   "outputs": [],
   "source": [
    "a = 5\n",
    "b = 8\n",
    "product = 1\n",
    "for i in range(1,b+1):\n",
    "    product *= a\n",
    "print(product)"
   ]
  },
  {
   "cell_type": "markdown",
   "metadata": {},
   "source": [
    "## Access the Last Digit"
   ]
  },
  {
   "cell_type": "code",
   "execution_count": null,
   "metadata": {},
   "outputs": [],
   "source": [
    "1534 % 10"
   ]
  },
  {
   "cell_type": "markdown",
   "metadata": {},
   "source": [
    "## Remove the Last Digit"
   ]
  },
  {
   "cell_type": "code",
   "execution_count": null,
   "metadata": {},
   "outputs": [],
   "source": [
    "1534 // 10"
   ]
  },
  {
   "cell_type": "code",
   "execution_count": null,
   "metadata": {},
   "outputs": [],
   "source": [
    "1780 // 10"
   ]
  },
  {
   "cell_type": "code",
   "execution_count": null,
   "metadata": {},
   "outputs": [],
   "source": [
    "n = 1534\n",
    "print(f\"Value of 'n' at the start of the loop: {n}\")\n",
    "while n!=0:\n",
    "    # access last digit\n",
    "    last_digit:int = n%10\n",
    "    print(f\"last_digit = {last_digit}\")\n",
    "    # remove last digit\n",
    "    n:int = n // 10\n",
    "print(f\"Value of 'n' at the end of the loop: {n}\")"
   ]
  },
  {
   "cell_type": "markdown",
   "metadata": {},
   "source": [
    "## Armstrong Number\n",
    "\n",
    "Armstrong Number is a number that is the sum of its own digits raised to the power of the number of digits.\n",
    "\n",
    "```python\n",
    "d1d2d3 = d1**3 + d2**3 + d3**3 # 3 as total no. of digits in 435 is 3\n",
    "\n",
    "435 = 4**3 + 3**3 + 5**3 # 4 as total no. of digits in 4357 is 4\n",
    "4357 = 4**4 + 3**4 + 5**4 + 7**4 # 4 as total no. of digits in 4357 is 4\n",
    "```\n",
    "\n",
    "* 0 is $0^1$ == 0, therefore 0 is an Armstrong Number\n",
    "* 1 is $1^1$ == 1, therefore 1 is an Armstrong Number\n",
    "* 2 is $2^1$ == 2, therefore 2 is an Armstrong Number\n",
    "\n",
    "* 12 is $1^2$ + $2^2$ == 5 != 12, therefore 12 is not an Armstrong Number\n",
    "* 122 is $1^3$ + $2^3$ + $2^3$ == 17 != 12, therefore 12 is not an Armstrong Number\n",
    "* 153 is $1^3$ + $5^3$ + $3^3$ == 153, therefore 153 is an Armstrong Number"
   ]
  },
  {
   "cell_type": "code",
   "execution_count": null,
   "metadata": {},
   "outputs": [],
   "source": [
    "# n = int(input(\"Enter your number: \"))\n",
    "n = 153\n",
    "temp = n  # Store the original number in a temporary variable\n",
    "count = 0\n",
    "while temp != 0:\n",
    "    count += 1\n",
    "    temp = temp // 10\n",
    "\n",
    "# Reset temp to the original number\n",
    "temp = n\n",
    "\n",
    "sum = 0\n",
    "while temp != 0:\n",
    "    last_digit = temp % 10 # access the last digit\n",
    "    sum += last_digit ** count\n",
    "    temp = temp // 10 # remove the last digit\n",
    "\n",
    "print(f\"Sum of digits raised to the power {count}: {sum}\")\n",
    "\n",
    "if sum == n:\n",
    "    print(f\"{n} is an Armstrong Number\")\n",
    "else:\n",
    "    print(f\"{n} is not an Armstrong Number\")"
   ]
  },
  {
   "cell_type": "markdown",
   "metadata": {},
   "source": [
    "# Strings"
   ]
  },
  {
   "cell_type": "markdown",
   "metadata": {},
   "source": [
    "A ***string*** is a sequence of characters that is enclosed in either single quotes `(' ')` or double quotes `(\" \")` or triple quotes `(\"\"\" \"\"\")`. Strings are used to represent text data and are one of the most commonly used data types in Python.\n",
    "\n",
    "- **Strings** are ***Ordered Immutable Sequence*** and since Immutable we can't mutate them and if reassign the same identifier then their `Memory adress changes`.\n",
    "- Strings are `Ordered` so `Indexable` and hence `Sliceable`."
   ]
  },
  {
   "cell_type": "code",
   "execution_count": 81,
   "metadata": {},
   "outputs": [
    {
     "name": "stdout",
     "output_type": "stream",
     "text": [
      "4432745712\n",
      "4431633520\n"
     ]
    }
   ],
   "source": [
    "\"\"\"Immutability\"\"\"\n",
    "name = \"Subrata\"\n",
    "print(id(name))\n",
    "\n",
    "name = \"Subrata Mondal\"\n",
    "print(id(name))"
   ]
  },
  {
   "cell_type": "code",
   "execution_count": 95,
   "metadata": {},
   "outputs": [
    {
     "data": {
      "text/plain": [
       "'Subrata Mondal'"
      ]
     },
     "execution_count": 95,
     "metadata": {},
     "output_type": "execute_result"
    }
   ],
   "source": [
    "\"\"\"Concatenation\"\"\"\n",
    "\"Subrata\" + \" Mondal\""
   ]
  },
  {
   "cell_type": "code",
   "execution_count": 96,
   "metadata": {},
   "outputs": [
    {
     "data": {
      "text/plain": [
       "'SubrataSubrataSubrata'"
      ]
     },
     "execution_count": 96,
     "metadata": {},
     "output_type": "execute_result"
    }
   ],
   "source": [
    "\"Subrata\" * 3"
   ]
  },
  {
   "cell_type": "code",
   "execution_count": null,
   "metadata": {},
   "outputs": [],
   "source": [
    "name = 'Subrata'\n",
    "name"
   ]
  },
  {
   "cell_type": "code",
   "execution_count": null,
   "metadata": {},
   "outputs": [],
   "source": [
    "name = \"Subrata\"\n",
    "name"
   ]
  },
  {
   "cell_type": "code",
   "execution_count": null,
   "metadata": {},
   "outputs": [],
   "source": [
    "name = \"\"\"Subrata\n",
    "Mondal\"\"\"\n",
    "print(name)"
   ]
  },
  {
   "cell_type": "code",
   "execution_count": null,
   "metadata": {},
   "outputs": [],
   "source": [
    "name = \"Subrata\"\n",
    "name, type(name)"
   ]
  },
  {
   "cell_type": "markdown",
   "metadata": {},
   "source": [
    "* Strings are **iterable**."
   ]
  },
  {
   "cell_type": "code",
   "execution_count": null,
   "metadata": {},
   "outputs": [],
   "source": [
    "for i in name:\n",
    "    print(i)"
   ]
  },
  {
   "cell_type": "markdown",
   "metadata": {},
   "source": [
    "* Strings are **Indexable**."
   ]
  },
  {
   "cell_type": "code",
   "execution_count": null,
   "metadata": {},
   "outputs": [],
   "source": [
    "print(name[0])\n",
    "print(name[-1])\n",
    "print(name[3])"
   ]
  },
  {
   "cell_type": "markdown",
   "metadata": {},
   "source": [
    "* Strings are **Sliceable**.\n",
    "\n",
    "`[start:end:step]`\n",
    "\n",
    "1. Forward Direction or Left to Right\n",
    "    * Step is Positive\n",
    "    * Start < End\n",
    "\n",
    "2. Backward Direction or Right to Left\n",
    "    * Step is Negative\n",
    "    * Start > End"
   ]
  },
  {
   "cell_type": "code",
   "execution_count": null,
   "metadata": {},
   "outputs": [],
   "source": [
    "\"\"\"\n",
    "1. Forward Direction or Left to Right\n",
    "    * Step is Positive\n",
    "    * Start < End\n",
    "\"\"\"\n",
    "print(name[1:6:1])\n",
    "print(name[1:6:2])"
   ]
  },
  {
   "cell_type": "code",
   "execution_count": null,
   "metadata": {},
   "outputs": [],
   "source": [
    "\"\"\"2. Backward Direction or Right to Left\n",
    "    * Step is Negative\n",
    "    * Start > End\n",
    "\"\"\"\n",
    "print(name[6:1:-1])\n",
    "print(name[6:1:-2])"
   ]
  },
  {
   "cell_type": "code",
   "execution_count": null,
   "metadata": {},
   "outputs": [],
   "source": [
    "\"\"\"\n",
    "Reverse a String\n",
    "\"\"\"\n",
    "print(name[::-1])"
   ]
  },
  {
   "cell_type": "markdown",
   "metadata": {},
   "source": [
    "## Membership Operator `is`"
   ]
  },
  {
   "cell_type": "code",
   "execution_count": null,
   "metadata": {},
   "outputs": [],
   "source": [
    "print(\"S\" in \"Subrata\")\n",
    "print(\"s\" in \"Subrata\")"
   ]
  },
  {
   "cell_type": "code",
   "execution_count": null,
   "metadata": {},
   "outputs": [],
   "source": [
    "print(\"Sub\" in \"Subrata\")\n",
    "print(\"sub\" in \"Subrata\")"
   ]
  },
  {
   "cell_type": "markdown",
   "metadata": {},
   "source": [
    "## Substring"
   ]
  },
  {
   "cell_type": "code",
   "execution_count": null,
   "metadata": {},
   "outputs": [],
   "source": [
    "string = \"Hey, I'm doing well. Are you?\"\n",
    "substring = \"you\"\n",
    "\n",
    "if substring in string:\n",
    "    print(\"Yes! A Substring\")\n",
    "else:\n",
    "    print(\"No! Not a Substring\")"
   ]
  },
  {
   "cell_type": "code",
   "execution_count": null,
   "metadata": {},
   "outputs": [],
   "source": [
    "string = \"Hey, I'm doing well. Are you?\"\n",
    "substring = \"GATE\"\n",
    "\n",
    "if substring in string:\n",
    "    print(\"Yes! A Substring\")\n",
    "else:\n",
    "    print(\"No! Not a Substring\")"
   ]
  },
  {
   "cell_type": "markdown",
   "metadata": {},
   "source": [
    "## Palindrome"
   ]
  },
  {
   "cell_type": "code",
   "execution_count": null,
   "metadata": {},
   "outputs": [],
   "source": [
    "user_input = \"tenet\"\n",
    "if user_input[::-1] == user_input:\n",
    "    print(\"Yes! A Palindrome\")\n",
    "else:\n",
    "    print(\"No! Not a Palindrome\")"
   ]
  },
  {
   "cell_type": "code",
   "execution_count": null,
   "metadata": {},
   "outputs": [],
   "source": [
    "user_input = \"nolan\"\n",
    "if user_input[::-1] == user_input:\n",
    "    print(\"Yes! A Palindrome\")\n",
    "else:\n",
    "    print(\"No! Not a Palindrome\")"
   ]
  },
  {
   "cell_type": "markdown",
   "metadata": {},
   "source": [
    "## Comparison"
   ]
  },
  {
   "cell_type": "code",
   "execution_count": null,
   "metadata": {},
   "outputs": [],
   "source": [
    "print(\"s\" > \"S\")\n",
    "print(\"S\" > \"s\")"
   ]
  },
  {
   "cell_type": "code",
   "execution_count": null,
   "metadata": {},
   "outputs": [],
   "source": [
    "print(\"subr\" > \"subR\")\n",
    "print(\"subR\" > \"subr\")"
   ]
  },
  {
   "cell_type": "markdown",
   "metadata": {},
   "source": [
    "## Rstrip\n",
    "Remove spaces from the Right"
   ]
  },
  {
   "cell_type": "code",
   "execution_count": null,
   "metadata": {},
   "outputs": [],
   "source": [
    "\"    Subrata    \".rstrip()"
   ]
  },
  {
   "cell_type": "markdown",
   "metadata": {},
   "source": [
    "## Lstrip\n",
    "Remove spaces from the Left"
   ]
  },
  {
   "cell_type": "code",
   "execution_count": null,
   "metadata": {},
   "outputs": [],
   "source": [
    "\"    Subrata    \".lstrip()"
   ]
  },
  {
   "cell_type": "markdown",
   "metadata": {},
   "source": [
    "## Strip\n",
    "Remove spaces from both the sides of the string."
   ]
  },
  {
   "cell_type": "code",
   "execution_count": null,
   "metadata": {},
   "outputs": [],
   "source": [
    "\"    Subrata    \".strip()"
   ]
  },
  {
   "cell_type": "markdown",
   "metadata": {},
   "source": [
    "## Split\n",
    "Splits the string based on the separator and returns a `list`."
   ]
  },
  {
   "cell_type": "code",
   "execution_count": null,
   "metadata": {},
   "outputs": [],
   "source": [
    "\"Subrata\".split()"
   ]
  },
  {
   "cell_type": "code",
   "execution_count": null,
   "metadata": {},
   "outputs": [],
   "source": [
    "\"S u b r a t a\".split(sep=\" \")"
   ]
  },
  {
   "cell_type": "code",
   "execution_count": null,
   "metadata": {},
   "outputs": [],
   "source": [
    "\"01/04/2024\".split(sep=\"/\")"
   ]
  },
  {
   "cell_type": "code",
   "execution_count": null,
   "metadata": {},
   "outputs": [],
   "source": [
    "\"01/04/2024\".split(sep=\"/\")"
   ]
  },
  {
   "cell_type": "markdown",
   "metadata": {},
   "source": [
    "## Join\n",
    "Joins a list of string to a String."
   ]
  },
  {
   "cell_type": "code",
   "execution_count": null,
   "metadata": {},
   "outputs": [],
   "source": [
    "\"\".join([\"S\", \"u\", \"b\", \"r\", \"a\", \"t\", \"a\"])"
   ]
  },
  {
   "cell_type": "code",
   "execution_count": null,
   "metadata": {},
   "outputs": [],
   "source": [
    "\"->\".join([\"S\", \"u\", \"b\", \"r\", \"a\", \"t\", \"a\"])"
   ]
  },
  {
   "cell_type": "code",
   "execution_count": null,
   "metadata": {},
   "outputs": [],
   "source": [
    "\"/\".join([\"S\", \"u\", \"b\", \"r\", \"a\", \"t\", \"a\"])"
   ]
  },
  {
   "cell_type": "markdown",
   "metadata": {},
   "source": [
    "## Find\n",
    "Returns the `index` of the substring if found in the string else it returns `-1`."
   ]
  },
  {
   "cell_type": "code",
   "execution_count": null,
   "metadata": {},
   "outputs": [],
   "source": [
    "\"Subrata\".find(\"a\")"
   ]
  },
  {
   "cell_type": "code",
   "execution_count": null,
   "metadata": {},
   "outputs": [],
   "source": [
    "\"Subrata\".find(\"A\")"
   ]
  },
  {
   "cell_type": "markdown",
   "metadata": {},
   "source": [
    "## Index\n",
    "Returns the `index` of the substring if found in the string else it throws an `Error`."
   ]
  },
  {
   "cell_type": "code",
   "execution_count": null,
   "metadata": {},
   "outputs": [],
   "source": [
    "\"Subrata\".index(\"a\")"
   ]
  },
  {
   "cell_type": "code",
   "execution_count": null,
   "metadata": {},
   "outputs": [],
   "source": [
    "\"Subrata\".index(\"A\")"
   ]
  },
  {
   "cell_type": "markdown",
   "metadata": {},
   "source": [
    "## Count\n",
    "Returns the `frequency` of a substring in a string if present else returns `0`"
   ]
  },
  {
   "cell_type": "code",
   "execution_count": null,
   "metadata": {},
   "outputs": [],
   "source": [
    "\"Subrata\".count(\"a\")"
   ]
  },
  {
   "cell_type": "code",
   "execution_count": null,
   "metadata": {},
   "outputs": [],
   "source": [
    "\"Subrata\".count(\"A\")"
   ]
  },
  {
   "cell_type": "markdown",
   "metadata": {},
   "source": [
    "## Replace\n",
    "Replaces old string with new string."
   ]
  },
  {
   "cell_type": "code",
   "execution_count": null,
   "metadata": {},
   "outputs": [],
   "source": [
    "\"Subrata mondal\".replace(\"m\", \"M\")"
   ]
  },
  {
   "cell_type": "code",
   "execution_count": null,
   "metadata": {},
   "outputs": [],
   "source": [
    "\"Subrata Mondal\".replace(\" \", \"->\")"
   ]
  },
  {
   "cell_type": "markdown",
   "metadata": {},
   "source": [
    "## isalpha\n",
    "Do the string contains all `Alphabets`"
   ]
  },
  {
   "cell_type": "code",
   "execution_count": null,
   "metadata": {},
   "outputs": [],
   "source": [
    "\"Subrata\".isalpha()"
   ]
  },
  {
   "cell_type": "code",
   "execution_count": null,
   "metadata": {},
   "outputs": [],
   "source": [
    "\"Subrata123\".isalpha()"
   ]
  },
  {
   "cell_type": "markdown",
   "metadata": {},
   "source": [
    "## isalnum\n",
    "Do the string contains both `Alphabet or Numeric` or not."
   ]
  },
  {
   "cell_type": "code",
   "execution_count": null,
   "metadata": {},
   "outputs": [],
   "source": [
    "\"Subrata\".isalnum()"
   ]
  },
  {
   "cell_type": "code",
   "execution_count": null,
   "metadata": {},
   "outputs": [],
   "source": [
    "\"1234\".isalnum()"
   ]
  },
  {
   "cell_type": "code",
   "execution_count": null,
   "metadata": {},
   "outputs": [],
   "source": [
    "\"Subrata123\".isalnum()"
   ]
  },
  {
   "cell_type": "code",
   "execution_count": null,
   "metadata": {},
   "outputs": [],
   "source": [
    "\"@#$\".isalnum()"
   ]
  },
  {
   "cell_type": "markdown",
   "metadata": {},
   "source": [
    "## isdigit\n",
    "Do the string contains digits only."
   ]
  },
  {
   "cell_type": "code",
   "execution_count": null,
   "metadata": {},
   "outputs": [],
   "source": [
    "\"1234\".isdigit()"
   ]
  },
  {
   "cell_type": "code",
   "execution_count": null,
   "metadata": {},
   "outputs": [],
   "source": [
    "\"Subrata123\".isdigit()"
   ]
  },
  {
   "cell_type": "markdown",
   "metadata": {},
   "source": [
    "## islower"
   ]
  },
  {
   "cell_type": "code",
   "execution_count": null,
   "metadata": {},
   "outputs": [],
   "source": [
    "\"Subrata\".islower()"
   ]
  },
  {
   "cell_type": "code",
   "execution_count": null,
   "metadata": {},
   "outputs": [],
   "source": [
    "\"subrata\".islower()"
   ]
  },
  {
   "cell_type": "markdown",
   "metadata": {},
   "source": [
    "## isupper"
   ]
  },
  {
   "cell_type": "code",
   "execution_count": null,
   "metadata": {},
   "outputs": [],
   "source": [
    "\"Subrata\".isupper()"
   ]
  },
  {
   "cell_type": "code",
   "execution_count": null,
   "metadata": {},
   "outputs": [],
   "source": [
    "\"SUBRATA\".isupper()"
   ]
  },
  {
   "cell_type": "markdown",
   "metadata": {},
   "source": [
    "# List\n",
    "**Lists**: **Ordered Mutable** sequence of elements enclosed in square brackets `[ ]`.\n",
    "\n",
    "- Lists are `Ordered` so `Indexable` and hence `Sliceable`.\n",
    "- Lists are mutable since on mutating the list the `memory address` remains the same.\n",
    "- Allows **Duplicate** and **Heterogenous** Elements."
   ]
  },
  {
   "cell_type": "code",
   "execution_count": 87,
   "metadata": {},
   "outputs": [
    {
     "name": "stdout",
     "output_type": "stream",
     "text": [
      "['Subrata'] 4432459392\n",
      "['Subrata', 'Mondal'] 4432459392\n"
     ]
    }
   ],
   "source": [
    "\"\"\"Mmutability\"\"\"\n",
    "name = [\"Subrata\"]\n",
    "print(name, id(name))\n",
    "\n",
    "name.append(\"Mondal\")\n",
    "print(name,id( name))"
   ]
  },
  {
   "cell_type": "code",
   "execution_count": 90,
   "metadata": {},
   "outputs": [
    {
     "name": "stdout",
     "output_type": "stream",
     "text": [
      "[]\n"
     ]
    }
   ],
   "source": [
    "\"\"\"Empty List\"\"\"\n",
    "l = []\n",
    "print(l)"
   ]
  },
  {
   "cell_type": "code",
   "execution_count": 104,
   "metadata": {},
   "outputs": [
    {
     "name": "stdout",
     "output_type": "stream",
     "text": [
      "[0, 2, 4, 6, 8]\n"
     ]
    }
   ],
   "source": [
    "numbers = list(range(0,10,2))\n",
    "print(numbers)"
   ]
  },
  {
   "cell_type": "markdown",
   "metadata": {},
   "source": [
    "## Append\n",
    "Insert element at the last index of the list."
   ]
  },
  {
   "cell_type": "code",
   "execution_count": 105,
   "metadata": {},
   "outputs": [
    {
     "data": {
      "text/plain": [
       "[1, 2, 3, 4, 5, 10]"
      ]
     },
     "execution_count": 105,
     "metadata": {},
     "output_type": "execute_result"
    }
   ],
   "source": [
    "l = [1,2,3,4,5]\n",
    "l.append(10)\n",
    "l"
   ]
  },
  {
   "cell_type": "code",
   "execution_count": 106,
   "metadata": {},
   "outputs": [
    {
     "data": {
      "text/plain": [
       "[1, 2, 3, 4, 5, 10, 'A']"
      ]
     },
     "execution_count": 106,
     "metadata": {},
     "output_type": "execute_result"
    }
   ],
   "source": [
    "l.append(\"A\")\n",
    "l"
   ]
  },
  {
   "cell_type": "markdown",
   "metadata": {},
   "source": [
    "## Insert\n",
    "Insert element in the index at the given position/index."
   ]
  },
  {
   "cell_type": "code",
   "execution_count": 107,
   "metadata": {},
   "outputs": [
    {
     "data": {
      "text/plain": [
       "[1, 2, 'Subrata', 3, 4, 5]"
      ]
     },
     "execution_count": 107,
     "metadata": {},
     "output_type": "execute_result"
    }
   ],
   "source": [
    "l = [1,2,3,4,5]\n",
    "l.insert(2, \"Subrata\")\n",
    "l"
   ]
  },
  {
   "cell_type": "markdown",
   "metadata": {},
   "source": [
    "## Remove\n",
    "Remove the element from the list, if multiple duplicate elements then removes the first occurence."
   ]
  },
  {
   "cell_type": "code",
   "execution_count": 108,
   "metadata": {},
   "outputs": [
    {
     "data": {
      "text/plain": [
       "[1, 2, 4, 5, 3, 4, 6]"
      ]
     },
     "execution_count": 108,
     "metadata": {},
     "output_type": "execute_result"
    }
   ],
   "source": [
    "l = [1,2,3,4,5,3,4,6]\n",
    "l.remove(3)\n",
    "l"
   ]
  },
  {
   "cell_type": "markdown",
   "metadata": {},
   "source": [
    "## Pop\n",
    "Remove and return the last element from a list."
   ]
  },
  {
   "cell_type": "code",
   "execution_count": 109,
   "metadata": {},
   "outputs": [
    {
     "data": {
      "text/plain": [
       "5"
      ]
     },
     "execution_count": 109,
     "metadata": {},
     "output_type": "execute_result"
    }
   ],
   "source": [
    "l = [1,2,3,4,5]\n",
    "l.pop()"
   ]
  },
  {
   "cell_type": "markdown",
   "metadata": {},
   "source": [
    "## Index\n",
    "Returns the index of an element if present else throws an `Error`"
   ]
  },
  {
   "cell_type": "code",
   "execution_count": 112,
   "metadata": {},
   "outputs": [
    {
     "data": {
      "text/plain": [
       "2"
      ]
     },
     "execution_count": 112,
     "metadata": {},
     "output_type": "execute_result"
    }
   ],
   "source": [
    "l  = [1,2,3,4,3,5]\n",
    "l.index(3)"
   ]
  },
  {
   "cell_type": "code",
   "execution_count": 111,
   "metadata": {},
   "outputs": [
    {
     "ename": "ValueError",
     "evalue": "999 is not in list",
     "output_type": "error",
     "traceback": [
      "\u001b[0;31m---------------------------------------------------------------------------\u001b[0m",
      "\u001b[0;31mValueError\u001b[0m                                Traceback (most recent call last)",
      "Cell \u001b[0;32mIn[111], line 1\u001b[0m\n\u001b[0;32m----> 1\u001b[0m \u001b[43ml\u001b[49m\u001b[38;5;241;43m.\u001b[39;49m\u001b[43mindex\u001b[49m\u001b[43m(\u001b[49m\u001b[38;5;241;43m999\u001b[39;49m\u001b[43m)\u001b[49m\n",
      "\u001b[0;31mValueError\u001b[0m: 999 is not in list"
     ]
    }
   ],
   "source": [
    "l.index(999)"
   ]
  },
  {
   "cell_type": "markdown",
   "metadata": {},
   "source": [
    "## Membership `in`"
   ]
  },
  {
   "cell_type": "code",
   "execution_count": 113,
   "metadata": {},
   "outputs": [
    {
     "data": {
      "text/plain": [
       "True"
      ]
     },
     "execution_count": 113,
     "metadata": {},
     "output_type": "execute_result"
    }
   ],
   "source": [
    "5 in [1,2,3,4,3,5]"
   ]
  },
  {
   "cell_type": "code",
   "execution_count": 114,
   "metadata": {},
   "outputs": [
    {
     "data": {
      "text/plain": [
       "False"
      ]
     },
     "execution_count": 114,
     "metadata": {},
     "output_type": "execute_result"
    }
   ],
   "source": [
    "555 in [1,2,3,4,3,5]"
   ]
  },
  {
   "cell_type": "markdown",
   "metadata": {},
   "source": [
    "## Reverse\n",
    "Reverses the elements in the list."
   ]
  },
  {
   "cell_type": "code",
   "execution_count": 116,
   "metadata": {},
   "outputs": [
    {
     "data": {
      "text/plain": [
       "[5, 3, 4, 3, 2, 1]"
      ]
     },
     "execution_count": 116,
     "metadata": {},
     "output_type": "execute_result"
    }
   ],
   "source": [
    "l  = [1,2,3,4,3,5]\n",
    "l.reverse()\n",
    "l"
   ]
  },
  {
   "cell_type": "markdown",
   "metadata": {},
   "source": [
    "## Sort\n",
    "Sort the element in a list."
   ]
  },
  {
   "cell_type": "code",
   "execution_count": 118,
   "metadata": {},
   "outputs": [
    {
     "data": {
      "text/plain": [
       "[1, 2, 3, 4, 5]"
      ]
     },
     "execution_count": 118,
     "metadata": {},
     "output_type": "execute_result"
    }
   ],
   "source": [
    "l = [3,1,2,4,5]\n",
    "l.sort()\n",
    "l"
   ]
  },
  {
   "cell_type": "code",
   "execution_count": 121,
   "metadata": {},
   "outputs": [
    {
     "data": {
      "text/plain": [
       "[5, 4, 3, 2, 1]"
      ]
     },
     "execution_count": 121,
     "metadata": {},
     "output_type": "execute_result"
    }
   ],
   "source": [
    "l.sort(reverse=True)\n",
    "l\n"
   ]
  },
  {
   "cell_type": "markdown",
   "metadata": {},
   "source": [
    "## List Comprehension"
   ]
  },
  {
   "cell_type": "code",
   "execution_count": 122,
   "metadata": {},
   "outputs": [
    {
     "data": {
      "text/plain": [
       "[2, 4, 6, 8]"
      ]
     },
     "execution_count": 122,
     "metadata": {},
     "output_type": "execute_result"
    }
   ],
   "source": [
    "[i for i in range(1,10) if i%2 == 0]"
   ]
  },
  {
   "cell_type": "code",
   "execution_count": 128,
   "metadata": {},
   "outputs": [
    {
     "data": {
      "text/plain": [
       "[[0, 1, 2, 3, 4, 5]]"
      ]
     },
     "execution_count": 128,
     "metadata": {},
     "output_type": "execute_result"
    }
   ],
   "source": [
    "[[j for j in range(6)] for i in range(1)]"
   ]
  },
  {
   "cell_type": "code",
   "execution_count": 129,
   "metadata": {},
   "outputs": [
    {
     "data": {
      "text/plain": [
       "[[0, 1, 2, 3, 4, 5], [0, 1, 2, 3, 4, 5]]"
      ]
     },
     "execution_count": 129,
     "metadata": {},
     "output_type": "execute_result"
    }
   ],
   "source": [
    "[[j for j in range(6)] for i in range(2)]"
   ]
  },
  {
   "cell_type": "code",
   "execution_count": 130,
   "metadata": {},
   "outputs": [
    {
     "data": {
      "text/plain": [
       "[[0, 1, 2, 3, 4, 5],\n",
       " [0, 1, 2, 3, 4, 5],\n",
       " [0, 1, 2, 3, 4, 5],\n",
       " [0, 1, 2, 3, 4, 5]]"
      ]
     },
     "execution_count": 130,
     "metadata": {},
     "output_type": "execute_result"
    }
   ],
   "source": [
    "[[j for j in range(6)] for i in range(4)]"
   ]
  },
  {
   "cell_type": "markdown",
   "metadata": {},
   "source": [
    "## Aliasing\n",
    "Change in X causes change in Y. To avoid that we create a new object with the same content."
   ]
  },
  {
   "cell_type": "code",
   "execution_count": 132,
   "metadata": {},
   "outputs": [
    {
     "name": "stdout",
     "output_type": "stream",
     "text": [
      "4472697152\n",
      "4472697152\n"
     ]
    }
   ],
   "source": [
    "x = [10, 20, 30, 40]\n",
    "print(id(x))\n",
    "\n",
    "y = x\n",
    "print(id(y))"
   ]
  },
  {
   "cell_type": "code",
   "execution_count": 135,
   "metadata": {},
   "outputs": [
    {
     "name": "stdout",
     "output_type": "stream",
     "text": [
      "[10, 20, 30, 40, 50, 77, 77] 4472601024\n",
      "[10, 20, 30, 40, 50] 4431542528\n"
     ]
    }
   ],
   "source": [
    "\"\"\"Change in X causes change in Y\"\"\"\n",
    "x.append(77)\n",
    "print(x, id(x))\n",
    "print(y, id(y))"
   ]
  },
  {
   "cell_type": "code",
   "execution_count": 136,
   "metadata": {},
   "outputs": [
    {
     "name": "stdout",
     "output_type": "stream",
     "text": [
      "[10, 20, 30, 40, 50, 77] 4472707392\n",
      "[10, 20, 30, 40, 50] 4472697152\n"
     ]
    }
   ],
   "source": [
    "\"\"\"create a new object with the same content\"\"\"\n",
    "x = [10, 20, 30, 40, 50]\n",
    "y = x[:]\n",
    "\n",
    "x.append(77)\n",
    "\n",
    "print(x, id(x))\n",
    "print(y, id(y))"
   ]
  },
  {
   "cell_type": "markdown",
   "metadata": {},
   "source": [
    "## Concatenation"
   ]
  },
  {
   "cell_type": "code",
   "execution_count": 137,
   "metadata": {},
   "outputs": [
    {
     "data": {
      "text/plain": [
       "[1, 2, 3, 55, 66, 77]"
      ]
     },
     "execution_count": 137,
     "metadata": {},
     "output_type": "execute_result"
    }
   ],
   "source": [
    "[1, 2, 3] + [55, 66, 77]"
   ]
  },
  {
   "cell_type": "markdown",
   "metadata": {},
   "source": [
    "## Repeatition"
   ]
  },
  {
   "cell_type": "code",
   "execution_count": 138,
   "metadata": {},
   "outputs": [
    {
     "data": {
      "text/plain": [
       "[1, 2, 3, 1, 2, 3, 1, 2, 3, 1, 2, 3, 1, 2, 3]"
      ]
     },
     "execution_count": 138,
     "metadata": {},
     "output_type": "execute_result"
    }
   ],
   "source": [
    "[1, 2, 3] * 5"
   ]
  },
  {
   "cell_type": "markdown",
   "metadata": {},
   "source": [
    "## Compare List"
   ]
  },
  {
   "cell_type": "code",
   "execution_count": 140,
   "metadata": {},
   "outputs": [
    {
     "data": {
      "text/plain": [
       "True"
      ]
     },
     "execution_count": 140,
     "metadata": {},
     "output_type": "execute_result"
    }
   ],
   "source": [
    "[1,2,3] == [1,2,3]"
   ]
  },
  {
   "cell_type": "code",
   "execution_count": 139,
   "metadata": {},
   "outputs": [
    {
     "data": {
      "text/plain": [
       "False"
      ]
     },
     "execution_count": 139,
     "metadata": {},
     "output_type": "execute_result"
    }
   ],
   "source": [
    "[1,2,3] == [3,2,1]"
   ]
  },
  {
   "cell_type": "markdown",
   "metadata": {},
   "source": [
    "# Tuples\n",
    "**Tuples (read-only lists)**: **Ordered Immutable** sequence of elements enclosed in square brackets `( )`.\n",
    "\n",
    "> Tuples are Lists only but Immutable.\n",
    "\n",
    "- Tuples are immutable ***Ordered Immutable Sequence*** and since Immutable we can't mutate them and if reassign the same identifier then their `Memory adress changes`.\n",
    "- Tuples are `Ordered` so `Indexable` and hence `Sliceable`.\n",
    "- Tuples allow Python functions two return more than one output.\n",
    "- Allows **Duplicate** and **Heterogenous** Elements.\n",
    "- Comprehension concept like List Comprehension doesn't work in tuples."
   ]
  },
  {
   "cell_type": "code",
   "execution_count": 153,
   "metadata": {},
   "outputs": [
    {
     "ename": "TypeError",
     "evalue": "'tuple' object does not support item assignment",
     "output_type": "error",
     "traceback": [
      "\u001b[0;31m---------------------------------------------------------------------------\u001b[0m",
      "\u001b[0;31mTypeError\u001b[0m                                 Traceback (most recent call last)",
      "Cell \u001b[0;32mIn[153], line 3\u001b[0m\n\u001b[1;32m      1\u001b[0m \u001b[38;5;124;03m\"\"\"Tuples are Immutable\"\"\"\u001b[39;00m\n\u001b[1;32m      2\u001b[0m numbers \u001b[38;5;241m=\u001b[39m (\u001b[38;5;241m2\u001b[39m,\u001b[38;5;241m3\u001b[39m,\u001b[38;5;241m4\u001b[39m,\u001b[38;5;241m5\u001b[39m)\n\u001b[0;32m----> 3\u001b[0m \u001b[43mnumbers\u001b[49m\u001b[43m[\u001b[49m\u001b[38;5;241;43m0\u001b[39;49m\u001b[43m]\u001b[49m \u001b[38;5;241m=\u001b[39m \u001b[38;5;241m999\u001b[39m\n",
      "\u001b[0;31mTypeError\u001b[0m: 'tuple' object does not support item assignment"
     ]
    }
   ],
   "source": [
    "\"\"\"Tuples are Immutable\"\"\"\n",
    "numbers = (2,3,4,5)\n",
    "numbers[0] = 999"
   ]
  },
  {
   "cell_type": "code",
   "execution_count": 142,
   "metadata": {},
   "outputs": [
    {
     "name": "stdout",
     "output_type": "stream",
     "text": [
      "(1, 2, 3, 55, 66, 77)\n",
      "(1, 2, 3, 1, 2, 3, 1, 2, 3, 1, 2, 3)\n"
     ]
    }
   ],
   "source": [
    "print((1, 2, 3) + (55, 66, 77))\n",
    "print((1, 2, 3) * 4)"
   ]
  },
  {
   "cell_type": "code",
   "execution_count": 143,
   "metadata": {},
   "outputs": [
    {
     "data": {
      "text/plain": [
       "2"
      ]
     },
     "execution_count": 143,
     "metadata": {},
     "output_type": "execute_result"
    }
   ],
   "source": [
    "(32, 22, 45, 21).index(45)"
   ]
  },
  {
   "cell_type": "code",
   "execution_count": 144,
   "metadata": {},
   "outputs": [
    {
     "ename": "ValueError",
     "evalue": "tuple.index(x): x not in tuple",
     "output_type": "error",
     "traceback": [
      "\u001b[0;31m---------------------------------------------------------------------------\u001b[0m",
      "\u001b[0;31mValueError\u001b[0m                                Traceback (most recent call last)",
      "Cell \u001b[0;32mIn[144], line 1\u001b[0m\n\u001b[0;32m----> 1\u001b[0m \u001b[43m(\u001b[49m\u001b[38;5;241;43m32\u001b[39;49m\u001b[43m,\u001b[49m\u001b[43m \u001b[49m\u001b[38;5;241;43m22\u001b[39;49m\u001b[43m,\u001b[49m\u001b[43m \u001b[49m\u001b[38;5;241;43m45\u001b[39;49m\u001b[43m,\u001b[49m\u001b[43m \u001b[49m\u001b[38;5;241;43m21\u001b[39;49m\u001b[43m)\u001b[49m\u001b[38;5;241;43m.\u001b[39;49m\u001b[43mindex\u001b[49m\u001b[43m(\u001b[49m\u001b[38;5;241;43m555\u001b[39;49m\u001b[43m)\u001b[49m\n",
      "\u001b[0;31mValueError\u001b[0m: tuple.index(x): x not in tuple"
     ]
    }
   ],
   "source": [
    "(32, 22, 45, 21).index(555)"
   ]
  },
  {
   "cell_type": "code",
   "execution_count": 145,
   "metadata": {},
   "outputs": [
    {
     "data": {
      "text/plain": [
       "1"
      ]
     },
     "execution_count": 145,
     "metadata": {},
     "output_type": "execute_result"
    }
   ],
   "source": [
    "(32, 22, 45, 21).count(22)"
   ]
  },
  {
   "cell_type": "markdown",
   "metadata": {},
   "source": [
    "## Packing and Unpacking"
   ]
  },
  {
   "cell_type": "code",
   "execution_count": 154,
   "metadata": {},
   "outputs": [
    {
     "data": {
      "text/plain": [
       "(10, 'A', 30, 33.8)"
      ]
     },
     "execution_count": 154,
     "metadata": {},
     "output_type": "execute_result"
    }
   ],
   "source": [
    "\"\"\"Packing\"\"\"\n",
    "a = 10\n",
    "b = \"A\"\n",
    "c = 30\n",
    "d = 33.8\n",
    "t = a,b,c,d\n",
    "t"
   ]
  },
  {
   "cell_type": "code",
   "execution_count": 155,
   "metadata": {},
   "outputs": [
    {
     "data": {
      "text/plain": [
       "(10, 'A', 30, 33.8)"
      ]
     },
     "execution_count": 155,
     "metadata": {},
     "output_type": "execute_result"
    }
   ],
   "source": [
    "\"\"\"Unpacking\"\"\"\n",
    "a,b,c,d = t\n",
    "a,b,c,d"
   ]
  },
  {
   "cell_type": "markdown",
   "metadata": {},
   "source": [
    "# Sets\n",
    "**Sets**: **Un-Ordered Mmutable** sequence of elements enclosed in square brackets `{}`.\n",
    "\n",
    "- Sets are `Un-Ordered` so `Not-Indexable` and hence `Not-Sliceable`.\n",
    "- Sets are mutable since on mutating the list the `memory address` remains the same.\n",
    "- Doesn't allows **Duplicate Elements** but allows **Heterogenous** Elements."
   ]
  },
  {
   "cell_type": "code",
   "execution_count": 149,
   "metadata": {},
   "outputs": [
    {
     "data": {
      "text/plain": [
       "{1, 2, 3, 'A'}"
      ]
     },
     "execution_count": 149,
     "metadata": {},
     "output_type": "execute_result"
    }
   ],
   "source": [
    "set([1,2,3,\"A\"])"
   ]
  },
  {
   "cell_type": "code",
   "execution_count": 150,
   "metadata": {},
   "outputs": [
    {
     "data": {
      "text/plain": [
       "{1, 2, 3, 'A'}"
      ]
     },
     "execution_count": 150,
     "metadata": {},
     "output_type": "execute_result"
    }
   ],
   "source": [
    "{1,2,3,\"A\"}"
   ]
  },
  {
   "cell_type": "markdown",
   "metadata": {},
   "source": [
    "## No duplicate elements"
   ]
  },
  {
   "cell_type": "code",
   "execution_count": 156,
   "metadata": {},
   "outputs": [
    {
     "data": {
      "text/plain": [
       "['S', 'u', 'b', 'r', 'a', 't', 'a']"
      ]
     },
     "execution_count": 156,
     "metadata": {},
     "output_type": "execute_result"
    }
   ],
   "source": [
    "name_words = list(\"Subrata\")\n",
    "name_words"
   ]
  },
  {
   "cell_type": "code",
   "execution_count": 157,
   "metadata": {},
   "outputs": [
    {
     "data": {
      "text/plain": [
       "{'S', 'a', 'b', 'r', 't', 'u'}"
      ]
     },
     "execution_count": 157,
     "metadata": {},
     "output_type": "execute_result"
    }
   ],
   "source": [
    "set(name_words)"
   ]
  },
  {
   "cell_type": "code",
   "execution_count": 158,
   "metadata": {},
   "outputs": [
    {
     "data": {
      "text/plain": [
       "{3, 4}"
      ]
     },
     "execution_count": 158,
     "metadata": {},
     "output_type": "execute_result"
    }
   ],
   "source": [
    "set([3,3,3,3,3,4,4,4])"
   ]
  },
  {
   "cell_type": "markdown",
   "metadata": {},
   "source": [
    "## add"
   ]
  },
  {
   "cell_type": "code",
   "execution_count": 164,
   "metadata": {},
   "outputs": [
    {
     "data": {
      "text/plain": [
       "set()"
      ]
     },
     "execution_count": 164,
     "metadata": {},
     "output_type": "execute_result"
    }
   ],
   "source": [
    "s = set()\n",
    "s"
   ]
  },
  {
   "cell_type": "code",
   "execution_count": 165,
   "metadata": {},
   "outputs": [
    {
     "data": {
      "text/plain": [
       "{5}"
      ]
     },
     "execution_count": 165,
     "metadata": {},
     "output_type": "execute_result"
    }
   ],
   "source": [
    "s.add(5)\n",
    "s"
   ]
  },
  {
   "cell_type": "code",
   "execution_count": 166,
   "metadata": {},
   "outputs": [
    {
     "data": {
      "text/plain": [
       "{5, 99}"
      ]
     },
     "execution_count": 166,
     "metadata": {},
     "output_type": "execute_result"
    }
   ],
   "source": [
    "s.add(99)\n",
    "s"
   ]
  },
  {
   "cell_type": "markdown",
   "metadata": {},
   "source": [
    "## Update"
   ]
  },
  {
   "cell_type": "code",
   "execution_count": 172,
   "metadata": {},
   "outputs": [],
   "source": [
    "numbers = {1,2,3,4,5}\n",
    "b = {66,44}\n",
    "\n",
    "numbers.update(b)"
   ]
  },
  {
   "cell_type": "code",
   "execution_count": 173,
   "metadata": {},
   "outputs": [
    {
     "name": "stdout",
     "output_type": "stream",
     "text": [
      "{66, 44}\n",
      "{1, 2, 3, 4, 5, 66, 44}\n"
     ]
    }
   ],
   "source": [
    "print(b)\n",
    "print(numbers)"
   ]
  },
  {
   "cell_type": "markdown",
   "metadata": {},
   "source": [
    "## Pop\n",
    "Since sets are unordered any random element would be reoved"
   ]
  },
  {
   "cell_type": "code",
   "execution_count": 175,
   "metadata": {},
   "outputs": [
    {
     "data": {
      "text/plain": [
       "1"
      ]
     },
     "execution_count": 175,
     "metadata": {},
     "output_type": "execute_result"
    }
   ],
   "source": [
    "s = {1,2,3,4}\n",
    "s.pop()"
   ]
  },
  {
   "cell_type": "markdown",
   "metadata": {},
   "source": [
    "## Remove"
   ]
  },
  {
   "cell_type": "code",
   "execution_count": 176,
   "metadata": {},
   "outputs": [],
   "source": [
    "s = {1,2,3,4}\n",
    "s.remove(3)"
   ]
  },
  {
   "cell_type": "code",
   "execution_count": 177,
   "metadata": {},
   "outputs": [
    {
     "data": {
      "text/plain": [
       "{1, 2, 4}"
      ]
     },
     "execution_count": 177,
     "metadata": {},
     "output_type": "execute_result"
    }
   ],
   "source": [
    "s"
   ]
  },
  {
   "cell_type": "markdown",
   "metadata": {},
   "source": [
    "## Union"
   ]
  },
  {
   "cell_type": "code",
   "execution_count": 178,
   "metadata": {},
   "outputs": [
    {
     "data": {
      "text/plain": [
       "{4, 5, 6, 7, 8, 9}"
      ]
     },
     "execution_count": 178,
     "metadata": {},
     "output_type": "execute_result"
    }
   ],
   "source": [
    "a = set([4,5,6,7])\n",
    "b= set([6,7,8,9])\n",
    "\n",
    "a.union(b)"
   ]
  },
  {
   "cell_type": "markdown",
   "metadata": {},
   "source": [
    "## Intersection"
   ]
  },
  {
   "cell_type": "code",
   "execution_count": 179,
   "metadata": {},
   "outputs": [
    {
     "data": {
      "text/plain": [
       "{6, 7}"
      ]
     },
     "execution_count": 179,
     "metadata": {},
     "output_type": "execute_result"
    }
   ],
   "source": [
    "a = set([4,5,6,7])\n",
    "b= set([6,7,8,9])\n",
    "\n",
    "a.intersection(b)"
   ]
  },
  {
   "cell_type": "markdown",
   "metadata": {},
   "source": [
    "## Difference"
   ]
  },
  {
   "cell_type": "code",
   "execution_count": 180,
   "metadata": {},
   "outputs": [
    {
     "data": {
      "text/plain": [
       "{4, 5}"
      ]
     },
     "execution_count": 180,
     "metadata": {},
     "output_type": "execute_result"
    }
   ],
   "source": [
    "a.difference(b)"
   ]
  },
  {
   "cell_type": "markdown",
   "metadata": {},
   "source": [
    "## Symmetric Difference\n",
    " The symmetric difference of two sets is the set of elements that are in either of the sets, but not in both (intersection). "
   ]
  },
  {
   "cell_type": "code",
   "execution_count": 181,
   "metadata": {},
   "outputs": [
    {
     "data": {
      "text/plain": [
       "{4, 5, 8, 9}"
      ]
     },
     "execution_count": 181,
     "metadata": {},
     "output_type": "execute_result"
    }
   ],
   "source": [
    "a.symmetric_difference(b)"
   ]
  },
  {
   "cell_type": "markdown",
   "metadata": {},
   "source": [
    "## Comprehension"
   ]
  },
  {
   "cell_type": "code",
   "execution_count": 182,
   "metadata": {},
   "outputs": [
    {
     "data": {
      "text/plain": [
       "<generator object <genexpr> at 0x10aa88040>"
      ]
     },
     "execution_count": 182,
     "metadata": {},
     "output_type": "execute_result"
    }
   ],
   "source": [
    "even_set = (i for i in range(5,20) if i%2 == 0)\n",
    "even_set"
   ]
  },
  {
   "cell_type": "code",
   "execution_count": 184,
   "metadata": {},
   "outputs": [
    {
     "data": {
      "text/plain": [
       "[6, 8, 10, 12, 14, 16, 18]"
      ]
     },
     "execution_count": 184,
     "metadata": {},
     "output_type": "execute_result"
    }
   ],
   "source": [
    "list(even_set)"
   ]
  },
  {
   "cell_type": "code",
   "execution_count": null,
   "metadata": {},
   "outputs": [],
   "source": []
  },
  {
   "cell_type": "code",
   "execution_count": null,
   "metadata": {},
   "outputs": [],
   "source": []
  }
 ],
 "metadata": {
  "kernelspec": {
   "display_name": "Python 3",
   "language": "python",
   "name": "python3"
  },
  "language_info": {
   "codemirror_mode": {
    "name": "ipython",
    "version": 3
   },
   "file_extension": ".py",
   "mimetype": "text/x-python",
   "name": "python",
   "nbconvert_exporter": "python",
   "pygments_lexer": "ipython3",
   "version": "3.11.7"
  }
 },
 "nbformat": 4,
 "nbformat_minor": 2
}
