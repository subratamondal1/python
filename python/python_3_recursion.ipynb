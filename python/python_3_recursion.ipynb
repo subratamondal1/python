{
 "cells": [
  {
   "cell_type": "markdown",
   "metadata": {},
   "source": [
    "# Recursion"
   ]
  },
  {
   "cell_type": "markdown",
   "metadata": {},
   "source": [
    "Recursion is a programming technique where a function calls itself with a smaller or simpler version of the original problem until it reaches a base case (a condition where the problem can be solved without further recursion). It's a powerful concept that allows us to solve complex problems by breaking them down into smaller subproblems of the same kind.\n",
    "\n",
    "1. **Base Case (Small I/P, can be answered Directly)**: The base case is the condition that stops the recursion from continuing indefinitely. It's the simplest or most trivial case of the problem, where the `solution is known or can be directly calculated without further recursion`. The base case acts as the exit point of the recursive function.\n",
    "\n",
    "2. **Recursive Case**: The recursive case is where the function calls itself with a smaller or simpler version of the problem. This is the part where the recursion happens, and the problem is broken down into smaller subproblems of the same kind.\n",
    "\n",
    "3. **Recursive Call**: In the recursive case, the function makes one or more recursive calls to itself, passing in the smaller or simpler version of the problem as arguments.\n",
    "\n",
    "4. **Convergence**: For the recursion to work correctly, the recursive calls must converge towards the base case. This means that with each recursive call, the problem should become smaller and closer to the base case. If the recursive calls don't converge, the function will run indefinitely, leading to a stack overflow error.\n",
    "\n",
    "## Properties of Recursion:\n",
    "\n",
    "1. **Recursive Function**: A recursive function is a function that calls itself, either directly or indirectly.\n",
    "2. **Base Case**: The base case is the condition that stops the recursion, ensuring that the function doesn't continue indefinitely.\n",
    "3. **Recursive Case**: The recursive case is the part where the function calls itself with a smaller or simpler version of the problem.\n",
    "4. **Stack Usage**: Recursive functions use the call stack to keep track of the function calls and their arguments. Each recursive call adds a new frame to the stack, and when the base case is reached, the frames are unwound, and the final result is calculated.\n",
    "5. **Depth of Recursion**: The depth of recursion refers to the number of recursive calls made before reaching the base case. The depth is limited by the maximum call stack size, which can lead to a stack overflow error if the recursion goes too deep.\n",
    "\n",
    "> ⭐️ Recursion has atleast two cases (1) if-block (Base Case) (2) else-block (Recursive Case).\n",
    "```python\n",
    "if (condition):\n",
    "    Base Case\n",
    "    1. small input\n",
    "    2. can be calculated directly\n",
    "    3. no recursion is needed\n",
    "else:\n",
    "    Recursive Case\n",
    "    1. large input\n",
    "    2. can't be calculated directly\n",
    "    3. recursion is needed\n",
    "```\n",
    "\n",
    "\n",
    "**Base Case (Small I/P, can be answered Directly)**: This is the part where the problem can be solved directly without further recursion. It's usually implemented as an `if` condition that checks for the simplest or trivial case of the problem. If the condition is met, the function returns the solution without making any recursive calls.\n",
    "\n",
    "**Recursive Case (Large I/P, can't be answered Directly, Recursion is Needed)**: This is the part where the recursion occurs. It's usually implemented as an `else` block following the base case. In the recursive case, the function calls itself with a smaller or simpler version of the problem, breaking it down into smaller subproblems of the same kind.\n",
    "\n",
    "By combining the base case and the recursive case, the recursive function can solve complex problems by breaking them down into simpler subproblems until the base case is reached. The recursive calls continue until the base case is satisfied, at which point the function returns the solution, and the call stack is unwound, propagating the result back up the chain of recursive calls.\n",
    "\n",
    "It's important to note that while recursion can be a powerful and elegant solution for certain problems, it can also be less efficient than iterative solutions in terms of memory usage and performance, especially for large problems or deep recursion depths. Additionally, recursive functions can lead to stack overflow errors if the recursion depth exceeds the maximum call stack size."
   ]
  },
  {
   "cell_type": "markdown",
   "metadata": {},
   "source": [
    "**1. Print string 'n' times.**\n",
    "```python\n",
    "i/p: n -> n>= 1\n",
    "\n",
    "if n == 1 then print 'subrata'\n",
    "\n",
    "if n == 3 then print 'subratasubratasubrata'\n",
    "```"
   ]
  },
  {
   "cell_type": "code",
   "execution_count": 11,
   "metadata": {},
   "outputs": [
    {
     "name": "stdout",
     "output_type": "stream",
     "text": [
      "Subrata10\n",
      "Subrata10\n",
      "Subrata10\n",
      "Subrata10\n",
      "Subrata\n"
     ]
    }
   ],
   "source": [
    "def print_string_n_times(n:int) -> None:\n",
    "    if n == 1:\n",
    "        print(\"Subrata\")\n",
    "    else:\n",
    "        print(\"Subrata10\")\n",
    "        print_string_n_times(n=n-1)\n",
    "\n",
    "print_string_n_times(n=5)"
   ]
  },
  {
   "cell_type": "markdown",
   "metadata": {},
   "source": [
    "**2. Print sum of digits.**\n",
    "```python\n",
    "i/p: n -> n>=0\n",
    "if n == 1 then print 1\n",
    "if n == 8 then print 8\n",
    "if n == 10 then print 1+0 = 1\n",
    "if n == 111 then print 1+1+1 = 3\n",
    "if n == 2435 then print 2+4+3+5 = 14\n",
    "```"
   ]
  },
  {
   "cell_type": "code",
   "execution_count": 34,
   "metadata": {},
   "outputs": [
    {
     "data": {
      "text/plain": [
       "14"
      ]
     },
     "execution_count": 34,
     "metadata": {},
     "output_type": "execute_result"
    }
   ],
   "source": [
    "def print_sum_of_digits(n:int) -> int:\n",
    "    if n < 10:\n",
    "        return n\n",
    "    else:\n",
    "        return n%10 + print_sum_of_digits(n=n//10)\n",
    "\n",
    "print_sum_of_digits(n=2345)"
   ]
  },
  {
   "cell_type": "markdown",
   "metadata": {},
   "source": [
    "**3. Print $a^n$**\n",
    "\n",
    "```python\n",
    "i/p: a,n -> n>=1\n",
    "if a = 2, n=4 then 2^4 = 2*2*2*2 = 16\n",
    "if a = 4, n=6 then 4^6 = 4*4*4*4*4*4 = 16\n",
    "\n",
    "```"
   ]
  },
  {
   "cell_type": "code",
   "execution_count": 40,
   "metadata": {},
   "outputs": [
    {
     "data": {
      "text/plain": [
       "4096"
      ]
     },
     "execution_count": 40,
     "metadata": {},
     "output_type": "execute_result"
    }
   ],
   "source": [
    "def printa_to_the_power_n(a:int, n:int):\n",
    "    if n == 1:\n",
    "        return a # a^1 = 'a' itself\n",
    "    else:\n",
    "        return a * printa_to_the_power_n(a=a, n=n-1)\n",
    "\n",
    "printa_to_the_power_n(a=4, n=6)"
   ]
  },
  {
   "cell_type": "markdown",
   "metadata": {},
   "source": [
    "**4. Convert Decimal to Binary with Recursion.**"
   ]
  },
  {
   "cell_type": "code",
   "execution_count": null,
   "metadata": {},
   "outputs": [],
   "source": []
  },
  {
   "cell_type": "markdown",
   "metadata": {},
   "source": [
    "**5. Perform Addition with Recursion.**"
   ]
  },
  {
   "cell_type": "code",
   "execution_count": null,
   "metadata": {},
   "outputs": [],
   "source": []
  },
  {
   "cell_type": "markdown",
   "metadata": {},
   "source": [
    "**6. Perform Multiplication with Recursion.**"
   ]
  },
  {
   "cell_type": "code",
   "execution_count": null,
   "metadata": {},
   "outputs": [],
   "source": []
  },
  {
   "cell_type": "code",
   "execution_count": null,
   "metadata": {},
   "outputs": [],
   "source": []
  },
  {
   "cell_type": "code",
   "execution_count": null,
   "metadata": {},
   "outputs": [],
   "source": []
  }
 ],
 "metadata": {
  "kernelspec": {
   "display_name": "Python 3",
   "language": "python",
   "name": "python3"
  },
  "language_info": {
   "codemirror_mode": {
    "name": "ipython",
    "version": 3
   },
   "file_extension": ".py",
   "mimetype": "text/x-python",
   "name": "python",
   "nbconvert_exporter": "python",
   "pygments_lexer": "ipython3",
   "version": "3.11.7"
  }
 },
 "nbformat": 4,
 "nbformat_minor": 2
}
