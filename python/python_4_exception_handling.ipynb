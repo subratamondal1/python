{
 "cells": [
  {
   "cell_type": "markdown",
   "metadata": {},
   "source": [
    "# Exception"
   ]
  },
  {
   "cell_type": "markdown",
   "metadata": {},
   "source": [
    "Exception handling is a mechanism in Python that allows you to handle and manage errors or exceptional situations that may occur during the execution of a program. It helps you write more robust and reliable code by providing a way to gracefully handle exceptions and prevent program crashes.\n",
    "\n",
    "Python provides several built-in exceptions, but you can also create your own custom exceptions to handle specific situations in your code.\n",
    "\n",
    "## Built-in Exceptions\n",
    "Python comes with a set of built-in exceptions that cover a wide range of error situations. Some common examples include:\n",
    "\n",
    "- `ValueError`: Raised when an operation or function receives an argument of the right type but an inappropriate value.\n",
    "- `TypeError`: Raised when an operation or function is applied to an object of an inappropriate type.\n",
    "- `ZeroDivisionError`: Raised when you try to divide a number by zero.\n",
    "- `ImportError`: Raised when an imported module or package cannot be found.\n",
    "- `KeyError`: Raised when a key is not found in a dictionary or other mapping object.\n",
    "\n",
    "## Exception Handling with `try...except`\n",
    "To handle exceptions in Python, you use the `try` and `except` statements. The `try` block contains the code that might raise an exception, and the `except` block contains the code that handles the exception."
   ]
  },
  {
   "cell_type": "code",
   "execution_count": 1,
   "metadata": {},
   "outputs": [
    {
     "name": "stdout",
     "output_type": "stream",
     "text": [
      "Error: Division by zero\n"
     ]
    }
   ],
   "source": [
    "try:\n",
    "    # Code that might raise an exception\n",
    "    result = 10 / 0\n",
    "except ZeroDivisionError:\n",
    "    # Code to handle the exception\n",
    "    print(\"Error: Division by zero\")"
   ]
  },
  {
   "cell_type": "markdown",
   "metadata": {},
   "source": [
    "## Creating Your Own Exception\n",
    "Python allows you to create your own custom exceptions by defining new exception classes. These custom exceptions should inherit from the built-in `Exception` class or one of its subclasses."
   ]
  },
  {
   "cell_type": "code",
   "execution_count": 5,
   "metadata": {},
   "outputs": [
    {
     "name": "stdout",
     "output_type": "stream",
     "text": [
      "Error: This is a custom exception\n"
     ]
    }
   ],
   "source": [
    "class CustomException(Exception):\n",
    "    \"\"\"Custom exception for specific situations\"\"\"\n",
    "    pass\n",
    "\n",
    "try:\n",
    "    # Code that might raise the custom exception\n",
    "    raise CustomException(\"This is a custom exception\")\n",
    "except CustomException as e:\n",
    "    # Code to handle the custom exception\n",
    "    print(f\"Error: {e}\")"
   ]
  },
  {
   "cell_type": "markdown",
   "metadata": {},
   "source": [
    "Exception handling and creating custom exceptions are essential for writing robust and maintainable code in Python. Built-in exceptions cover many common error situations, but creating your own custom exceptions allows you to handle specific situations that are unique to your application or domain."
   ]
  },
  {
   "cell_type": "code",
   "execution_count": 3,
   "metadata": {},
   "outputs": [
    {
     "name": "stdout",
     "output_type": "stream",
     "text": [
      "Error: Value 100 is higher than the maximum value 50\n"
     ]
    }
   ],
   "source": [
    "class ValueTooHighError(Exception):\n",
    "    \"\"\"Exception raised when a value is too high\"\"\"\n",
    "\n",
    "    def __init__(self, value, max_value):\n",
    "        self.value:float = value\n",
    "        self.max_value:float = max_value\n",
    "\n",
    "try:\n",
    "    value = 100\n",
    "    max_value = 50\n",
    "    if value > max_value:\n",
    "        raise ValueTooHighError(value=value, max_value=max_value)\n",
    "except ValueTooHighError as e:\n",
    "    print(f\"Error: Value {e.value} is higher than the maximum value {e.max_value}\")"
   ]
  }
 ],
 "metadata": {
  "kernelspec": {
   "display_name": "Python 3",
   "language": "python",
   "name": "python3"
  },
  "language_info": {
   "codemirror_mode": {
    "name": "ipython",
    "version": 3
   },
   "file_extension": ".py",
   "mimetype": "text/x-python",
   "name": "python",
   "nbconvert_exporter": "python",
   "pygments_lexer": "ipython3",
   "version": "3.11.7"
  }
 },
 "nbformat": 4,
 "nbformat_minor": 2
}
